{
  "cells": [
    {
      "cell_type": "markdown",
      "metadata": {
        "id": "view-in-github",
        "colab_type": "text"
      },
      "source": [
        "<a href=\"https://colab.research.google.com/github/madisonherrmann/neural_network/blob/main/Final_project.ipynb\" target=\"_parent\"><img src=\"https://colab.research.google.com/assets/colab-badge.svg\" alt=\"Open In Colab\"/></a>"
      ]
    },
    {
      "cell_type": "code",
      "execution_count": null,
      "metadata": {
        "colab": {
          "base_uri": "https://localhost:8080/"
        },
        "id": "z7cowMtyQUhL",
        "outputId": "a5542337-d54c-4f77-f50a-4295fd59787d"
      },
      "outputs": [
        {
          "output_type": "stream",
          "name": "stdout",
          "text": [
            "Drive already mounted at /content/gdrive; to attempt to forcibly remount, call drive.mount(\"/content/gdrive\", force_remount=True).\n"
          ]
        }
      ],
      "source": [
        "from google.colab import drive\n",
        "\n",
        "drive.mount('/content/gdrive')"
      ]
    },
    {
      "cell_type": "code",
      "execution_count": null,
      "metadata": {
        "colab": {
          "base_uri": "https://localhost:8080/"
        },
        "id": "guw97frTQU-a",
        "outputId": "4d16fc46-678e-4a66-f90b-f65a106c1d99"
      },
      "outputs": [
        {
          "output_type": "stream",
          "name": "stdout",
          "text": [
            "/content/gdrive/MyDrive/Colab\n"
          ]
        }
      ],
      "source": [
        "%cd /content/gdrive/MyDrive/Colab"
      ]
    },
    {
      "cell_type": "code",
      "execution_count": null,
      "metadata": {
        "id": "J8aVaNgonMEg"
      },
      "outputs": [],
      "source": [
        "import numpy as np  #Provides numpy arrays and methods\n",
        "import pandas as pd #Provides data frames\n",
        "import seaborn as sns\n",
        "\n",
        "#Tensorflow\n",
        "\n",
        "import tensorflow as tf #Tensorflor and Keras libraries\n",
        "from tensorflow.keras.layers import Input, Dense, Dropout, concatenate   #Types of layers we will need\n",
        "from tensorflow.keras.models import Model, load_model  #Functions to build and load models\n",
        "from tensorflow.keras.utils import to_categorical, Sequence\n",
        "from tensorflow.keras.optimizers import Adam\n",
        "from tensorflow.keras.callbacks import EarlyStopping\n",
        "from tensorflow.keras.metrics import Accuracy, Precision, Recall, CategoricalAccuracy\n",
        "\n",
        "#For visualization / analysis\n",
        "\n",
        "import matplotlib.pyplot as plt #Plotting functions\n",
        "\n",
        "#Below is for doing some analysis in Python\n",
        "\n",
        "import scipy.cluster.hierarchy as shc #Python function for hierarchical clustering\n",
        "from sklearn.manifold import MDS  #Python function for multidimensional scaling\n",
        "from sklearn.feature_extraction.text import TfidfVectorizer\n",
        "from sklearn.model_selection import train_test_split\n",
        "from sklearn.metrics import classification_report, confusion_matrix\n",
        "from sklearn.utils import class_weight"
      ]
    },
    {
      "cell_type": "code",
      "execution_count": null,
      "metadata": {
        "id": "QnXWGDOUQC79"
      },
      "outputs": [],
      "source": [
        "file_path = '/content/gdrive/MyDrive/Colab'\n",
        "df = pd.read_csv('text_mood.csv')\n",
        "df = df.iloc[:, 1:]"
      ]
    },
    {
      "cell_type": "code",
      "execution_count": null,
      "metadata": {
        "colab": {
          "base_uri": "https://localhost:8080/"
        },
        "id": "di3uI-XnSzOA",
        "outputId": "ce86cadf-5e2b-45dd-c30e-9f83c536b5f6"
      },
      "outputs": [
        {
          "name": "stdout",
          "output_type": "stream",
          "text": [
            "                                                text  label\n",
            "0      i just feel really helpless and heavy hearted      4\n",
            "1  ive enjoyed being able to slouch about relax a...      0\n",
            "2  i gave up my internship with the dmrg and am f...      4\n",
            "3                         i dont know i feel so lost      0\n",
            "4  i am a kindergarten teacher and i am thoroughl...      4\n"
          ]
        }
      ],
      "source": [
        "print(df.head())"
      ]
    },
    {
      "cell_type": "code",
      "execution_count": null,
      "metadata": {
        "colab": {
          "base_uri": "https://localhost:8080/"
        },
        "id": "JEvuFa1fVzQi",
        "outputId": "15648200-195a-47e5-d55f-d99cc2c73351"
      },
      "outputs": [
        {
          "output_type": "stream",
          "name": "stdout",
          "text": [
            "                                                     text  label   emotion\n",
            "0           i just feel really helpless and heavy hearted      4      fear\n",
            "1       ive enjoyed being able to slouch about relax a...      0   sadness\n",
            "2       i gave up my internship with the dmrg and am f...      4      fear\n",
            "3                              i dont know i feel so lost      0   sadness\n",
            "4       i am a kindergarten teacher and i am thoroughl...      4      fear\n",
            "...                                                   ...    ...       ...\n",
            "416804  i feel like telling these horny devils to find...      2      love\n",
            "416805  i began to realize that when i was feeling agi...      3     anger\n",
            "416806  i feel very curious be why previous early dawn...      5  surprise\n",
            "416807  i feel that becuase of the tyranical nature of...      3     anger\n",
            "416808  i think that after i had spent some time inves...      5  surprise\n",
            "\n",
            "[416809 rows x 3 columns]\n"
          ]
        }
      ],
      "source": [
        "emotion_mapping = {\n",
        "    0: 'sadness',\n",
        "    1: 'joy',\n",
        "    2: 'love',\n",
        "    3: 'anger',\n",
        "    4: 'fear',\n",
        "    5: 'surprise'\n",
        "}\n",
        "\n",
        "df['emotion'] = df['label'].map(emotion_mapping)\n",
        "\n",
        "print(df)"
      ]
    },
    {
      "cell_type": "code",
      "execution_count": null,
      "metadata": {
        "id": "YTNgiKHX_dkf"
      },
      "outputs": [],
      "source": [
        "emotion_counts = df['emotion'].value_counts()"
      ]
    },
    {
      "cell_type": "code",
      "execution_count": null,
      "metadata": {
        "colab": {
          "base_uri": "https://localhost:8080/",
          "height": 523
        },
        "id": "eHa7SPr9Egwf",
        "outputId": "8867d729-76da-4db0-adf4-728f85010359"
      },
      "outputs": [
        {
          "data": {
            "image/png": "[encoded data removed]",
            "text/plain": [
              "<Figure size 800x500 with 1 Axes>"
            ]
          },
          "metadata": {},
          "output_type": "display_data"
        }
      ],
      "source": [
        "# Create a bar plot\n",
        "plt.figure(figsize=(8, 5))\n",
        "emotion_counts.plot(kind='bar', color='skyblue')\n",
        "plt.title('Emotion Frequency')\n",
        "plt.xlabel('Emotions')\n",
        "plt.ylabel('Frequency')\n",
        "plt.xticks(rotation=45)  # Rotate the emotion labels for better readability\n",
        "plt.show()"
      ]
    },
    {
      "cell_type": "code",
      "execution_count": null,
      "metadata": {
        "colab": {
          "base_uri": "https://localhost:8080/"
        },
        "id": "_2fSJhO99TaJ",
        "outputId": "52c6e31b-3771-463d-babd-24f7ef428edf"
      },
      "outputs": [
        {
          "name": "stdout",
          "output_type": "stream",
          "text": [
            "text       object\n",
            "label       int64\n",
            "emotion    object\n",
            "dtype: object\n"
          ]
        }
      ],
      "source": [
        "print(df.dtypes)"
      ]
    },
    {
      "cell_type": "code",
      "execution_count": null,
      "metadata": {
        "id": "DjgTbToXs2_C"
      },
      "outputs": [],
      "source": [
        "path_to_file = '/content/gdrive/MyDrive/Colab/embeddings.npy'\n",
        "embeddings = np.load(path_to_file)\n"
      ]
    },
    {
      "cell_type": "code",
      "execution_count": null,
      "metadata": {
        "id": "XFjnwMdefgU2"
      },
      "outputs": [],
      "source": [
        "# Split data\n",
        "xtrn, xtst, ytrn, ytst = train_test_split(embeddings, df['label'], test_size=0.1, random_state=42)"
      ]
    },
    {
      "cell_type": "code",
      "execution_count": null,
      "metadata": {
        "colab": {
          "base_uri": "https://localhost:8080/"
        },
        "id": "tlJ0Q51uzEjK",
        "outputId": "bd8740a4-4c0b-41ea-cfb4-c4b7c60a01a9"
      },
      "outputs": [
        {
          "name": "stdout",
          "output_type": "stream",
          "text": [
            "Shape of train embeddings: (375128, 1536)\n",
            "Shape of test embeddings: (41681, 1536)\n",
            "Sample labels: 380657    1\n",
            "363775    0\n",
            "42951     2\n",
            "99105     1\n",
            "100297    4\n",
            "239569    0\n",
            "284571    1\n",
            "226205    0\n",
            "178898    0\n",
            "202312    1\n",
            "114295    2\n",
            "258559    0\n",
            "290851    0\n",
            "183670    3\n",
            "119329    2\n",
            "160113    1\n",
            "112722    1\n",
            "6302      1\n",
            "333483    1\n",
            "222582    1\n",
            "104429    0\n",
            "172875    1\n",
            "69083     1\n",
            "412033    4\n",
            "182517    0\n",
            "187042    3\n",
            "209937    1\n",
            "288460    0\n",
            "342892    0\n",
            "401139    0\n",
            "218262    1\n",
            "416270    3\n",
            "381817    4\n",
            "335720    0\n",
            "161907    0\n",
            "133146    3\n",
            "140660    1\n",
            "331869    0\n",
            "92873     1\n",
            "191342    5\n",
            "70951     0\n",
            "332687    0\n",
            "151096    4\n",
            "157301    1\n",
            "319304    4\n",
            "153959    0\n",
            "88102     1\n",
            "19916     3\n",
            "144109    3\n",
            "276330    0\n",
            "Name: label, dtype: int64\n",
            "Sample labels: 36130     0\n",
            "138065    0\n",
            "146440    3\n",
            "103337    0\n",
            "315528    1\n",
            "414303    2\n",
            "407867    1\n",
            "291389    1\n",
            "227948    5\n",
            "176638    0\n",
            "369473    3\n",
            "252952    0\n",
            "365397    4\n",
            "79012     1\n",
            "5948      0\n",
            "252161    2\n",
            "314970    4\n",
            "60923     0\n",
            "187359    1\n",
            "414256    5\n",
            "53564     5\n",
            "190309    4\n",
            "53275     2\n",
            "328997    0\n",
            "262960    1\n",
            "201461    0\n",
            "149185    1\n",
            "272454    3\n",
            "409155    0\n",
            "136938    0\n",
            "132893    1\n",
            "258769    0\n",
            "42035     1\n",
            "360006    0\n",
            "209005    4\n",
            "270337    1\n",
            "246535    0\n",
            "13598     1\n",
            "165537    0\n",
            "109092    0\n",
            "233184    2\n",
            "314812    0\n",
            "60508     1\n",
            "369563    0\n",
            "388916    3\n",
            "9782      3\n",
            "84628     4\n",
            "125783    1\n",
            "325224    0\n",
            "264629    4\n",
            "Name: label, dtype: int64\n"
          ]
        }
      ],
      "source": [
        "print(\"Shape of train embeddings:\", xtrn.shape)\n",
        "print(\"Shape of test embeddings:\", xtst.shape)\n",
        "print(\"Sample labels:\", ytrn[:50])\n",
        "print(\"Sample labels:\", ytst[:50])"
      ]
    },
    {
      "cell_type": "code",
      "execution_count": null,
      "metadata": {
        "id": "8xozVGpmAJZe"
      },
      "outputs": [],
      "source": [
        "ytrn = to_categorical(ytrn, num_classes=6)\n",
        "ytst = to_categorical(ytst, num_classes=6)"
      ]
    },
    {
      "cell_type": "code",
      "execution_count": null,
      "metadata": {
        "colab": {
          "base_uri": "https://localhost:8080/"
        },
        "id": "3H72J4dEpjE2",
        "outputId": "76c28930-cc7b-49ed-dca0-f26eb69d4122"
      },
      "outputs": [
        {
          "data": {
            "text/plain": [
              "array([0., 1.], dtype=float32)"
            ]
          },
          "execution_count": 11,
          "metadata": {},
          "output_type": "execute_result"
        }
      ],
      "source": [
        "np.unique(ytrn)\n",
        "np.unique(ytst)"
      ]
    },
    {
      "cell_type": "code",
      "execution_count": null,
      "metadata": {
        "id": "ZektVglAJUBE"
      },
      "outputs": [],
      "source": [
        "\n",
        "class_weights = {0: 1.,\n",
        "                1: 1.,\n",
        "                2: 4.,\n",
        "                3: 2.,\n",
        "                4: 3.,\n",
        "                5: 10.}\n"
      ]
    },
    {
      "cell_type": "code",
      "execution_count": null,
      "metadata": {
        "id": "I8i0NT0QiRL8"
      },
      "outputs": [],
      "source": [
        "class DataGenerator(Sequence):\n",
        "    def __init__(self, x_set, y_set, batch_size):\n",
        "        self.x, self.y = x_set, y_set\n",
        "        self.batch_size = batch_size\n",
        "        self.indices = np.arange(self.x.shape[0])\n",
        "\n",
        "    def __len__(self):\n",
        "        return int(np.ceil(len(self.x) / float(self.batch_size)))\n",
        "\n",
        "    def __getitem__(self, idx):\n",
        "        inds = self.indices[idx * self.batch_size:(idx + 1) * self.batch_size]\n",
        "        batch_x = self.x[inds]\n",
        "        batch_y = self.y[inds]\n",
        "        return batch_x, batch_y\n"
      ]
    },
    {
      "cell_type": "code",
      "execution_count": null,
      "metadata": {
        "colab": {
          "base_uri": "https://localhost:8080/"
        },
        "id": "jB1XOjkfGUo1",
        "outputId": "9746102d-48ab-4337-c3b4-b3e3e3ff294d"
      },
      "outputs": [
        {
          "output_type": "stream",
          "name": "stdout",
          "text": [
            "Model: \"emotion_model\"\n",
            "_________________________________________________________________\n",
            " Layer (type)                Output Shape              Param #   \n",
            "=================================================================\n",
            " input_layer (InputLayer)    [(None, 1536)]            0         \n",
            "                                                                 \n",
            " hidden_layer1 (Dense)       (None, 128)               196736    \n",
            "                                                                 \n",
            " dropout_4 (Dropout)         (None, 128)               0         \n",
            "                                                                 \n",
            " hidden_layer2 (Dense)       (None, 64)                8256      \n",
            "                                                                 \n",
            " dropout_5 (Dropout)         (None, 64)                0         \n",
            "                                                                 \n",
            " output_layer (Dense)        (None, 6)                 390       \n",
            "                                                                 \n",
            "=================================================================\n",
            "Total params: 205382 (802.27 KB)\n",
            "Trainable params: 205382 (802.27 KB)\n",
            "Non-trainable params: 0 (0.00 Byte)\n",
            "_________________________________________________________________\n",
            "Epoch 1/10\n",
            "11723/11723 [==============================] - 82s 7ms/step - loss: 4.4195 - accuracy: 0.0875 - val_loss: 1.8127 - val_accuracy: 0.0365\n",
            "Epoch 2/10\n",
            "11723/11723 [==============================] - 78s 7ms/step - loss: 3.4657 - accuracy: 0.0451 - val_loss: 1.8159 - val_accuracy: 0.0366\n",
            "Epoch 3/10\n",
            "11723/11723 [==============================] - 79s 7ms/step - loss: 3.4629 - accuracy: 0.0679 - val_loss: 1.7983 - val_accuracy: 0.3221\n",
            "Epoch 4/10\n",
            "11723/11723 [==============================] - 80s 7ms/step - loss: 3.4575 - accuracy: 0.0927 - val_loss: 1.8078 - val_accuracy: 0.0676\n",
            "Epoch 5/10\n",
            "11723/11723 [==============================] - 78s 7ms/step - loss: 3.4543 - accuracy: 0.1013 - val_loss: 1.8095 - val_accuracy: 0.0405\n",
            "Epoch 6/10\n",
            "11723/11723 [==============================] - 79s 7ms/step - loss: 3.4506 - accuracy: 0.0857 - val_loss: 1.8027 - val_accuracy: 0.0992\n",
            "Epoch 7/10\n",
            "11723/11723 [==============================] - 79s 7ms/step - loss: 3.4493 - accuracy: 0.0937 - val_loss: 1.8021 - val_accuracy: 0.0566\n",
            "Epoch 8/10\n",
            "11723/11723 [==============================] - 83s 7ms/step - loss: 3.4445 - accuracy: 0.1458 - val_loss: 1.8061 - val_accuracy: 0.0581\n",
            "Epoch 9/10\n",
            "11723/11723 [==============================] - 80s 7ms/step - loss: 3.4424 - accuracy: 0.1250 - val_loss: 1.7983 - val_accuracy: 0.0998\n",
            "Epoch 10/10\n",
            "11723/11723 [==============================] - 81s 7ms/step - loss: 3.4387 - accuracy: 0.1346 - val_loss: 1.7927 - val_accuracy: 0.3028\n"
          ]
        }
      ],
      "source": [
        "nepochs = 10 #Number of training epochs\n",
        "bsize = 32    #Batch size\n",
        "lrate = .001 #Learning rate\n",
        "lossfunction = 'categorical_crossentropy'\n",
        "wtrange = 1.0  #Range for initial weight randomization\n",
        "\n",
        "#Define parameters for initial random weights:\n",
        "wt_init = tf.keras.initializers.RandomUniform(minval = -wtrange, maxval = wtrange, seed = 1111)\n",
        "\n",
        "#Set parameters for the gradient descent method:\n",
        "opt = tf.keras.optimizers.Adam(learning_rate=lrate)\n",
        "input_shape = xtrn.shape[1]  # Feature size of embeddings\n",
        "output_units = 6  # Corresponds to the number of emotions\n",
        "\n",
        "\n",
        "# Build the model using the functional API\n",
        "xin = Input(shape=(input_shape,), name='input_layer')\n",
        "xhid1 = Dense(128, activation='relu', name='hidden_layer1',\n",
        "              kernel_initializer=wt_init, bias_initializer=wt_init)(xin)\n",
        "xdrop1 = Dropout(0.5)(xhid1)\n",
        "xhid2 = Dense(64, activation='relu', name='hidden_layer2',\n",
        "              kernel_initializer=wt_init, bias_initializer=wt_init)(xdrop1)\n",
        "xdrop2 = Dropout(0.5)(xhid2)\n",
        "xout = Dense(output_units, activation='softmax', name='output_layer',\n",
        "             kernel_initializer=wt_init, bias_initializer=wt_init)(xdrop2)\n",
        "\n",
        "# Create the model\n",
        "model = Model(inputs=xin, outputs=xout, name='emotion_model')\n",
        "\n",
        "# Print the model summary\n",
        "model.compile(optimizer=opt, loss=lossfunction, metrics =[CategoricalAccuracy(name='accuracy')])\n",
        "model.save_weights('ff_initial.h1')\n",
        "# Model summary\n",
        "model.summary()\n",
        "\n",
        " #Using the generator for training\n",
        "train_generator = DataGenerator(xtrn, ytrn, batch_size=bsize)\n",
        "val_generator = DataGenerator(xtst, ytst, batch_size=bsize)\n",
        "\n",
        "\n",
        "# Train the model with class weights\n",
        "H = model.fit(x=train_generator, epochs=nepochs, validation_data=val_generator, class_weight=class_weights)\n"
      ]
    },
    {
      "cell_type": "code",
      "source": [
        "model.evaluate(x=xtst, y=ytst, batch_size = 100)"
      ],
      "metadata": {
        "id": "I2BPB-vS7S3p",
        "colab": {
          "base_uri": "https://localhost:8080/"
        },
        "outputId": "4188d6f8-c1e0-4fca-c182-7fb23895a861"
      },
      "execution_count": null,
      "outputs": [
        {
          "output_type": "stream",
          "name": "stdout",
          "text": [
            "417/417 [==============================] - 1s 3ms/step - loss: 1.7927 - accuracy: 0.3028\n"
          ]
        },
        {
          "output_type": "execute_result",
          "data": {
            "text/plain": [
              "[1.792696475982666, 0.30282384157180786]"
            ]
          },
          "metadata": {},
          "execution_count": 18
        }
      ]
    },
    {
      "cell_type": "code",
      "source": [
        "trnloss = H.history['loss']\n",
        "tstloss = H.history['val_loss']\n",
        "plt.plot(trnloss)\n",
        "plt.plot(tstloss)\n",
        "plt.show()"
      ],
      "metadata": {
        "id": "usOhEJ8d7dDR",
        "colab": {
          "base_uri": "https://localhost:8080/",
          "height": 430
        },
        "outputId": "a1863e40-530c-4be8-dcd2-ab29e6ba229a"
      },
      "execution_count": null,
      "outputs": [
        {
          "output_type": "display_data",
          "data": {
            "text/plain": [
              "<Figure size 640x480 with 1 Axes>"
            ],
            "image/png": "[encoded data removed]"
          },
          "metadata": {}
        }
      ]
    },
    {
      "cell_type": "code",
      "execution_count": null,
      "metadata": {
        "colab": {
          "base_uri": "https://localhost:8080/"
        },
        "id": "VXYUVolcqEkq",
        "outputId": "c071d120-2b54-4f8b-f2e1-64efddc00a7e"
      },
      "outputs": [
        {
          "output_type": "stream",
          "name": "stdout",
          "text": [
            "Model: \"emotion_model\"\n",
            "_________________________________________________________________\n",
            " Layer (type)                Output Shape              Param #   \n",
            "=================================================================\n",
            " input_layer (InputLayer)    [(None, 1536)]            0         \n",
            "                                                                 \n",
            " hidden_layer1 (Dense)       (None, 128)               196736    \n",
            "                                                                 \n",
            " dropout_2 (Dropout)         (None, 128)               0         \n",
            "                                                                 \n",
            " hidden_layer2 (Dense)       (None, 64)                8256      \n",
            "                                                                 \n",
            " dropout_3 (Dropout)         (None, 64)                0         \n",
            "                                                                 \n",
            " output_layer (Dense)        (None, 6)                 390       \n",
            "                                                                 \n",
            "=================================================================\n",
            "Total params: 205382 (802.27 KB)\n",
            "Trainable params: 205382 (802.27 KB)\n",
            "Non-trainable params: 0 (0.00 Byte)\n",
            "_________________________________________________________________\n",
            "Epoch 1/10\n",
            "11723/11723 [==============================] - 87s 7ms/step - loss: 1.1270 - accuracy: 1.8172e-04 - val_loss: 0.4596 - val_accuracy: 0.0000e+00\n",
            "Epoch 2/10\n",
            "11723/11723 [==============================] - 92s 8ms/step - loss: 0.8719 - accuracy: 0.0000e+00 - val_loss: 0.4578 - val_accuracy: 0.0000e+00\n",
            "Epoch 3/10\n",
            "11723/11723 [==============================] - 96s 8ms/step - loss: 0.8716 - accuracy: 0.0000e+00 - val_loss: 0.4561 - val_accuracy: 0.0000e+00\n",
            "Epoch 4/10\n",
            "11723/11723 [==============================] - 80s 7ms/step - loss: 0.8715 - accuracy: 0.0000e+00 - val_loss: 0.4540 - val_accuracy: 0.0000e+00\n",
            "Epoch 5/10\n",
            "11723/11723 [==============================] - 83s 7ms/step - loss: 0.8714 - accuracy: 0.0000e+00 - val_loss: 0.4572 - val_accuracy: 0.0000e+00\n",
            "Epoch 6/10\n",
            "11723/11723 [==============================] - 81s 7ms/step - loss: 0.8710 - accuracy: 0.0000e+00 - val_loss: 0.4553 - val_accuracy: 0.0000e+00\n",
            "Epoch 7/10\n",
            "11723/11723 [==============================] - 82s 7ms/step - loss: 0.8706 - accuracy: 0.0000e+00 - val_loss: 0.4535 - val_accuracy: 0.0000e+00\n",
            "Epoch 8/10\n",
            "11723/11723 [==============================] - 83s 7ms/step - loss: 0.8701 - accuracy: 0.0000e+00 - val_loss: 0.4552 - val_accuracy: 0.0000e+00\n",
            "Epoch 9/10\n",
            "11723/11723 [==============================] - 79s 7ms/step - loss: 0.8696 - accuracy: 0.0000e+00 - val_loss: 0.4559 - val_accuracy: 0.0000e+00\n",
            "Epoch 10/10\n",
            "11723/11723 [==============================] - 81s 7ms/step - loss: 0.8692 - accuracy: 0.0000e+00 - val_loss: 0.4545 - val_accuracy: 0.0000e+00\n"
          ]
        }
      ],
      "source": [
        "nepochs = 10 #Number of training epochs\n",
        "bsize = 32    #Batch size\n",
        "lrate = .001 #Learning rate\n",
        "lossfunction = 'binary_crossentropy'\n",
        "wtrange = 1.0  #Range for initial weight randomization\n",
        "\n",
        "#Define parameters for initial random weights:\n",
        "wt_init = tf.keras.initializers.RandomUniform(minval = -wtrange, maxval = wtrange, seed = 1111)\n",
        "\n",
        "#Set parameters for the gradient descent method:\n",
        "opt = tf.keras.optimizers.Adam(learning_rate=lrate)\n",
        "input_shape = xtrn.shape[1]  # Feature size of embeddings\n",
        "output_units = 6  # Corresponds to the number of emotions\n",
        "\n",
        "\n",
        "# Build the model using the functional API\n",
        "xin = Input(shape=(input_shape,), name='input_layer')\n",
        "xhid1 = Dense(128, activation='relu', name='hidden_layer1',\n",
        "              kernel_initializer=wt_init, bias_initializer=wt_init)(xin)\n",
        "xdrop1 = Dropout(0.5)(xhid1)\n",
        "xhid2 = Dense(64, activation='relu', name='hidden_layer2',\n",
        "              kernel_initializer=wt_init, bias_initializer=wt_init)(xdrop1)\n",
        "xdrop2 = Dropout(0.5)(xhid2)\n",
        "xout = Dense(output_units, activation='sigmoid', name='output_layer',\n",
        "             kernel_initializer=wt_init, bias_initializer=wt_init)(xdrop2)\n",
        "\n",
        "# Create the model\n",
        "model = Model(inputs=xin, outputs=xout, name='emotion_model')\n",
        "\n",
        "# Print the model summary\n",
        "model.compile(optimizer=opt, loss=lossfunction, metrics=[Accuracy(name='accuracy')])\n",
        "\n",
        "# Model summary\n",
        "model.summary()\n",
        "\n",
        " #Using the generator for training\n",
        "train_generator = DataGenerator(xtrn, ytrn, batch_size=bsize)\n",
        "val_generator = DataGenerator(xtst, ytst, batch_size=bsize)\n",
        "\n",
        "# Train the model with class weights\n",
        "H = model.fit(x=train_generator, epochs=nepochs, validation_data=val_generator, class_weight=class_weights)"
      ]
    },
    {
      "cell_type": "code",
      "source": [
        "model.evaluate(x=xtst, y=ytst, batch_size = 100)"
      ],
      "metadata": {
        "colab": {
          "base_uri": "https://localhost:8080/"
        },
        "id": "vlxtd8j2bA1p",
        "outputId": "ca763105-aa50-4adc-8f80-5c855b4c057e"
      },
      "execution_count": null,
      "outputs": [
        {
          "output_type": "stream",
          "name": "stdout",
          "text": [
            "417/417 [==============================] - 2s 3ms/step - loss: 0.4545 - accuracy: 0.0000e+00\n"
          ]
        },
        {
          "output_type": "execute_result",
          "data": {
            "text/plain": [
              "[0.45449113845825195, 0.0]"
            ]
          },
          "metadata": {},
          "execution_count": 14
        }
      ]
    },
    {
      "cell_type": "code",
      "source": [
        "trnloss = H.history['loss']\n",
        "tstloss = H.history['val_loss']\n",
        "plt.plot(trnloss)\n",
        "plt.plot(tstloss)\n",
        "plt.show()"
      ],
      "metadata": {
        "colab": {
          "base_uri": "https://localhost:8080/",
          "height": 430
        },
        "id": "UQwq73snbP7_",
        "outputId": "556782be-56d8-4e06-9175-a83fba146aa4"
      },
      "execution_count": null,
      "outputs": [
        {
          "output_type": "display_data",
          "data": {
            "text/plain": [
              "<Figure size 640x480 with 1 Axes>"
            ],
            "image/png": "[encoded data removed]"
          },
          "metadata": {}
        }
      ]
    },
    {
      "cell_type": "markdown",
      "metadata": {
        "id": "beKDt70jipBJ"
      },
      "source": [
        "Model without dropout"
      ]
    },
    {
      "cell_type": "code",
      "execution_count": null,
      "metadata": {
        "id": "RYDRbyQ7fH5o"
      },
      "outputs": [],
      "source": [
        "nepochs = 10 #Number of training epochs\n",
        "bsize = 32    #Batch size\n",
        "lrate = .001 #Learning rate\n",
        "lossfunction = 'binary_crossentropy'\n",
        "wtrange = 1.0  #Range for initial weight randomization\n",
        "\n",
        "#Define parameters for initial random weights:\n",
        "wt_init = tf.keras.initializers.RandomUniform(minval = -wtrange, maxval = wtrange, seed = 1111)\n",
        "\n",
        "#Set parameters for the gradient descent method:\n",
        "opt = tf.keras.optimizers.Adam(learning_rate=lrate)\n",
        "input_shape = xtrn.shape[1]  # Feature size of embeddings\n",
        "output_units = 6  # Corresponds to the number of emotions\n",
        "\n",
        "\n",
        "# Build the model using the functional API\n",
        "xin = Input(shape=(input_shape,), name='input_layer')\n",
        "xhid1 = Dense(128, activation='relu', name='hidden_layer1',\n",
        "              kernel_initializer=wt_init, bias_initializer=wt_init)(xin)\n",
        "xhid2 = Dense(64, activation='relu', name='hidden_layer2',\n",
        "              kernel_initializer=wt_init, bias_initializer=wt_init)(xhid1)\n",
        "xout = Dense(output_units, activation='softmax', name='output_layer',\n",
        "             kernel_initializer=wt_init, bias_initializer=wt_init)(xhid2)\n",
        "\n",
        "# Create the model\n",
        "model = Model(inputs=xin, outputs=xout, name='emotion_model')\n",
        "\n",
        "model.compile(optimizer=opt, loss=lossfunction, metrics=[Accuracy(name='accuracy')])\n",
        "\n",
        "# Model summary\n",
        "model.summary()\n",
        "\n",
        "\n",
        "# Data generators\n",
        "\n",
        "train_generator = DataGenerator(xtrn, ytrn, batch_size=bsize)\n",
        "val_generator = DataGenerator(xtst, ytst, batch_size=bsize)\n",
        "#model.load_weights('ff_initial.h1')\n",
        "\n",
        "# Training the model\n",
        "H = model.fit(x=train_generator, epochs=nepochs, validation_data=val_generator, class_weight=class_weights)"
      ]
    },
    {
      "cell_type": "code",
      "execution_count": null,
      "metadata": {
        "colab": {
          "base_uri": "https://localhost:8080/",
          "height": 597
        },
        "id": "qVx1Ksc1FcX9",
        "outputId": "c8aad79f-30b3-4662-e60c-4fd22a9b87ec"
      },
      "outputs": [
        {
          "output_type": "stream",
          "name": "stdout",
          "text": [
            "Model: \"emotion_model\"\n",
            "_________________________________________________________________\n",
            " Layer (type)                Output Shape              Param #   \n",
            "=================================================================\n",
            " input_layer (InputLayer)    [(None, 1536)]            0         \n",
            "                                                                 \n",
            " hidden_layer1 (Dense)       (None, 128)               196736    \n",
            "                                                                 \n",
            " output_layer (Dense)        (None, 6)                 774       \n",
            "                                                                 \n",
            "=================================================================\n",
            "Total params: 197510 (771.52 KB)\n",
            "Trainable params: 197510 (771.52 KB)\n",
            "Non-trainable params: 0 (0.00 Byte)\n",
            "_________________________________________________________________\n"
          ]
        },
        {
          "output_type": "error",
          "ename": "AttributeError",
          "evalue": "module 'sklearn.utils.class_weight' has no attribute 'keys'",
          "traceback": [
            "\u001b[0;31m---------------------------------------------------------------------------\u001b[0m",
            "\u001b[0;31mAttributeError\u001b[0m                            Traceback (most recent call last)",
            "\u001b[0;32m<ipython-input-12-6dfab0b3da9c>\u001b[0m in \u001b[0;36m<cell line: 40>\u001b[0;34m()\u001b[0m\n\u001b[1;32m     38\u001b[0m \u001b[0;34m\u001b[0m\u001b[0m\n\u001b[1;32m     39\u001b[0m \u001b[0;31m# Training the model\u001b[0m\u001b[0;34m\u001b[0m\u001b[0;34m\u001b[0m\u001b[0m\n\u001b[0;32m---> 40\u001b[0;31m \u001b[0mH\u001b[0m \u001b[0;34m=\u001b[0m \u001b[0mmodel\u001b[0m\u001b[0;34m.\u001b[0m\u001b[0mfit\u001b[0m\u001b[0;34m(\u001b[0m\u001b[0mx\u001b[0m\u001b[0;34m=\u001b[0m\u001b[0mtrain_generator\u001b[0m\u001b[0;34m,\u001b[0m \u001b[0mepochs\u001b[0m\u001b[0;34m=\u001b[0m\u001b[0mnepochs\u001b[0m\u001b[0;34m,\u001b[0m \u001b[0mvalidation_data\u001b[0m\u001b[0;34m=\u001b[0m\u001b[0mval_generator\u001b[0m\u001b[0;34m,\u001b[0m \u001b[0mclass_weight\u001b[0m\u001b[0;34m=\u001b[0m\u001b[0mclass_weight\u001b[0m\u001b[0;34m)\u001b[0m\u001b[0;34m\u001b[0m\u001b[0;34m\u001b[0m\u001b[0m\n\u001b[0m",
            "\u001b[0;32m/usr/local/lib/python3.10/dist-packages/keras/src/utils/traceback_utils.py\u001b[0m in \u001b[0;36merror_handler\u001b[0;34m(*args, **kwargs)\u001b[0m\n\u001b[1;32m     68\u001b[0m             \u001b[0;31m# To get the full stack trace, call:\u001b[0m\u001b[0;34m\u001b[0m\u001b[0;34m\u001b[0m\u001b[0m\n\u001b[1;32m     69\u001b[0m             \u001b[0;31m# `tf.debugging.disable_traceback_filtering()`\u001b[0m\u001b[0;34m\u001b[0m\u001b[0;34m\u001b[0m\u001b[0m\n\u001b[0;32m---> 70\u001b[0;31m             \u001b[0;32mraise\u001b[0m \u001b[0me\u001b[0m\u001b[0;34m.\u001b[0m\u001b[0mwith_traceback\u001b[0m\u001b[0;34m(\u001b[0m\u001b[0mfiltered_tb\u001b[0m\u001b[0;34m)\u001b[0m \u001b[0;32mfrom\u001b[0m \u001b[0;32mNone\u001b[0m\u001b[0;34m\u001b[0m\u001b[0;34m\u001b[0m\u001b[0m\n\u001b[0m\u001b[1;32m     71\u001b[0m         \u001b[0;32mfinally\u001b[0m\u001b[0;34m:\u001b[0m\u001b[0;34m\u001b[0m\u001b[0;34m\u001b[0m\u001b[0m\n\u001b[1;32m     72\u001b[0m             \u001b[0;32mdel\u001b[0m \u001b[0mfiltered_tb\u001b[0m\u001b[0;34m\u001b[0m\u001b[0;34m\u001b[0m\u001b[0m\n",
            "\u001b[0;32m/usr/local/lib/python3.10/dist-packages/keras/src/engine/data_adapter.py\u001b[0m in \u001b[0;36m_make_class_weight_map_fn\u001b[0;34m(class_weight)\u001b[0m\n\u001b[1;32m   1703\u001b[0m       \u001b[0mweighting\u001b[0m\u001b[0;34m.\u001b[0m\u001b[0;34m\u001b[0m\u001b[0;34m\u001b[0m\u001b[0m\n\u001b[1;32m   1704\u001b[0m     \"\"\"\n\u001b[0;32m-> 1705\u001b[0;31m     \u001b[0mclass_ids\u001b[0m \u001b[0;34m=\u001b[0m \u001b[0mlist\u001b[0m\u001b[0;34m(\u001b[0m\u001b[0msorted\u001b[0m\u001b[0;34m(\u001b[0m\u001b[0mclass_weight\u001b[0m\u001b[0;34m.\u001b[0m\u001b[0mkeys\u001b[0m\u001b[0;34m(\u001b[0m\u001b[0;34m)\u001b[0m\u001b[0;34m)\u001b[0m\u001b[0;34m)\u001b[0m\u001b[0;34m\u001b[0m\u001b[0;34m\u001b[0m\u001b[0m\n\u001b[0m\u001b[1;32m   1706\u001b[0m     \u001b[0mexpected_class_ids\u001b[0m \u001b[0;34m=\u001b[0m \u001b[0mlist\u001b[0m\u001b[0;34m(\u001b[0m\u001b[0mrange\u001b[0m\u001b[0;34m(\u001b[0m\u001b[0mlen\u001b[0m\u001b[0;34m(\u001b[0m\u001b[0mclass_ids\u001b[0m\u001b[0;34m)\u001b[0m\u001b[0;34m)\u001b[0m\u001b[0;34m)\u001b[0m\u001b[0;34m\u001b[0m\u001b[0;34m\u001b[0m\u001b[0m\n\u001b[1;32m   1707\u001b[0m     \u001b[0;32mif\u001b[0m \u001b[0mclass_ids\u001b[0m \u001b[0;34m!=\u001b[0m \u001b[0mexpected_class_ids\u001b[0m\u001b[0;34m:\u001b[0m\u001b[0;34m\u001b[0m\u001b[0;34m\u001b[0m\u001b[0m\n",
            "\u001b[0;31mAttributeError\u001b[0m: module 'sklearn.utils.class_weight' has no attribute 'keys'"
          ]
        }
      ],
      "source": [
        "nepochs = 50 #Number of training epochs\n",
        "bsize = 16    #Batch size\n",
        "lrate = .001 #Learning rate\n",
        "lossfunction = 'categorical_crossentropy'\n",
        "wtrange = 1.0  #Range for initial weight randomization\n",
        "\n",
        "#Define parameters for initial random weights:\n",
        "wt_init = tf.keras.initializers.RandomUniform(minval = -wtrange, maxval = wtrange, seed = 1111)\n",
        "\n",
        "#Set parameters for the gradient descent method:\n",
        "opt = tf.keras.optimizers.Adam(learning_rate=lrate)\n",
        "input_shape = xtrn.shape[1]  # Feature size of embeddings\n",
        "output_units = 6  # Corresponds to the number of emotions\n",
        "\n",
        "\n",
        "# Build the model using the functional API\n",
        "xin = Input(shape=(input_shape,), name='input_layer')\n",
        "xhid1 = Dense(128, activation='relu', name='hidden_layer1',\n",
        "              kernel_initializer=wt_init, bias_initializer=wt_init)(xin)\n",
        "xout = Dense(output_units, activation='softmax', name='output_layer',\n",
        "             kernel_initializer=wt_init, bias_initializer=wt_init)(xhid1)\n",
        "\n",
        "# Create the model\n",
        "model = Model(inputs=xin, outputs=xout, name='emotion_model')\n",
        "\n",
        "model.compile(optimizer=opt, loss=lossfunction, metrics=[CategoricalAccuracy(name='accuracy'),\n",
        "        Precision(name='precision')])\n",
        "\n",
        "# Model summary\n",
        "model.summary()\n",
        "\n",
        "\n",
        "# Data generators\n",
        "\n",
        "train_generator = DataGenerator(xtrn, ytrn, batch_size=bsize)\n",
        "val_generator = DataGenerator(xtst, ytst, batch_size=bsize)\n",
        "\n",
        "\n",
        "# Training the model\n",
        "H = model.fit(x=train_generator, epochs=nepochs, validation_data=val_generator, class_weight=class_weights)"
      ]
    },
    {
      "cell_type": "markdown",
      "metadata": {
        "id": "-NZEJ1hHiuFb"
      },
      "source": [
        "Dropout again, batch size changed to 16. Looks promising"
      ]
    },
    {
      "cell_type": "code",
      "execution_count": null,
      "metadata": {
        "colab": {
          "base_uri": "https://localhost:8080/",
          "height": 1000
        },
        "id": "_SwF6_jfhoWo",
        "outputId": "8347bd38-1898-45af-f060-c02a9497d8c7"
      },
      "outputs": [
        {
          "output_type": "stream",
          "name": "stdout",
          "text": [
            "Model: \"emotion_model\"\n",
            "_________________________________________________________________\n",
            " Layer (type)                Output Shape              Param #   \n",
            "=================================================================\n",
            " input_layer (InputLayer)    [(None, 1536)]            0         \n",
            "                                                                 \n",
            " hidden_layer1 (Dense)       (None, 128)               196736    \n",
            "                                                                 \n",
            " dropout (Dropout)           (None, 128)               0         \n",
            "                                                                 \n",
            " hidden_layer2 (Dense)       (None, 64)                8256      \n",
            "                                                                 \n",
            " dropout_1 (Dropout)         (None, 64)                0         \n",
            "                                                                 \n",
            " output_layer (Dense)        (None, 6)                 390       \n",
            "                                                                 \n",
            "=================================================================\n",
            "Total params: 205382 (802.27 KB)\n",
            "Trainable params: 205382 (802.27 KB)\n",
            "Non-trainable params: 0 (0.00 Byte)\n",
            "_________________________________________________________________\n",
            "Epoch 1/50\n",
            "23446/23446 [==============================] - 154s 7ms/step - loss: 4.1130 - accuracy: 0.0781 - precision: 0.1595 - val_loss: 1.8150 - val_accuracy: 0.0365 - val_precision: 0.0000e+00\n",
            "Epoch 2/50\n",
            "23446/23446 [==============================] - 149s 6ms/step - loss: 3.4679 - accuracy: 0.0497 - precision: 0.2654 - val_loss: 1.8261 - val_accuracy: 0.0374 - val_precision: 0.0000e+00\n",
            "Epoch 3/50\n",
            "23446/23446 [==============================] - 150s 6ms/step - loss: 3.4671 - accuracy: 0.0549 - precision: 0.2491 - val_loss: 1.8174 - val_accuracy: 0.0396 - val_precision: 0.0000e+00\n",
            "Epoch 4/50\n",
            "23446/23446 [==============================] - 156s 7ms/step - loss: 3.4631 - accuracy: 0.0739 - precision: 0.2536 - val_loss: 1.8150 - val_accuracy: 0.1140 - val_precision: 0.0000e+00\n",
            "Epoch 5/50\n",
            "23446/23446 [==============================] - 149s 6ms/step - loss: 3.4605 - accuracy: 0.0814 - precision: 0.2296 - val_loss: 1.8086 - val_accuracy: 0.0508 - val_precision: 0.0000e+00\n",
            "Epoch 6/50\n",
            "23446/23446 [==============================] - 156s 7ms/step - loss: 3.4539 - accuracy: 0.0823 - precision: 0.2080 - val_loss: 1.8040 - val_accuracy: 0.0547 - val_precision: 0.0000e+00\n",
            "Epoch 7/50\n",
            "23446/23446 [==============================] - 149s 6ms/step - loss: 3.4496 - accuracy: 0.0805 - precision: 0.2148 - val_loss: 1.8051 - val_accuracy: 0.0541 - val_precision: 0.0000e+00\n",
            "Epoch 8/50\n",
            "23446/23446 [==============================] - 147s 6ms/step - loss: 3.4477 - accuracy: 0.0852 - precision: 0.2228 - val_loss: 1.8134 - val_accuracy: 0.0467 - val_precision: 0.0000e+00\n",
            "Epoch 9/50\n",
            "23446/23446 [==============================] - 150s 6ms/step - loss: 3.4448 - accuracy: 0.0882 - precision: 0.2305 - val_loss: 1.7996 - val_accuracy: 0.0717 - val_precision: 0.0000e+00\n",
            "Epoch 10/50\n",
            "23446/23446 [==============================] - 151s 6ms/step - loss: 3.4441 - accuracy: 0.0874 - precision: 0.2223 - val_loss: 1.7997 - val_accuracy: 0.0616 - val_precision: 0.0000e+00\n",
            "Epoch 11/50\n",
            " 5887/23446 [======>.......................] - ETA: 1:51 - loss: 3.4412 - accuracy: 0.0799 - precision: 0.2236"
          ]
        },
        {
          "output_type": "error",
          "ename": "KeyboardInterrupt",
          "evalue": "",
          "traceback": [
            "\u001b[0;31m---------------------------------------------------------------------------\u001b[0m",
            "\u001b[0;31mKeyboardInterrupt\u001b[0m                         Traceback (most recent call last)",
            "\u001b[0;32m<ipython-input-13-8c7a5679c04a>\u001b[0m in \u001b[0;36m<cell line: 44>\u001b[0;34m()\u001b[0m\n\u001b[1;32m     42\u001b[0m \u001b[0;34m\u001b[0m\u001b[0m\n\u001b[1;32m     43\u001b[0m \u001b[0;31m# Training the model\u001b[0m\u001b[0;34m\u001b[0m\u001b[0;34m\u001b[0m\u001b[0m\n\u001b[0;32m---> 44\u001b[0;31m \u001b[0mH\u001b[0m \u001b[0;34m=\u001b[0m \u001b[0mmodel\u001b[0m\u001b[0;34m.\u001b[0m\u001b[0mfit\u001b[0m\u001b[0;34m(\u001b[0m\u001b[0mx\u001b[0m\u001b[0;34m=\u001b[0m\u001b[0mtrain_generator\u001b[0m\u001b[0;34m,\u001b[0m \u001b[0mepochs\u001b[0m\u001b[0;34m=\u001b[0m\u001b[0mnepochs\u001b[0m\u001b[0;34m,\u001b[0m \u001b[0mvalidation_data\u001b[0m\u001b[0;34m=\u001b[0m\u001b[0mval_generator\u001b[0m\u001b[0;34m,\u001b[0m \u001b[0mclass_weight\u001b[0m\u001b[0;34m=\u001b[0m\u001b[0mclass_weights\u001b[0m\u001b[0;34m)\u001b[0m\u001b[0;34m\u001b[0m\u001b[0;34m\u001b[0m\u001b[0m\n\u001b[0m",
            "\u001b[0;32m/usr/local/lib/python3.10/dist-packages/keras/src/utils/traceback_utils.py\u001b[0m in \u001b[0;36merror_handler\u001b[0;34m(*args, **kwargs)\u001b[0m\n\u001b[1;32m     63\u001b[0m         \u001b[0mfiltered_tb\u001b[0m \u001b[0;34m=\u001b[0m \u001b[0;32mNone\u001b[0m\u001b[0;34m\u001b[0m\u001b[0;34m\u001b[0m\u001b[0m\n\u001b[1;32m     64\u001b[0m         \u001b[0;32mtry\u001b[0m\u001b[0;34m:\u001b[0m\u001b[0;34m\u001b[0m\u001b[0;34m\u001b[0m\u001b[0m\n\u001b[0;32m---> 65\u001b[0;31m             \u001b[0;32mreturn\u001b[0m \u001b[0mfn\u001b[0m\u001b[0;34m(\u001b[0m\u001b[0;34m*\u001b[0m\u001b[0margs\u001b[0m\u001b[0;34m,\u001b[0m \u001b[0;34m**\u001b[0m\u001b[0mkwargs\u001b[0m\u001b[0;34m)\u001b[0m\u001b[0;34m\u001b[0m\u001b[0;34m\u001b[0m\u001b[0m\n\u001b[0m\u001b[1;32m     66\u001b[0m         \u001b[0;32mexcept\u001b[0m \u001b[0mException\u001b[0m \u001b[0;32mas\u001b[0m \u001b[0me\u001b[0m\u001b[0;34m:\u001b[0m\u001b[0;34m\u001b[0m\u001b[0;34m\u001b[0m\u001b[0m\n\u001b[1;32m     67\u001b[0m             \u001b[0mfiltered_tb\u001b[0m \u001b[0;34m=\u001b[0m \u001b[0m_process_traceback_frames\u001b[0m\u001b[0;34m(\u001b[0m\u001b[0me\u001b[0m\u001b[0;34m.\u001b[0m\u001b[0m__traceback__\u001b[0m\u001b[0;34m)\u001b[0m\u001b[0;34m\u001b[0m\u001b[0;34m\u001b[0m\u001b[0m\n",
            "\u001b[0;32m/usr/local/lib/python3.10/dist-packages/keras/src/engine/training.py\u001b[0m in \u001b[0;36mfit\u001b[0;34m(self, x, y, batch_size, epochs, verbose, callbacks, validation_split, validation_data, shuffle, class_weight, sample_weight, initial_epoch, steps_per_epoch, validation_steps, validation_batch_size, validation_freq, max_queue_size, workers, use_multiprocessing)\u001b[0m\n\u001b[1;32m   1805\u001b[0m                         ):\n\u001b[1;32m   1806\u001b[0m                             \u001b[0mcallbacks\u001b[0m\u001b[0;34m.\u001b[0m\u001b[0mon_train_batch_begin\u001b[0m\u001b[0;34m(\u001b[0m\u001b[0mstep\u001b[0m\u001b[0;34m)\u001b[0m\u001b[0;34m\u001b[0m\u001b[0;34m\u001b[0m\u001b[0m\n\u001b[0;32m-> 1807\u001b[0;31m                             \u001b[0mtmp_logs\u001b[0m \u001b[0;34m=\u001b[0m \u001b[0mself\u001b[0m\u001b[0;34m.\u001b[0m\u001b[0mtrain_function\u001b[0m\u001b[0;34m(\u001b[0m\u001b[0miterator\u001b[0m\u001b[0;34m)\u001b[0m\u001b[0;34m\u001b[0m\u001b[0;34m\u001b[0m\u001b[0m\n\u001b[0m\u001b[1;32m   1808\u001b[0m                             \u001b[0;32mif\u001b[0m \u001b[0mdata_handler\u001b[0m\u001b[0;34m.\u001b[0m\u001b[0mshould_sync\u001b[0m\u001b[0;34m:\u001b[0m\u001b[0;34m\u001b[0m\u001b[0;34m\u001b[0m\u001b[0m\n\u001b[1;32m   1809\u001b[0m                                 \u001b[0mcontext\u001b[0m\u001b[0;34m.\u001b[0m\u001b[0masync_wait\u001b[0m\u001b[0;34m(\u001b[0m\u001b[0;34m)\u001b[0m\u001b[0;34m\u001b[0m\u001b[0;34m\u001b[0m\u001b[0m\n",
            "\u001b[0;32m/usr/local/lib/python3.10/dist-packages/tensorflow/python/util/traceback_utils.py\u001b[0m in \u001b[0;36merror_handler\u001b[0;34m(*args, **kwargs)\u001b[0m\n\u001b[1;32m    148\u001b[0m     \u001b[0mfiltered_tb\u001b[0m \u001b[0;34m=\u001b[0m \u001b[0;32mNone\u001b[0m\u001b[0;34m\u001b[0m\u001b[0;34m\u001b[0m\u001b[0m\n\u001b[1;32m    149\u001b[0m     \u001b[0;32mtry\u001b[0m\u001b[0;34m:\u001b[0m\u001b[0;34m\u001b[0m\u001b[0;34m\u001b[0m\u001b[0m\n\u001b[0;32m--> 150\u001b[0;31m       \u001b[0;32mreturn\u001b[0m \u001b[0mfn\u001b[0m\u001b[0;34m(\u001b[0m\u001b[0;34m*\u001b[0m\u001b[0margs\u001b[0m\u001b[0;34m,\u001b[0m \u001b[0;34m**\u001b[0m\u001b[0mkwargs\u001b[0m\u001b[0;34m)\u001b[0m\u001b[0;34m\u001b[0m\u001b[0;34m\u001b[0m\u001b[0m\n\u001b[0m\u001b[1;32m    151\u001b[0m     \u001b[0;32mexcept\u001b[0m \u001b[0mException\u001b[0m \u001b[0;32mas\u001b[0m \u001b[0me\u001b[0m\u001b[0;34m:\u001b[0m\u001b[0;34m\u001b[0m\u001b[0;34m\u001b[0m\u001b[0m\n\u001b[1;32m    152\u001b[0m       \u001b[0mfiltered_tb\u001b[0m \u001b[0;34m=\u001b[0m \u001b[0m_process_traceback_frames\u001b[0m\u001b[0;34m(\u001b[0m\u001b[0me\u001b[0m\u001b[0;34m.\u001b[0m\u001b[0m__traceback__\u001b[0m\u001b[0;34m)\u001b[0m\u001b[0;34m\u001b[0m\u001b[0;34m\u001b[0m\u001b[0m\n",
            "\u001b[0;32m/usr/local/lib/python3.10/dist-packages/tensorflow/python/eager/polymorphic_function/polymorphic_function.py\u001b[0m in \u001b[0;36m__call__\u001b[0;34m(self, *args, **kwds)\u001b[0m\n\u001b[1;32m    830\u001b[0m \u001b[0;34m\u001b[0m\u001b[0m\n\u001b[1;32m    831\u001b[0m       \u001b[0;32mwith\u001b[0m \u001b[0mOptionalXlaContext\u001b[0m\u001b[0;34m(\u001b[0m\u001b[0mself\u001b[0m\u001b[0;34m.\u001b[0m\u001b[0m_jit_compile\u001b[0m\u001b[0;34m)\u001b[0m\u001b[0;34m:\u001b[0m\u001b[0;34m\u001b[0m\u001b[0;34m\u001b[0m\u001b[0m\n\u001b[0;32m--> 832\u001b[0;31m         \u001b[0mresult\u001b[0m \u001b[0;34m=\u001b[0m \u001b[0mself\u001b[0m\u001b[0;34m.\u001b[0m\u001b[0m_call\u001b[0m\u001b[0;34m(\u001b[0m\u001b[0;34m*\u001b[0m\u001b[0margs\u001b[0m\u001b[0;34m,\u001b[0m \u001b[0;34m**\u001b[0m\u001b[0mkwds\u001b[0m\u001b[0;34m)\u001b[0m\u001b[0;34m\u001b[0m\u001b[0;34m\u001b[0m\u001b[0m\n\u001b[0m\u001b[1;32m    833\u001b[0m \u001b[0;34m\u001b[0m\u001b[0m\n\u001b[1;32m    834\u001b[0m       \u001b[0mnew_tracing_count\u001b[0m \u001b[0;34m=\u001b[0m \u001b[0mself\u001b[0m\u001b[0;34m.\u001b[0m\u001b[0mexperimental_get_tracing_count\u001b[0m\u001b[0;34m(\u001b[0m\u001b[0;34m)\u001b[0m\u001b[0;34m\u001b[0m\u001b[0;34m\u001b[0m\u001b[0m\n",
            "\u001b[0;32m/usr/local/lib/python3.10/dist-packages/tensorflow/python/eager/polymorphic_function/polymorphic_function.py\u001b[0m in \u001b[0;36m_call\u001b[0;34m(self, *args, **kwds)\u001b[0m\n\u001b[1;32m    866\u001b[0m       \u001b[0;31m# In this case we have created variables on the first call, so we run the\u001b[0m\u001b[0;34m\u001b[0m\u001b[0;34m\u001b[0m\u001b[0m\n\u001b[1;32m    867\u001b[0m       \u001b[0;31m# defunned version which is guaranteed to never create variables.\u001b[0m\u001b[0;34m\u001b[0m\u001b[0;34m\u001b[0m\u001b[0m\n\u001b[0;32m--> 868\u001b[0;31m       return tracing_compilation.call_function(\n\u001b[0m\u001b[1;32m    869\u001b[0m           \u001b[0margs\u001b[0m\u001b[0;34m,\u001b[0m \u001b[0mkwds\u001b[0m\u001b[0;34m,\u001b[0m \u001b[0mself\u001b[0m\u001b[0;34m.\u001b[0m\u001b[0m_no_variable_creation_config\u001b[0m\u001b[0;34m\u001b[0m\u001b[0;34m\u001b[0m\u001b[0m\n\u001b[1;32m    870\u001b[0m       )\n",
            "\u001b[0;32m/usr/local/lib/python3.10/dist-packages/tensorflow/python/eager/polymorphic_function/tracing_compilation.py\u001b[0m in \u001b[0;36mcall_function\u001b[0;34m(args, kwargs, tracing_options)\u001b[0m\n\u001b[1;32m    137\u001b[0m   \u001b[0mbound_args\u001b[0m \u001b[0;34m=\u001b[0m \u001b[0mfunction\u001b[0m\u001b[0;34m.\u001b[0m\u001b[0mfunction_type\u001b[0m\u001b[0;34m.\u001b[0m\u001b[0mbind\u001b[0m\u001b[0;34m(\u001b[0m\u001b[0;34m*\u001b[0m\u001b[0margs\u001b[0m\u001b[0;34m,\u001b[0m \u001b[0;34m**\u001b[0m\u001b[0mkwargs\u001b[0m\u001b[0;34m)\u001b[0m\u001b[0;34m\u001b[0m\u001b[0;34m\u001b[0m\u001b[0m\n\u001b[1;32m    138\u001b[0m   \u001b[0mflat_inputs\u001b[0m \u001b[0;34m=\u001b[0m \u001b[0mfunction\u001b[0m\u001b[0;34m.\u001b[0m\u001b[0mfunction_type\u001b[0m\u001b[0;34m.\u001b[0m\u001b[0munpack_inputs\u001b[0m\u001b[0;34m(\u001b[0m\u001b[0mbound_args\u001b[0m\u001b[0;34m)\u001b[0m\u001b[0;34m\u001b[0m\u001b[0;34m\u001b[0m\u001b[0m\n\u001b[0;32m--> 139\u001b[0;31m   return function._call_flat(  # pylint: disable=protected-access\n\u001b[0m\u001b[1;32m    140\u001b[0m       \u001b[0mflat_inputs\u001b[0m\u001b[0;34m,\u001b[0m \u001b[0mcaptured_inputs\u001b[0m\u001b[0;34m=\u001b[0m\u001b[0mfunction\u001b[0m\u001b[0;34m.\u001b[0m\u001b[0mcaptured_inputs\u001b[0m\u001b[0;34m\u001b[0m\u001b[0;34m\u001b[0m\u001b[0m\n\u001b[1;32m    141\u001b[0m   )\n",
            "\u001b[0;32m/usr/local/lib/python3.10/dist-packages/tensorflow/python/eager/polymorphic_function/concrete_function.py\u001b[0m in \u001b[0;36m_call_flat\u001b[0;34m(self, tensor_inputs, captured_inputs)\u001b[0m\n\u001b[1;32m   1321\u001b[0m         and executing_eagerly):\n\u001b[1;32m   1322\u001b[0m       \u001b[0;31m# No tape is watching; skip to running the function.\u001b[0m\u001b[0;34m\u001b[0m\u001b[0;34m\u001b[0m\u001b[0m\n\u001b[0;32m-> 1323\u001b[0;31m       \u001b[0;32mreturn\u001b[0m \u001b[0mself\u001b[0m\u001b[0;34m.\u001b[0m\u001b[0m_inference_function\u001b[0m\u001b[0;34m.\u001b[0m\u001b[0mcall_preflattened\u001b[0m\u001b[0;34m(\u001b[0m\u001b[0margs\u001b[0m\u001b[0;34m)\u001b[0m\u001b[0;34m\u001b[0m\u001b[0;34m\u001b[0m\u001b[0m\n\u001b[0m\u001b[1;32m   1324\u001b[0m     forward_backward = self._select_forward_and_backward_functions(\n\u001b[1;32m   1325\u001b[0m         \u001b[0margs\u001b[0m\u001b[0;34m,\u001b[0m\u001b[0;34m\u001b[0m\u001b[0;34m\u001b[0m\u001b[0m\n",
            "\u001b[0;32m/usr/local/lib/python3.10/dist-packages/tensorflow/python/eager/polymorphic_function/atomic_function.py\u001b[0m in \u001b[0;36mcall_preflattened\u001b[0;34m(self, args)\u001b[0m\n\u001b[1;32m    214\u001b[0m   \u001b[0;32mdef\u001b[0m \u001b[0mcall_preflattened\u001b[0m\u001b[0;34m(\u001b[0m\u001b[0mself\u001b[0m\u001b[0;34m,\u001b[0m \u001b[0margs\u001b[0m\u001b[0;34m:\u001b[0m \u001b[0mSequence\u001b[0m\u001b[0;34m[\u001b[0m\u001b[0mcore\u001b[0m\u001b[0;34m.\u001b[0m\u001b[0mTensor\u001b[0m\u001b[0;34m]\u001b[0m\u001b[0;34m)\u001b[0m \u001b[0;34m->\u001b[0m \u001b[0mAny\u001b[0m\u001b[0;34m:\u001b[0m\u001b[0;34m\u001b[0m\u001b[0;34m\u001b[0m\u001b[0m\n\u001b[1;32m    215\u001b[0m     \u001b[0;34m\"\"\"Calls with flattened tensor inputs and returns the structured output.\"\"\"\u001b[0m\u001b[0;34m\u001b[0m\u001b[0;34m\u001b[0m\u001b[0m\n\u001b[0;32m--> 216\u001b[0;31m     \u001b[0mflat_outputs\u001b[0m \u001b[0;34m=\u001b[0m \u001b[0mself\u001b[0m\u001b[0;34m.\u001b[0m\u001b[0mcall_flat\u001b[0m\u001b[0;34m(\u001b[0m\u001b[0;34m*\u001b[0m\u001b[0margs\u001b[0m\u001b[0;34m)\u001b[0m\u001b[0;34m\u001b[0m\u001b[0;34m\u001b[0m\u001b[0m\n\u001b[0m\u001b[1;32m    217\u001b[0m     \u001b[0;32mreturn\u001b[0m \u001b[0mself\u001b[0m\u001b[0;34m.\u001b[0m\u001b[0mfunction_type\u001b[0m\u001b[0;34m.\u001b[0m\u001b[0mpack_output\u001b[0m\u001b[0;34m(\u001b[0m\u001b[0mflat_outputs\u001b[0m\u001b[0;34m)\u001b[0m\u001b[0;34m\u001b[0m\u001b[0;34m\u001b[0m\u001b[0m\n\u001b[1;32m    218\u001b[0m \u001b[0;34m\u001b[0m\u001b[0m\n",
            "\u001b[0;32m/usr/local/lib/python3.10/dist-packages/tensorflow/python/eager/polymorphic_function/atomic_function.py\u001b[0m in \u001b[0;36mcall_flat\u001b[0;34m(self, *args)\u001b[0m\n\u001b[1;32m    249\u001b[0m         \u001b[0;32mwith\u001b[0m \u001b[0mrecord\u001b[0m\u001b[0;34m.\u001b[0m\u001b[0mstop_recording\u001b[0m\u001b[0;34m(\u001b[0m\u001b[0;34m)\u001b[0m\u001b[0;34m:\u001b[0m\u001b[0;34m\u001b[0m\u001b[0;34m\u001b[0m\u001b[0m\n\u001b[1;32m    250\u001b[0m           \u001b[0;32mif\u001b[0m \u001b[0mself\u001b[0m\u001b[0;34m.\u001b[0m\u001b[0m_bound_context\u001b[0m\u001b[0;34m.\u001b[0m\u001b[0mexecuting_eagerly\u001b[0m\u001b[0;34m(\u001b[0m\u001b[0;34m)\u001b[0m\u001b[0;34m:\u001b[0m\u001b[0;34m\u001b[0m\u001b[0;34m\u001b[0m\u001b[0m\n\u001b[0;32m--> 251\u001b[0;31m             outputs = self._bound_context.call_function(\n\u001b[0m\u001b[1;32m    252\u001b[0m                 \u001b[0mself\u001b[0m\u001b[0;34m.\u001b[0m\u001b[0mname\u001b[0m\u001b[0;34m,\u001b[0m\u001b[0;34m\u001b[0m\u001b[0;34m\u001b[0m\u001b[0m\n\u001b[1;32m    253\u001b[0m                 \u001b[0mlist\u001b[0m\u001b[0;34m(\u001b[0m\u001b[0margs\u001b[0m\u001b[0;34m)\u001b[0m\u001b[0;34m,\u001b[0m\u001b[0;34m\u001b[0m\u001b[0;34m\u001b[0m\u001b[0m\n",
            "\u001b[0;32m/usr/local/lib/python3.10/dist-packages/tensorflow/python/eager/context.py\u001b[0m in \u001b[0;36mcall_function\u001b[0;34m(self, name, tensor_inputs, num_outputs)\u001b[0m\n\u001b[1;32m   1484\u001b[0m     \u001b[0mcancellation_context\u001b[0m \u001b[0;34m=\u001b[0m \u001b[0mcancellation\u001b[0m\u001b[0;34m.\u001b[0m\u001b[0mcontext\u001b[0m\u001b[0;34m(\u001b[0m\u001b[0;34m)\u001b[0m\u001b[0;34m\u001b[0m\u001b[0;34m\u001b[0m\u001b[0m\n\u001b[1;32m   1485\u001b[0m     \u001b[0;32mif\u001b[0m \u001b[0mcancellation_context\u001b[0m \u001b[0;32mis\u001b[0m \u001b[0;32mNone\u001b[0m\u001b[0;34m:\u001b[0m\u001b[0;34m\u001b[0m\u001b[0;34m\u001b[0m\u001b[0m\n\u001b[0;32m-> 1486\u001b[0;31m       outputs = execute.execute(\n\u001b[0m\u001b[1;32m   1487\u001b[0m           \u001b[0mname\u001b[0m\u001b[0;34m.\u001b[0m\u001b[0mdecode\u001b[0m\u001b[0;34m(\u001b[0m\u001b[0;34m\"utf-8\"\u001b[0m\u001b[0;34m)\u001b[0m\u001b[0;34m,\u001b[0m\u001b[0;34m\u001b[0m\u001b[0;34m\u001b[0m\u001b[0m\n\u001b[1;32m   1488\u001b[0m           \u001b[0mnum_outputs\u001b[0m\u001b[0;34m=\u001b[0m\u001b[0mnum_outputs\u001b[0m\u001b[0;34m,\u001b[0m\u001b[0;34m\u001b[0m\u001b[0;34m\u001b[0m\u001b[0m\n",
            "\u001b[0;32m/usr/local/lib/python3.10/dist-packages/tensorflow/python/eager/execute.py\u001b[0m in \u001b[0;36mquick_execute\u001b[0;34m(op_name, num_outputs, inputs, attrs, ctx, name)\u001b[0m\n\u001b[1;32m     51\u001b[0m   \u001b[0;32mtry\u001b[0m\u001b[0;34m:\u001b[0m\u001b[0;34m\u001b[0m\u001b[0;34m\u001b[0m\u001b[0m\n\u001b[1;32m     52\u001b[0m     \u001b[0mctx\u001b[0m\u001b[0;34m.\u001b[0m\u001b[0mensure_initialized\u001b[0m\u001b[0;34m(\u001b[0m\u001b[0;34m)\u001b[0m\u001b[0;34m\u001b[0m\u001b[0;34m\u001b[0m\u001b[0m\n\u001b[0;32m---> 53\u001b[0;31m     tensors = pywrap_tfe.TFE_Py_Execute(ctx._handle, device_name, op_name,\n\u001b[0m\u001b[1;32m     54\u001b[0m                                         inputs, attrs, num_outputs)\n\u001b[1;32m     55\u001b[0m   \u001b[0;32mexcept\u001b[0m \u001b[0mcore\u001b[0m\u001b[0;34m.\u001b[0m\u001b[0m_NotOkStatusException\u001b[0m \u001b[0;32mas\u001b[0m \u001b[0me\u001b[0m\u001b[0;34m:\u001b[0m\u001b[0;34m\u001b[0m\u001b[0;34m\u001b[0m\u001b[0m\n",
            "\u001b[0;31mKeyboardInterrupt\u001b[0m: "
          ]
        }
      ],
      "source": [
        "nepochs = 50 #Number of training epochs\n",
        "bsize = 16    #Batch size\n",
        "lrate = .001 #Learning rate\n",
        "lossfunction = 'categorical_crossentropy'\n",
        "wtrange = 1.0  #Range for initial weight randomization\n",
        "\n",
        "#Define parameters for initial random weights:\n",
        "wt_init = tf.keras.initializers.RandomUniform(minval = -wtrange, maxval = wtrange, seed = 1111)\n",
        "\n",
        "#Set parameters for the gradient descent method:\n",
        "opt = tf.keras.optimizers.Adam(learning_rate=lrate)\n",
        "input_shape = xtrn.shape[1]  # Feature size of embeddings\n",
        "output_units = 6  # Corresponds to the number of emotions\n",
        "\n",
        "\n",
        "# Build the model using the functional API\n",
        "xin = Input(shape=(input_shape,), name='input_layer')\n",
        "xhid1 = Dense(128, activation='relu', name='hidden_layer1',\n",
        "              kernel_initializer=wt_init, bias_initializer=wt_init)(xin)\n",
        "xdrop1 = Dropout(0.5)(xhid1)\n",
        "xhid2 = Dense(64, activation='relu', name='hidden_layer2',\n",
        "              kernel_initializer=wt_init, bias_initializer=wt_init)(xdrop1)\n",
        "xdrop2 = Dropout(0.5)(xhid2)\n",
        "xout = Dense(output_units, activation='softmax', name='output_layer',\n",
        "             kernel_initializer=wt_init, bias_initializer=wt_init)(xdrop2)\n",
        "\n",
        "# Create the model\n",
        "model = Model(inputs=xin, outputs=xout, name='emotion_model')\n",
        "\n",
        "model.compile(optimizer=opt, loss=lossfunction, metrics=[CategoricalAccuracy(name='accuracy'),\n",
        "        Precision(name='precision')])\n",
        "\n",
        "# Model summary\n",
        "model.summary()\n",
        "\n",
        "\n",
        "# Data generators\n",
        "\n",
        "train_generator = DataGenerator(xtrn, ytrn, batch_size=bsize)\n",
        "val_generator = DataGenerator(xtst, ytst, batch_size=bsize)\n",
        "model.load_weights('ff_initial.h1')\n",
        "\n",
        "# Training the model\n",
        "H = model.fit(x=train_generator, epochs=nepochs, validation_data=val_generator, class_weight=class_weights)"
      ]
    },
    {
      "cell_type": "markdown",
      "metadata": {
        "id": "iJtIqNTmjEHS"
      },
      "source": [
        "Larger learning rate, .01."
      ]
    },
    {
      "cell_type": "code",
      "execution_count": null,
      "metadata": {
        "colab": {
          "base_uri": "https://localhost:8080/"
        },
        "id": "fMNDNoL0myFA",
        "outputId": "9b1ee034-8c6a-4ce3-f435-bd0580c3c4d0"
      },
      "outputs": [
        {
          "output_type": "stream",
          "name": "stdout",
          "text": [
            "Model: \"emotion_model\"\n",
            "_________________________________________________________________\n",
            " Layer (type)                Output Shape              Param #   \n",
            "=================================================================\n",
            " input_layer (InputLayer)    [(None, 1536)]            0         \n",
            "                                                                 \n",
            " hidden_layer1 (Dense)       (None, 128)               196736    \n",
            "                                                                 \n",
            " dropout_2 (Dropout)         (None, 128)               0         \n",
            "                                                                 \n",
            " hidden_layer2 (Dense)       (None, 64)                8256      \n",
            "                                                                 \n",
            " dropout_3 (Dropout)         (None, 64)                0         \n",
            "                                                                 \n",
            " output_layer (Dense)        (None, 6)                 390       \n",
            "                                                                 \n",
            "=================================================================\n",
            "Total params: 205382 (802.27 KB)\n",
            "Trainable params: 205382 (802.27 KB)\n",
            "Non-trainable params: 0 (0.00 Byte)\n",
            "_________________________________________________________________\n",
            "Epoch 1/10\n",
            "11723/11723 [==============================] - 85s 7ms/step - loss: 3.5664 - accuracy: 0.0890 - precision: 0.1655 - val_loss: 1.8142 - val_accuracy: 0.1163 - val_precision: 0.0000e+00\n",
            "Epoch 2/10\n",
            "11723/11723 [==============================] - 102s 9ms/step - loss: 3.4677 - accuracy: 0.0964 - precision: 0.3293 - val_loss: 1.7893 - val_accuracy: 0.3393 - val_precision: 0.0000e+00\n",
            "Epoch 3/10\n",
            "11723/11723 [==============================] - 83s 7ms/step - loss: 3.4678 - accuracy: 0.0962 - precision: 0.2222 - val_loss: 1.7831 - val_accuracy: 0.3393 - val_precision: 0.0000e+00\n",
            "Epoch 4/10\n",
            "11723/11723 [==============================] - 84s 7ms/step - loss: 3.4666 - accuracy: 0.0976 - precision: 0.3623 - val_loss: 1.8123 - val_accuracy: 0.1163 - val_precision: 0.0000e+00\n",
            "Epoch 5/10\n",
            " 3822/11723 [========>.....................] - ETA: 54s - loss: 3.4749 - accuracy: 0.0836 - precision: 0.2000"
          ]
        }
      ],
      "source": [
        "nepochs = 10 #Number of training epochs\n",
        "bsize = 32    #Batch size\n",
        "lrate = .01 #Learning rate\n",
        "lossfunction = 'categorical_crossentropy'\n",
        "wtrange = 1.0  #Range for initial weight randomization\n",
        "\n",
        "#Define parameters for initial random weights:\n",
        "wt_init = tf.keras.initializers.RandomUniform(minval = -wtrange, maxval = wtrange, seed = 1111)\n",
        "\n",
        "#Set parameters for the gradient descent method:\n",
        "opt = tf.keras.optimizers.Adam(learning_rate=lrate)\n",
        "input_shape = xtrn.shape[1]  # Feature size of embeddings\n",
        "output_units = 6  # Corresponds to the number of emotions\n",
        "\n",
        "\n",
        "# Build the model using the functional API\n",
        "xin = Input(shape=(input_shape,), name='input_layer')\n",
        "xhid1 = Dense(128, activation='relu', name='hidden_layer1',\n",
        "              kernel_initializer=wt_init, bias_initializer=wt_init)(xin)\n",
        "xdrop1 = Dropout(0.5)(xhid1)\n",
        "xhid2 = Dense(64, activation='relu', name='hidden_layer2',\n",
        "              kernel_initializer=wt_init, bias_initializer=wt_init)(xdrop1)\n",
        "xdrop2 = Dropout(0.5)(xhid2)\n",
        "xout = Dense(output_units, activation='softmax', name='output_layer',\n",
        "             kernel_initializer=wt_init, bias_initializer=wt_init)(xdrop2)\n",
        "\n",
        "# Create the model\n",
        "model = Model(inputs=xin, outputs=xout, name='emotion_model')\n",
        "\n",
        "model.compile(optimizer=opt, loss=lossfunction, metrics=[CategoricalAccuracy(name='accuracy'),\n",
        "        Precision(name='precision')])\n",
        "\n",
        "# Model summary\n",
        "model.summary()\n",
        "\n",
        "\n",
        "# Data generators\n",
        "\n",
        "train_generator = DataGenerator(xtrn, ytrn, batch_size=bsize)\n",
        "val_generator = DataGenerator(xtst, ytst, batch_size=bsize)\n",
        "\n",
        "\n",
        "# Training the model\n",
        "H = model.fit(x=train_generator, epochs=nepochs, validation_data=val_generator, class_weight=class_weights)"
      ]
    },
    {
      "cell_type": "markdown",
      "metadata": {
        "id": "wEb5AkfzjSDP"
      },
      "source": [
        "Smaller learning rate"
      ]
    },
    {
      "cell_type": "code",
      "execution_count": null,
      "metadata": {
        "colab": {
          "base_uri": "https://localhost:8080/"
        },
        "id": "EzAGpvCVq3-J",
        "outputId": "633a253c-ca3c-45ad-9436-4ea7d785cad4"
      },
      "outputs": [
        {
          "output_type": "stream",
          "name": "stdout",
          "text": [
            "Model: \"emotion_model\"\n",
            "_________________________________________________________________\n",
            " Layer (type)                Output Shape              Param #   \n",
            "=================================================================\n",
            " input_layer (InputLayer)    [(None, 1536)]            0         \n",
            "                                                                 \n",
            " hidden_layer1 (Dense)       (None, 128)               196736    \n",
            "                                                                 \n",
            " dropout_4 (Dropout)         (None, 128)               0         \n",
            "                                                                 \n",
            " hidden_layer2 (Dense)       (None, 64)                8256      \n",
            "                                                                 \n",
            " dropout_5 (Dropout)         (None, 64)                0         \n",
            "                                                                 \n",
            " output_layer (Dense)        (None, 6)                 390       \n",
            "                                                                 \n",
            "=================================================================\n",
            "Total params: 205382 (802.27 KB)\n",
            "Trainable params: 205382 (802.27 KB)\n",
            "Non-trainable params: 0 (0.00 Byte)\n",
            "_________________________________________________________________\n",
            "Epoch 1/10\n",
            "11723/11723 [==============================] - 86s 7ms/step - loss: 4.4059 - accuracy: 0.0888 - precision: 0.1571 - val_loss: 1.8092 - val_accuracy: 0.0365 - val_precision: 0.0000e+00\n",
            "Epoch 2/10\n",
            "11723/11723 [==============================] - 83s 7ms/step - loss: 3.4661 - accuracy: 0.0534 - precision: 0.2500 - val_loss: 1.8145 - val_accuracy: 0.0370 - val_precision: 0.0000e+00\n",
            "Epoch 3/10\n",
            "11723/11723 [==============================] - 81s 7ms/step - loss: 3.4617 - accuracy: 0.0691 - precision: 0.1692 - val_loss: 1.8067 - val_accuracy: 0.1389 - val_precision: 0.0000e+00\n",
            "Epoch 4/10\n",
            "11723/11723 [==============================] - 80s 7ms/step - loss: 3.4553 - accuracy: 0.1079 - precision: 0.1667 - val_loss: 1.8017 - val_accuracy: 0.2203 - val_precision: 0.0000e+00\n",
            "Epoch 5/10\n",
            "11723/11723 [==============================] - 84s 7ms/step - loss: 3.4511 - accuracy: 0.1334 - precision: 0.1980 - val_loss: 1.8048 - val_accuracy: 0.1653 - val_precision: 0.0000e+00\n",
            "Epoch 6/10\n",
            "11723/11723 [==============================] - 81s 7ms/step - loss: 3.4503 - accuracy: 0.1641 - precision: 0.1659 - val_loss: 1.8009 - val_accuracy: 0.2964 - val_precision: 0.0000e+00\n",
            "Epoch 7/10\n",
            "11723/11723 [==============================] - 81s 7ms/step - loss: 3.4456 - accuracy: 0.1736 - precision: 0.1812 - val_loss: 1.8010 - val_accuracy: 0.0794 - val_precision: 0.0000e+00\n",
            "Epoch 8/10\n",
            "11723/11723 [==============================] - 86s 7ms/step - loss: 3.4407 - accuracy: 0.1818 - precision: 0.2019 - val_loss: 1.7908 - val_accuracy: 0.2984 - val_precision: 0.0000e+00\n",
            "Epoch 9/10\n",
            "11723/11723 [==============================] - 82s 7ms/step - loss: 3.4383 - accuracy: 0.2165 - precision: 0.1985 - val_loss: 1.7944 - val_accuracy: 0.1698 - val_precision: 0.1429\n",
            "Epoch 10/10\n",
            "11723/11723 [==============================] - 81s 7ms/step - loss: 3.4357 - accuracy: 0.2085 - precision: 0.2101 - val_loss: 1.7911 - val_accuracy: 0.2940 - val_precision: 0.1304\n"
          ]
        }
      ],
      "source": [
        "nepochs = 10 #Number of training epochs\n",
        "bsize = 32    #Batch size\n",
        "lrate = .0001 #Learning rate\n",
        "lossfunction = 'categorical_crossentropy'\n",
        "wtrange = 1.0  #Range for initial weight randomization\n",
        "\n",
        "#Define parameters for initial random weights:\n",
        "wt_init = tf.keras.initializers.RandomUniform(minval = -wtrange, maxval = wtrange, seed = 1111)\n",
        "\n",
        "#Set parameters for the gradient descent method:\n",
        "opt = tf.keras.optimizers.Adam(learning_rate=lrate)\n",
        "input_shape = xtrn.shape[1]  # Feature size of embeddings\n",
        "output_units = 6  # Corresponds to the number of emotions\n",
        "\n",
        "\n",
        "# Build the model using the functional API\n",
        "xin = Input(shape=(input_shape,), name='input_layer')\n",
        "xhid1 = Dense(128, activation='relu', name='hidden_layer1',\n",
        "              kernel_initializer=wt_init, bias_initializer=wt_init)(xin)\n",
        "xdrop1 = Dropout(0.5)(xhid1)\n",
        "xhid2 = Dense(64, activation='relu', name='hidden_layer2',\n",
        "              kernel_initializer=wt_init, bias_initializer=wt_init)(xdrop1)\n",
        "xdrop2 = Dropout(0.5)(xhid2)\n",
        "xout = Dense(output_units, activation='softmax', name='output_layer',\n",
        "             kernel_initializer=wt_init, bias_initializer=wt_init)(xdrop2)\n",
        "\n",
        "# Create the model\n",
        "model = Model(inputs=xin, outputs=xout, name='emotion_model')\n",
        "\n",
        "model.compile(optimizer=opt, loss=lossfunction, metrics=[CategoricalAccuracy(name='accuracy'),\n",
        "        Precision(name='precision')])\n",
        "\n",
        "# Model summary\n",
        "model.summary()\n",
        "\n",
        "\n",
        "# Data generators\n",
        "\n",
        "train_generator = DataGenerator(xtrn, ytrn, batch_size=bsize)\n",
        "val_generator = DataGenerator(xtst, ytst, batch_size=bsize)\n",
        "model.load_weights('ff_initial.h1')\n",
        "\n",
        "# Training the model\n",
        "H = model.fit(x=train_generator, epochs=nepochs, validation_data=val_generator, class_weight=class_weights)"
      ]
    },
    {
      "cell_type": "markdown",
      "metadata": {
        "id": "Qh7WUhmmjhSX"
      },
      "source": [
        "Smaller learning rate, removed second hidden layer and dropout."
      ]
    },
    {
      "cell_type": "code",
      "execution_count": null,
      "metadata": {
        "colab": {
          "base_uri": "https://localhost:8080/"
        },
        "id": "9QYRUNX7Xh-A",
        "outputId": "3375e2e0-ee54-44eb-cda8-5f240c661c72"
      },
      "outputs": [
        {
          "output_type": "stream",
          "name": "stdout",
          "text": [
            "Model: \"emotion_model\"\n",
            "_________________________________________________________________\n",
            " Layer (type)                Output Shape              Param #   \n",
            "=================================================================\n",
            " input_layer (InputLayer)    [(None, 1536)]            0         \n",
            "                                                                 \n",
            " hidden_layer1 (Dense)       (None, 128)               196736    \n",
            "                                                                 \n",
            " dropout_6 (Dropout)         (None, 128)               0         \n",
            "                                                                 \n",
            " output_layer (Dense)        (None, 6)                 774       \n",
            "                                                                 \n",
            "=================================================================\n",
            "Total params: 197510 (771.52 KB)\n",
            "Trainable params: 197510 (771.52 KB)\n",
            "Non-trainable params: 0 (0.00 Byte)\n",
            "_________________________________________________________________\n",
            "Epoch 1/10\n",
            "11723/11723 [==============================] - 79s 7ms/step - loss: 3.6223 - accuracy: 0.1063 - precision: 0.1644 - val_loss: 1.8126 - val_accuracy: 0.1084 - val_precision: 0.0000e+00\n",
            "Epoch 2/10\n",
            "11723/11723 [==============================] - 77s 7ms/step - loss: 3.4429 - accuracy: 0.1346 - precision: 0.1858 - val_loss: 1.8040 - val_accuracy: 0.1596 - val_precision: 0.1846\n",
            "Epoch 3/10\n",
            "11723/11723 [==============================] - 78s 7ms/step - loss: 3.4247 - accuracy: 0.1824 - precision: 0.2250 - val_loss: 1.7858 - val_accuracy: 0.2278 - val_precision: 0.1682\n",
            "Epoch 4/10\n",
            "11723/11723 [==============================] - 78s 7ms/step - loss: 3.4120 - accuracy: 0.1998 - precision: 0.2335 - val_loss: 1.7975 - val_accuracy: 0.2008 - val_precision: 0.1667\n",
            "Epoch 5/10\n",
            "11723/11723 [==============================] - 78s 7ms/step - loss: 3.4005 - accuracy: 0.1810 - precision: 0.2396 - val_loss: 1.7857 - val_accuracy: 0.2064 - val_precision: 0.1623\n",
            "Epoch 6/10\n",
            "11723/11723 [==============================] - 79s 7ms/step - loss: 3.3904 - accuracy: 0.1760 - precision: 0.2576 - val_loss: 1.7874 - val_accuracy: 0.2084 - val_precision: 0.1605\n",
            "Epoch 7/10\n",
            "11723/11723 [==============================] - 80s 7ms/step - loss: 3.3777 - accuracy: 0.1804 - precision: 0.2729 - val_loss: 1.7854 - val_accuracy: 0.1996 - val_precision: 0.1880\n",
            "Epoch 8/10\n",
            "11723/11723 [==============================] - 75s 6ms/step - loss: 3.3678 - accuracy: 0.1827 - precision: 0.2753 - val_loss: 1.7668 - val_accuracy: 0.2287 - val_precision: 0.1640\n",
            "Epoch 9/10\n",
            "11723/11723 [==============================] - 77s 7ms/step - loss: 3.3574 - accuracy: 0.1819 - precision: 0.2831 - val_loss: 1.7821 - val_accuracy: 0.2016 - val_precision: 0.1674\n",
            "Epoch 10/10\n",
            "11723/11723 [==============================] - 76s 7ms/step - loss: 3.3455 - accuracy: 0.1833 - precision: 0.2812 - val_loss: 1.7820 - val_accuracy: 0.1889 - val_precision: 0.1735\n"
          ]
        }
      ],
      "source": [
        "nepochs = 10 #Number of training epochs\n",
        "bsize = 32    #Batch size\n",
        "lrate = .001 #Learning rate\n",
        "lossfunction = 'categorical_crossentropy'\n",
        "wtrange = 1.0  #Range for initial weight randomization\n",
        "\n",
        "#Define parameters for initial random weights:\n",
        "wt_init = tf.keras.initializers.RandomUniform(minval = -wtrange, maxval = wtrange, seed = 1111)\n",
        "\n",
        "#Set parameters for the gradient descent method:\n",
        "opt = tf.keras.optimizers.Adam(learning_rate=lrate)\n",
        "input_shape = xtrn.shape[1]  # Feature size of embeddings\n",
        "output_units = 6  # Corresponds to the number of emotions\n",
        "\n",
        "\n",
        "# Build the model using the functional API\n",
        "xin = Input(shape=(input_shape,), name='input_layer')\n",
        "xhid1 = Dense(128, activation='relu', name='hidden_layer1',\n",
        "              kernel_initializer=wt_init, bias_initializer=wt_init)(xin)\n",
        "xdrop1 = Dropout(0.5)(xhid1)\n",
        "xout = Dense(output_units, activation='softmax', name='output_layer',\n",
        "             kernel_initializer=wt_init, bias_initializer=wt_init)(xdrop1)\n",
        "model = Model(inputs=xin, outputs=xout, name='emotion_model')\n",
        "# Compile the model\n",
        "model.compile(optimizer=opt, loss=lossfunction, metrics=[CategoricalAccuracy(name='accuracy'),\n",
        "        Precision(name='precision')])\n",
        "\n",
        "# Model summary\n",
        "model.summary()\n",
        "\n",
        "\n",
        "# Data generators\n",
        "\n",
        "train_generator = DataGenerator(xtrn, ytrn, batch_size=bsize)\n",
        "val_generator = DataGenerator(xtst, ytst, batch_size=bsize)\n",
        "#model.load_weights('ff_initial.h1')\n",
        "\n",
        "# Training the model\n",
        "H = model.fit(x=train_generator, epochs=nepochs, validation_data=val_generator, class_weight=class_weights)"
      ]
    },
    {
      "cell_type": "code",
      "execution_count": null,
      "metadata": {
        "colab": {
          "base_uri": "https://localhost:8080/"
        },
        "id": "MJzfYce2HdbK",
        "outputId": "1b62eaa8-6cd3-4296-aa95-7aa0eebe2829"
      },
      "outputs": [
        {
          "output_type": "stream",
          "name": "stdout",
          "text": [
            "1303/1303 [==============================] - 3s 2ms/step - loss: 1.7820 - accuracy: 0.1889 - precision: 0.1735\n"
          ]
        },
        {
          "output_type": "execute_result",
          "data": {
            "text/plain": [
              "[1.7820379734039307, 0.18891102075576782, 0.1734693944454193]"
            ]
          },
          "metadata": {},
          "execution_count": 21
        }
      ],
      "source": [
        "model.evaluate(xtst, ytst, batch_size = bsize)"
      ]
    },
    {
      "cell_type": "code",
      "source": [
        "trnloss = H.history['loss']\n",
        "tstloss = H.history['val_loss']\n",
        "plt.plot(trnloss)\n",
        "plt.plot(tstloss)\n",
        "plt.show()"
      ],
      "metadata": {
        "colab": {
          "base_uri": "https://localhost:8080/",
          "height": 430
        },
        "id": "z3Ent38GjBfj",
        "outputId": "05b0ab45-8850-4ca1-b580-6bd1ce71482e"
      },
      "execution_count": null,
      "outputs": [
        {
          "output_type": "display_data",
          "data": {
            "text/plain": [
              "<Figure size 640x480 with 1 Axes>"
            ],
            "image/png": "[encoded data removed]"
          },
          "metadata": {}
        }
      ]
    },
    {
      "cell_type": "code",
      "execution_count": null,
      "metadata": {
        "colab": {
          "base_uri": "https://localhost:8080/",
          "height": 448
        },
        "id": "BpX67ERhG6BM",
        "outputId": "bfffba58-907f-44f1-df7f-3b3d799c5d85"
      },
      "outputs": [
        {
          "data": {
            "text/plain": [
              "[<matplotlib.lines.Line2D at 0x7bd0c6625ba0>]"
            ]
          },
          "execution_count": 18,
          "metadata": {},
          "output_type": "execute_result"
        },
        {
          "data": {
            "image/png": "[encoded data removed]",
            "text/plain": [
              "<Figure size 640x480 with 1 Axes>"
            ]
          },
          "metadata": {},
          "output_type": "display_data"
        }
      ],
      "source": [
        "plt.plot(H.history['loss'], label='Training Loss')"
      ]
    },
    {
      "cell_type": "code",
      "execution_count": null,
      "metadata": {
        "colab": {
          "base_uri": "https://localhost:8080/",
          "height": 452
        },
        "id": "JtOM_zVrHFdc",
        "outputId": "37411fb0-7ea2-4c7f-8d37-e125c81c1057"
      },
      "outputs": [
        {
          "data": {
            "text/plain": [
              "[<matplotlib.lines.Line2D at 0x7bd0c65051b0>]"
            ]
          },
          "execution_count": 19,
          "metadata": {},
          "output_type": "execute_result"
        },
        {
          "data": {
            "image/png": "[encoded data removed]",
            "text/plain": [
              "<Figure size 640x480 with 1 Axes>"
            ]
          },
          "metadata": {},
          "output_type": "display_data"
        }
      ],
      "source": [
        "plt.plot(H.history['val_loss'], label='Validation Loss')"
      ]
    },
    {
      "cell_type": "code",
      "execution_count": null,
      "metadata": {
        "colab": {
          "base_uri": "https://localhost:8080/",
          "height": 448
        },
        "id": "wbvpAmcMHGWE",
        "outputId": "2eceec39-0cf1-4c99-c0be-a27d34cff990"
      },
      "outputs": [
        {
          "data": {
            "text/plain": [
              "[<matplotlib.lines.Line2D at 0x7bd0c656d780>]"
            ]
          },
          "execution_count": 20,
          "metadata": {},
          "output_type": "execute_result"
        },
        {
          "data": {
            "image/png": "[encoded data removed]",
            "text/plain": [
              "<Figure size 640x480 with 1 Axes>"
            ]
          },
          "metadata": {},
          "output_type": "display_data"
        }
      ],
      "source": [
        "plt.plot(H.history['accuracy'], label='Training Accuracy')"
      ]
    },
    {
      "cell_type": "code",
      "execution_count": null,
      "metadata": {
        "colab": {
          "base_uri": "https://localhost:8080/",
          "height": 448
        },
        "id": "eDi1ml0yHLTd",
        "outputId": "9415fe2d-bbae-4376-d654-9994cc8a1deb"
      },
      "outputs": [
        {
          "data": {
            "text/plain": [
              "[<matplotlib.lines.Line2D at 0x7bd0c63ec730>]"
            ]
          },
          "execution_count": 21,
          "metadata": {},
          "output_type": "execute_result"
        },
        {
          "data": {
            "image/png": "[encoded data removed]",
            "text/plain": [
              "<Figure size 640x480 with 1 Axes>"
            ]
          },
          "metadata": {},
          "output_type": "display_data"
        }
      ],
      "source": [
        "plt.plot(H.history['val_accuracy'], label='Validation Accuracy')"
      ]
    },
    {
      "cell_type": "markdown",
      "metadata": {
        "id": "KPlRKkBCj6Vo"
      },
      "source": [
        "no second hidden layer, less dense hidden layer"
      ]
    },
    {
      "cell_type": "code",
      "execution_count": null,
      "metadata": {
        "colab": {
          "base_uri": "https://localhost:8080/"
        },
        "id": "hEcDaMG0cvkA",
        "outputId": "f2423e73-178b-4eb2-de3d-0c504018fa6d"
      },
      "outputs": [
        {
          "output_type": "stream",
          "name": "stdout",
          "text": [
            "Model: \"emotion_model\"\n",
            "_________________________________________________________________\n",
            " Layer (type)                Output Shape              Param #   \n",
            "=================================================================\n",
            " input_layer (InputLayer)    [(None, 1536)]            0         \n",
            "                                                                 \n",
            " hidden_layer1 (Dense)       (None, 64)                98368     \n",
            "                                                                 \n",
            " dropout_11 (Dropout)        (None, 64)                0         \n",
            "                                                                 \n",
            " output_layer (Dense)        (None, 6)                 390       \n",
            "                                                                 \n",
            "=================================================================\n",
            "Total params: 98758 (385.77 KB)\n",
            "Trainable params: 98758 (385.77 KB)\n",
            "Non-trainable params: 0 (0.00 Byte)\n",
            "_________________________________________________________________\n",
            "Epoch 1/50\n",
            "11723/11723 [==============================] - 76s 6ms/step - loss: 3.4440 - accuracy: 0.1736 - precision: 0.2245 - val_loss: 1.7766 - val_accuracy: 0.2336 - val_precision: 0.1407\n",
            "Epoch 2/50\n",
            "11723/11723 [==============================] - 78s 7ms/step - loss: 3.4100 - accuracy: 0.2187 - precision: 0.2063 - val_loss: 1.7812 - val_accuracy: 0.2484 - val_precision: 0.1294\n",
            "Epoch 3/50\n",
            "11723/11723 [==============================] - 72s 6ms/step - loss: 3.3996 - accuracy: 0.2278 - precision: 0.2075 - val_loss: 1.8015 - val_accuracy: 0.2048 - val_precision: 0.1839\n",
            "Epoch 4/50\n",
            "11723/11723 [==============================] - 69s 6ms/step - loss: 3.3899 - accuracy: 0.2301 - precision: 0.2180 - val_loss: 1.7947 - val_accuracy: 0.2257 - val_precision: 0.1961\n",
            "Epoch 5/50\n",
            "11723/11723 [==============================] - 75s 6ms/step - loss: 3.3818 - accuracy: 0.2326 - precision: 0.2263 - val_loss: 1.7868 - val_accuracy: 0.2248 - val_precision: 0.1854\n",
            "Epoch 6/50\n",
            "11723/11723 [==============================] - 71s 6ms/step - loss: 3.3742 - accuracy: 0.2230 - precision: 0.2340 - val_loss: 1.7764 - val_accuracy: 0.2371 - val_precision: 0.1859\n",
            "Epoch 7/50\n",
            "11723/11723 [==============================] - 71s 6ms/step - loss: 3.3675 - accuracy: 0.2216 - precision: 0.2368 - val_loss: 1.7805 - val_accuracy: 0.2281 - val_precision: 0.1720\n",
            "Epoch 8/50\n",
            "11723/11723 [==============================] - 72s 6ms/step - loss: 3.3589 - accuracy: 0.2164 - precision: 0.2506 - val_loss: 1.7862 - val_accuracy: 0.2093 - val_precision: 0.1766\n",
            "Epoch 9/50\n",
            "11723/11723 [==============================] - 70s 6ms/step - loss: 3.3535 - accuracy: 0.2096 - precision: 0.2396 - val_loss: 1.7742 - val_accuracy: 0.2198 - val_precision: 0.1758\n",
            "Epoch 10/50\n",
            "11723/11723 [==============================] - 70s 6ms/step - loss: 3.3436 - accuracy: 0.2117 - precision: 0.2520 - val_loss: 1.7659 - val_accuracy: 0.2325 - val_precision: 0.1720\n",
            "Epoch 11/50\n",
            "11723/11723 [==============================] - 71s 6ms/step - loss: 3.3392 - accuracy: 0.2060 - precision: 0.2492 - val_loss: 1.7705 - val_accuracy: 0.2291 - val_precision: 0.1779\n",
            "Epoch 12/50\n",
            "11723/11723 [==============================] - 76s 6ms/step - loss: 3.3301 - accuracy: 0.2029 - precision: 0.2597 - val_loss: 1.7722 - val_accuracy: 0.2201 - val_precision: 0.1760\n",
            "Epoch 13/50\n",
            "11723/11723 [==============================] - 73s 6ms/step - loss: 3.3225 - accuracy: 0.2044 - precision: 0.2626 - val_loss: 1.7684 - val_accuracy: 0.2169 - val_precision: 0.1706\n",
            "Epoch 14/50\n",
            "11723/11723 [==============================] - 74s 6ms/step - loss: 3.3164 - accuracy: 0.2029 - precision: 0.2615 - val_loss: 1.7705 - val_accuracy: 0.2120 - val_precision: 0.1731\n",
            "Epoch 15/50\n",
            "11723/11723 [==============================] - 77s 7ms/step - loss: 3.3104 - accuracy: 0.2033 - precision: 0.2599 - val_loss: 1.7895 - val_accuracy: 0.1901 - val_precision: 0.1465\n",
            "Epoch 16/50\n",
            "11723/11723 [==============================] - 71s 6ms/step - loss: 3.3033 - accuracy: 0.2002 - precision: 0.2591 - val_loss: 1.7544 - val_accuracy: 0.2391 - val_precision: 0.1591\n",
            "Epoch 17/50\n",
            "11723/11723 [==============================] - 74s 6ms/step - loss: 3.2976 - accuracy: 0.1989 - precision: 0.2653 - val_loss: 1.7684 - val_accuracy: 0.2049 - val_precision: 0.1787\n",
            "Epoch 18/50\n",
            "11723/11723 [==============================] - 76s 6ms/step - loss: 3.2900 - accuracy: 0.1998 - precision: 0.2663 - val_loss: 1.7650 - val_accuracy: 0.2120 - val_precision: 0.1779\n",
            "Epoch 19/50\n",
            "11723/11723 [==============================] - 76s 6ms/step - loss: 3.2850 - accuracy: 0.1981 - precision: 0.2661 - val_loss: 1.7645 - val_accuracy: 0.2197 - val_precision: 0.1659\n",
            "Epoch 20/50\n",
            "11723/11723 [==============================] - 73s 6ms/step - loss: 3.2795 - accuracy: 0.1968 - precision: 0.2691 - val_loss: 1.7571 - val_accuracy: 0.2220 - val_precision: 0.1837\n",
            "Epoch 21/50\n",
            "11723/11723 [==============================] - 76s 6ms/step - loss: 3.2739 - accuracy: 0.1969 - precision: 0.2713 - val_loss: 1.7522 - val_accuracy: 0.2279 - val_precision: 0.1625\n",
            "Epoch 22/50\n",
            "11723/11723 [==============================] - 82s 7ms/step - loss: 3.2666 - accuracy: 0.1948 - precision: 0.2706 - val_loss: 1.7751 - val_accuracy: 0.1877 - val_precision: 0.1405\n",
            "Epoch 23/50\n",
            "11723/11723 [==============================] - 77s 7ms/step - loss: 3.2634 - accuracy: 0.1966 - precision: 0.2783 - val_loss: 1.7876 - val_accuracy: 0.1818 - val_precision: 0.1458\n",
            "Epoch 24/50\n",
            "11723/11723 [==============================] - 75s 6ms/step - loss: 3.2544 - accuracy: 0.1944 - precision: 0.2758 - val_loss: 1.7639 - val_accuracy: 0.2106 - val_precision: 0.1531\n",
            "Epoch 25/50\n",
            "11723/11723 [==============================] - 73s 6ms/step - loss: 3.2514 - accuracy: 0.1951 - precision: 0.2782 - val_loss: 1.7629 - val_accuracy: 0.2015 - val_precision: 0.1933\n",
            "Epoch 26/50\n",
            "11723/11723 [==============================] - 78s 7ms/step - loss: 3.2472 - accuracy: 0.1929 - precision: 0.2796 - val_loss: 1.7666 - val_accuracy: 0.1993 - val_precision: 0.1431\n",
            "Epoch 27/50\n",
            "11723/11723 [==============================] - 74s 6ms/step - loss: 3.2408 - accuracy: 0.1947 - precision: 0.2805 - val_loss: 1.7777 - val_accuracy: 0.1892 - val_precision: 0.1538\n",
            "Epoch 28/50\n",
            "11723/11723 [==============================] - 77s 7ms/step - loss: 3.2345 - accuracy: 0.1960 - precision: 0.2924 - val_loss: 1.7451 - val_accuracy: 0.2338 - val_precision: 0.1488\n",
            "Epoch 29/50\n",
            "11723/11723 [==============================] - 77s 7ms/step - loss: 3.2323 - accuracy: 0.1935 - precision: 0.2837 - val_loss: 1.7763 - val_accuracy: 0.1948 - val_precision: 0.1612\n",
            "Epoch 30/50\n",
            "11723/11723 [==============================] - 76s 7ms/step - loss: 3.2284 - accuracy: 0.1928 - precision: 0.2787 - val_loss: 1.7781 - val_accuracy: 0.1830 - val_precision: 0.1343\n",
            "Epoch 31/50\n",
            "11723/11723 [==============================] - 78s 7ms/step - loss: 3.2235 - accuracy: 0.1947 - precision: 0.2836 - val_loss: 1.7569 - val_accuracy: 0.2145 - val_precision: 0.1509\n",
            "Epoch 32/50\n",
            "11723/11723 [==============================] - 77s 7ms/step - loss: 3.2169 - accuracy: 0.1933 - precision: 0.2861 - val_loss: 1.7729 - val_accuracy: 0.1962 - val_precision: 0.1422\n",
            "Epoch 33/50\n",
            "11723/11723 [==============================] - 74s 6ms/step - loss: 3.2138 - accuracy: 0.1915 - precision: 0.2886 - val_loss: 1.7795 - val_accuracy: 0.1832 - val_precision: 0.1307\n",
            "Epoch 34/50\n",
            "11723/11723 [==============================] - 77s 7ms/step - loss: 3.2115 - accuracy: 0.1927 - precision: 0.2871 - val_loss: 1.7744 - val_accuracy: 0.1934 - val_precision: 0.1524\n",
            "Epoch 35/50\n",
            "11723/11723 [==============================] - 76s 7ms/step - loss: 3.2082 - accuracy: 0.1896 - precision: 0.2894 - val_loss: 1.7759 - val_accuracy: 0.1959 - val_precision: 0.1440\n",
            "Epoch 36/50\n",
            "11723/11723 [==============================] - 81s 7ms/step - loss: 3.1995 - accuracy: 0.1935 - precision: 0.2930 - val_loss: 1.7620 - val_accuracy: 0.2077 - val_precision: 0.1677\n",
            "Epoch 37/50\n",
            "11723/11723 [==============================] - 83s 7ms/step - loss: 3.1988 - accuracy: 0.1933 - precision: 0.2970 - val_loss: 1.7754 - val_accuracy: 0.1909 - val_precision: 0.1554\n",
            "Epoch 38/50\n",
            "11723/11723 [==============================] - 77s 7ms/step - loss: 3.1992 - accuracy: 0.1903 - precision: 0.2924 - val_loss: 1.7736 - val_accuracy: 0.1824 - val_precision: 0.1545\n",
            "Epoch 39/50\n",
            "11723/11723 [==============================] - 80s 7ms/step - loss: 3.1891 - accuracy: 0.1900 - precision: 0.2984 - val_loss: 1.7801 - val_accuracy: 0.1810 - val_precision: 0.1360\n",
            "Epoch 40/50\n",
            "11723/11723 [==============================] - 77s 7ms/step - loss: 3.1853 - accuracy: 0.1917 - precision: 0.2986 - val_loss: 1.7660 - val_accuracy: 0.2021 - val_precision: 0.1449\n",
            "Epoch 41/50\n",
            "11723/11723 [==============================] - 75s 6ms/step - loss: 3.1817 - accuracy: 0.1917 - precision: 0.2981 - val_loss: 1.7636 - val_accuracy: 0.2051 - val_precision: 0.1537\n",
            "Epoch 42/50\n",
            "11723/11723 [==============================] - 77s 7ms/step - loss: 3.1820 - accuracy: 0.1930 - precision: 0.2965 - val_loss: 1.7631 - val_accuracy: 0.2077 - val_precision: 0.1489\n",
            "Epoch 43/50\n",
            "11723/11723 [==============================] - 75s 6ms/step - loss: 3.1798 - accuracy: 0.1893 - precision: 0.2945 - val_loss: 1.7648 - val_accuracy: 0.2006 - val_precision: 0.1520\n",
            "Epoch 44/50\n",
            "11723/11723 [==============================] - 75s 6ms/step - loss: 3.1738 - accuracy: 0.1900 - precision: 0.2931 - val_loss: 1.7733 - val_accuracy: 0.1997 - val_precision: 0.1559\n",
            "Epoch 45/50\n",
            "11723/11723 [==============================] - 75s 6ms/step - loss: 3.1681 - accuracy: 0.1922 - precision: 0.2987 - val_loss: 1.7673 - val_accuracy: 0.2012 - val_precision: 0.1434\n",
            "Epoch 46/50\n",
            "11723/11723 [==============================] - 74s 6ms/step - loss: 3.1712 - accuracy: 0.1892 - precision: 0.3014 - val_loss: 1.7630 - val_accuracy: 0.2086 - val_precision: 0.1338\n",
            "Epoch 47/50\n",
            "11723/11723 [==============================] - 73s 6ms/step - loss: 3.1677 - accuracy: 0.1909 - precision: 0.3030 - val_loss: 1.7737 - val_accuracy: 0.1910 - val_precision: 0.1432\n",
            "Epoch 48/50\n",
            "11723/11723 [==============================] - 74s 6ms/step - loss: 3.1636 - accuracy: 0.1889 - precision: 0.3002 - val_loss: 1.7688 - val_accuracy: 0.2005 - val_precision: 0.1489\n",
            "Epoch 49/50\n",
            "11723/11723 [==============================] - 78s 7ms/step - loss: 3.1545 - accuracy: 0.1915 - precision: 0.3077 - val_loss: 1.7823 - val_accuracy: 0.1936 - val_precision: 0.1331\n",
            "Epoch 50/50\n",
            "11723/11723 [==============================] - 81s 7ms/step - loss: 3.1572 - accuracy: 0.1897 - precision: 0.3012 - val_loss: 1.7702 - val_accuracy: 0.2044 - val_precision: 0.1505\n"
          ]
        }
      ],
      "source": [
        "# Initialize parameters\n",
        "nepochs = 50\n",
        "bsize = 32\n",
        "lrate = 0.001\n",
        "lossfunction = 'categorical_crossentropy'\n",
        "wtrange = 1.0\n",
        "wt_init = tf.keras.initializers.RandomUniform(minval=-wtrange, maxval=wtrange, seed=1111)\n",
        "opt = tf.keras.optimizers.Adam(learning_rate=lrate)\n",
        "# Build the model\n",
        "xin = Input(shape=(input_shape,), name='input_layer')\n",
        "xhid1 = Dense(64, activation='relu', name='hidden_layer1', kernel_initializer=wt_init)(xin)\n",
        "xdrop1 = Dropout(0.5)(xhid1)  # Adjusted dropout rate\n",
        "xout = Dense(output_units, activation='softmax', name='output_layer')(xdrop1)\n",
        "model = Model(inputs=xin, outputs=xout, name='emotion_model')\n",
        "# Compile the model\n",
        "model.compile(optimizer=opt, loss=lossfunction, metrics=[CategoricalAccuracy(name='accuracy'),\n",
        "        Precision(name='precision')])\n",
        "\n",
        "# Model summary\n",
        "model.summary()\n",
        "\n",
        "\n",
        "# Data generators\n",
        "\n",
        "train_generator = DataGenerator(xtrn, ytrn, batch_size=bsize)\n",
        "val_generator = DataGenerator(xtst, ytst, batch_size=bsize)\n",
        "#model.save_weights('ff_second.h2')\n",
        "\n",
        "# Training the model\n",
        "H = model.fit(x=train_generator, epochs=nepochs, validation_data=val_generator, class_weight=class_weights)\n"
      ]
    },
    {
      "cell_type": "code",
      "execution_count": null,
      "metadata": {
        "colab": {
          "base_uri": "https://localhost:8080/"
        },
        "id": "JjCo3JNpeonD",
        "outputId": "368a1118-49bd-4a60-d53e-93f4affd8585"
      },
      "outputs": [
        {
          "output_type": "stream",
          "name": "stdout",
          "text": [
            "1303/1303 [==============================] - 4s 3ms/step - loss: 1.7702 - accuracy: 0.2044 - precision: 0.1505\n"
          ]
        },
        {
          "output_type": "execute_result",
          "data": {
            "text/plain": [
              "[1.7701972723007202, 0.2043856978416443, 0.15051311254501343]"
            ]
          },
          "metadata": {},
          "execution_count": 28
        }
      ],
      "source": [
        "model.evaluate(xtst, ytst, batch_size = bsize)"
      ]
    },
    {
      "cell_type": "code",
      "source": [
        "trnloss = H.history['loss']\n",
        "tstloss = H.history['val_loss']\n",
        "plt.plot(trnloss)\n",
        "plt.plot(tstloss)\n",
        "plt.show()"
      ],
      "metadata": {
        "colab": {
          "base_uri": "https://localhost:8080/",
          "height": 430
        },
        "id": "X_zCptNAPnly",
        "outputId": "9a9fe74b-f60f-4bfb-ccbe-a01a66227982"
      },
      "execution_count": null,
      "outputs": [
        {
          "output_type": "display_data",
          "data": {
            "text/plain": [
              "<Figure size 640x480 with 1 Axes>"
            ],
            "image/png": "[encoded data removed]"
          },
          "metadata": {}
        }
      ]
    },
    {
      "cell_type": "code",
      "execution_count": null,
      "metadata": {
        "colab": {
          "base_uri": "https://localhost:8080/",
          "height": 448
        },
        "id": "mH450VlOes9q",
        "outputId": "62b978be-b83c-41dc-ff10-2143eaea1211"
      },
      "outputs": [
        {
          "data": {
            "text/plain": [
              "[<matplotlib.lines.Line2D at 0x7bd0c4123490>]"
            ]
          },
          "execution_count": 24,
          "metadata": {},
          "output_type": "execute_result"
        },
        {
          "data": {
            "image/png": "[encoded data removed]",
            "text/plain": [
              "<Figure size 640x480 with 1 Axes>"
            ]
          },
          "metadata": {},
          "output_type": "display_data"
        }
      ],
      "source": [
        "plt.plot(H.history['loss'], label='Training Loss')"
      ]
    },
    {
      "cell_type": "code",
      "execution_count": null,
      "metadata": {
        "colab": {
          "base_uri": "https://localhost:8080/",
          "height": 448
        },
        "id": "qU74WQS9etS1",
        "outputId": "0e219b1c-6f62-43c1-a3a1-c9163e7dbea1"
      },
      "outputs": [
        {
          "data": {
            "text/plain": [
              "[<matplotlib.lines.Line2D at 0x7bd0b5ff2fb0>]"
            ]
          },
          "execution_count": 25,
          "metadata": {},
          "output_type": "execute_result"
        },
        {
          "data": {
            "image/png": "[encoded data removed]",
            "text/plain": [
              "<Figure size 640x480 with 1 Axes>"
            ]
          },
          "metadata": {},
          "output_type": "display_data"
        }
      ],
      "source": [
        "plt.plot(H.history['accuracy'], label='Training Accuracy')"
      ]
    },
    {
      "cell_type": "code",
      "execution_count": null,
      "metadata": {
        "colab": {
          "base_uri": "https://localhost:8080/",
          "height": 448
        },
        "id": "hHVHglE9etoJ",
        "outputId": "51789de7-ee8f-44dd-bf29-3718ac5e5419"
      },
      "outputs": [
        {
          "data": {
            "text/plain": [
              "[<matplotlib.lines.Line2D at 0x7bd0b7f53040>]"
            ]
          },
          "execution_count": 26,
          "metadata": {},
          "output_type": "execute_result"
        },
        {
          "data": {
            "image/png": "[encoded data removed]",
            "text/plain": [
              "<Figure size 640x480 with 1 Axes>"
            ]
          },
          "metadata": {},
          "output_type": "display_data"
        }
      ],
      "source": [
        "plt.plot(H.history['val_loss'], label='Validation Loss')"
      ]
    },
    {
      "cell_type": "code",
      "execution_count": null,
      "metadata": {
        "colab": {
          "base_uri": "https://localhost:8080/",
          "height": 448
        },
        "id": "dD_O64U8et4j",
        "outputId": "f392ee31-5100-4d11-9083-ca1262df3b56"
      },
      "outputs": [
        {
          "data": {
            "text/plain": [
              "[<matplotlib.lines.Line2D at 0x7bd0b7fca500>]"
            ]
          },
          "execution_count": 27,
          "metadata": {},
          "output_type": "execute_result"
        },
        {
          "data": {
            "image/png": "[encoded data removed]",
            "text/plain": [
              "<Figure size 640x480 with 1 Axes>"
            ]
          },
          "metadata": {},
          "output_type": "display_data"
        }
      ],
      "source": [
        "plt.plot(H.history['val_accuracy'], label='Validation Accuracy')"
      ]
    },
    {
      "cell_type": "code",
      "execution_count": null,
      "metadata": {
        "colab": {
          "base_uri": "https://localhost:8080/"
        },
        "id": "8VHAGLTSwwiz",
        "outputId": "170803aa-40a3-4d8e-b31d-d72cc9df4e2c"
      },
      "outputs": [
        {
          "output_type": "stream",
          "name": "stdout",
          "text": [
            "Model: \"emotion_model\"\n",
            "_________________________________________________________________\n",
            " Layer (type)                Output Shape              Param #   \n",
            "=================================================================\n",
            " input_layer (InputLayer)    [(None, 1536)]            0         \n",
            "                                                                 \n",
            " hidden_layer1 (Dense)       (None, 64)                98368     \n",
            "                                                                 \n",
            " dropout_12 (Dropout)        (None, 64)                0         \n",
            "                                                                 \n",
            " output_layer (Dense)        (None, 6)                 390       \n",
            "                                                                 \n",
            "=================================================================\n",
            "Total params: 98758 (385.77 KB)\n",
            "Trainable params: 98758 (385.77 KB)\n",
            "Non-trainable params: 0 (0.00 Byte)\n",
            "_________________________________________________________________\n",
            "Epoch 1/50\n",
            "11723/11723 [==============================] - 76s 6ms/step - loss: 3.4357 - accuracy: 0.1889 - precision: 0.1929 - val_loss: 1.7677 - val_accuracy: 0.2668 - val_precision: 0.1923\n",
            "Epoch 2/50\n",
            "11723/11723 [==============================] - 76s 6ms/step - loss: 3.3975 - accuracy: 0.2258 - precision: 0.2085 - val_loss: 1.7952 - val_accuracy: 0.2203 - val_precision: 0.1702\n",
            "Epoch 3/50\n",
            "11723/11723 [==============================] - 78s 7ms/step - loss: 3.3820 - accuracy: 0.2344 - precision: 0.2182 - val_loss: 1.7736 - val_accuracy: 0.2512 - val_precision: 0.1743\n",
            "Epoch 4/50\n",
            "11723/11723 [==============================] - 77s 7ms/step - loss: 3.3673 - accuracy: 0.2353 - precision: 0.2258 - val_loss: 1.7697 - val_accuracy: 0.2515 - val_precision: 0.1829\n",
            "Epoch 5/50\n",
            "11723/11723 [==============================] - 80s 7ms/step - loss: 3.3531 - accuracy: 0.2341 - precision: 0.2339 - val_loss: 1.7639 - val_accuracy: 0.2566 - val_precision: 0.2064\n",
            "Epoch 6/50\n",
            "11723/11723 [==============================] - 81s 7ms/step - loss: 3.3377 - accuracy: 0.2343 - precision: 0.2519 - val_loss: 1.7789 - val_accuracy: 0.2425 - val_precision: 0.1750\n",
            "Epoch 7/50\n",
            "11723/11723 [==============================] - 75s 6ms/step - loss: 3.3253 - accuracy: 0.2306 - precision: 0.2556 - val_loss: 1.7770 - val_accuracy: 0.2387 - val_precision: 0.1773\n",
            "Epoch 8/50\n",
            "11723/11723 [==============================] - 81s 7ms/step - loss: 3.3098 - accuracy: 0.2297 - precision: 0.2552 - val_loss: 1.7718 - val_accuracy: 0.2404 - val_precision: 0.1680\n",
            "Epoch 9/50\n",
            "11723/11723 [==============================] - 74s 6ms/step - loss: 3.2958 - accuracy: 0.2274 - precision: 0.2649 - val_loss: 1.7771 - val_accuracy: 0.2305 - val_precision: 0.1719\n",
            "Epoch 10/50\n",
            "11723/11723 [==============================] - 77s 7ms/step - loss: 3.2835 - accuracy: 0.2260 - precision: 0.2656 - val_loss: 1.7732 - val_accuracy: 0.2269 - val_precision: 0.1545\n",
            "Epoch 11/50\n",
            "11723/11723 [==============================] - 74s 6ms/step - loss: 3.2687 - accuracy: 0.2230 - precision: 0.2661 - val_loss: 1.7819 - val_accuracy: 0.2097 - val_precision: 0.1701\n",
            "Epoch 12/50\n",
            "11723/11723 [==============================] - 74s 6ms/step - loss: 3.2557 - accuracy: 0.2227 - precision: 0.2702 - val_loss: 1.7806 - val_accuracy: 0.2114 - val_precision: 0.1568\n",
            "Epoch 13/50\n",
            "11723/11723 [==============================] - 76s 6ms/step - loss: 3.2441 - accuracy: 0.2219 - precision: 0.2692 - val_loss: 1.7756 - val_accuracy: 0.2261 - val_precision: 0.1506\n",
            "Epoch 14/50\n",
            "11723/11723 [==============================] - 72s 6ms/step - loss: 3.2334 - accuracy: 0.2235 - precision: 0.2735 - val_loss: 1.7665 - val_accuracy: 0.2280 - val_precision: 0.1551\n",
            "Epoch 15/50\n",
            "11723/11723 [==============================] - 76s 6ms/step - loss: 3.2211 - accuracy: 0.2198 - precision: 0.2756 - val_loss: 1.7885 - val_accuracy: 0.1981 - val_precision: 0.1357\n",
            "Epoch 16/50\n",
            "11723/11723 [==============================] - 77s 7ms/step - loss: 3.2099 - accuracy: 0.2212 - precision: 0.2790 - val_loss: 1.7870 - val_accuracy: 0.2026 - val_precision: 0.1274\n",
            "Epoch 17/50\n",
            "11723/11723 [==============================] - 74s 6ms/step - loss: 3.1947 - accuracy: 0.2223 - precision: 0.2841 - val_loss: 1.7659 - val_accuracy: 0.2194 - val_precision: 0.1423\n",
            "Epoch 18/50\n",
            "11723/11723 [==============================] - 83s 7ms/step - loss: 3.1882 - accuracy: 0.2206 - precision: 0.2824 - val_loss: 1.7883 - val_accuracy: 0.2046 - val_precision: 0.1217\n",
            "Epoch 19/50\n",
            "11723/11723 [==============================] - 76s 6ms/step - loss: 3.1805 - accuracy: 0.2183 - precision: 0.2814 - val_loss: 1.7772 - val_accuracy: 0.2119 - val_precision: 0.1518\n",
            "Epoch 20/50\n",
            "11723/11723 [==============================] - 75s 6ms/step - loss: 3.1702 - accuracy: 0.2179 - precision: 0.2845 - val_loss: 1.7858 - val_accuracy: 0.2068 - val_precision: 0.1219\n",
            "Epoch 21/50\n",
            "11723/11723 [==============================] - 74s 6ms/step - loss: 3.1605 - accuracy: 0.2185 - precision: 0.2855 - val_loss: 1.7633 - val_accuracy: 0.2207 - val_precision: 0.1409\n",
            "Epoch 22/50\n",
            "11723/11723 [==============================] - 76s 6ms/step - loss: 3.1513 - accuracy: 0.2187 - precision: 0.2886 - val_loss: 1.7849 - val_accuracy: 0.1963 - val_precision: 0.1364\n",
            "Epoch 23/50\n",
            "11723/11723 [==============================] - 72s 6ms/step - loss: 3.1438 - accuracy: 0.2185 - precision: 0.2924 - val_loss: 1.7613 - val_accuracy: 0.2260 - val_precision: 0.1358\n",
            "Epoch 24/50\n",
            "11723/11723 [==============================] - 74s 6ms/step - loss: 3.1344 - accuracy: 0.2197 - precision: 0.2961 - val_loss: 1.7722 - val_accuracy: 0.2196 - val_precision: 0.1295\n",
            "Epoch 25/50\n",
            "11723/11723 [==============================] - 75s 6ms/step - loss: 3.1269 - accuracy: 0.2201 - precision: 0.2931 - val_loss: 1.7872 - val_accuracy: 0.2090 - val_precision: 0.1321\n",
            "Epoch 26/50\n",
            "11723/11723 [==============================] - 72s 6ms/step - loss: 3.1194 - accuracy: 0.2205 - precision: 0.2947 - val_loss: 1.7764 - val_accuracy: 0.2102 - val_precision: 0.1447\n",
            "Epoch 27/50\n",
            "11723/11723 [==============================] - 73s 6ms/step - loss: 3.1139 - accuracy: 0.2178 - precision: 0.2942 - val_loss: 1.7759 - val_accuracy: 0.2116 - val_precision: 0.1429\n",
            "Epoch 28/50\n",
            "11723/11723 [==============================] - 75s 6ms/step - loss: 3.1030 - accuracy: 0.2192 - precision: 0.3022 - val_loss: 1.7925 - val_accuracy: 0.1984 - val_precision: 0.1164\n",
            "Epoch 29/50\n",
            "11723/11723 [==============================] - 70s 6ms/step - loss: 3.0991 - accuracy: 0.2185 - precision: 0.2976 - val_loss: 1.7845 - val_accuracy: 0.2023 - val_precision: 0.1326\n",
            "Epoch 30/50\n",
            "11723/11723 [==============================] - 72s 6ms/step - loss: 3.0896 - accuracy: 0.2192 - precision: 0.3013 - val_loss: 1.7772 - val_accuracy: 0.2106 - val_precision: 0.1244\n",
            "Epoch 31/50\n",
            "11723/11723 [==============================] - 77s 7ms/step - loss: 3.0858 - accuracy: 0.2173 - precision: 0.3054 - val_loss: 1.7900 - val_accuracy: 0.1984 - val_precision: 0.1174\n",
            "Epoch 32/50\n",
            "11723/11723 [==============================] - 73s 6ms/step - loss: 3.0791 - accuracy: 0.2179 - precision: 0.3058 - val_loss: 1.7774 - val_accuracy: 0.2224 - val_precision: 0.1171\n",
            "Epoch 33/50\n",
            "11723/11723 [==============================] - 74s 6ms/step - loss: 3.0737 - accuracy: 0.2195 - precision: 0.3089 - val_loss: 1.7915 - val_accuracy: 0.1988 - val_precision: 0.1191\n",
            "Epoch 34/50\n",
            "11723/11723 [==============================] - 74s 6ms/step - loss: 3.0633 - accuracy: 0.2197 - precision: 0.3103 - val_loss: 1.7974 - val_accuracy: 0.1996 - val_precision: 0.1278\n",
            "Epoch 35/50\n",
            "11723/11723 [==============================] - 70s 6ms/step - loss: 3.0579 - accuracy: 0.2202 - precision: 0.3139 - val_loss: 1.7889 - val_accuracy: 0.2082 - val_precision: 0.1194\n",
            "Epoch 36/50\n",
            "11723/11723 [==============================] - 73s 6ms/step - loss: 3.0581 - accuracy: 0.2187 - precision: 0.3120 - val_loss: 1.7980 - val_accuracy: 0.1977 - val_precision: 0.1063\n",
            "Epoch 37/50\n",
            "11723/11723 [==============================] - 76s 6ms/step - loss: 3.0512 - accuracy: 0.2190 - precision: 0.3153 - val_loss: 1.7872 - val_accuracy: 0.2099 - val_precision: 0.1306\n",
            "Epoch 38/50\n",
            "11723/11723 [==============================] - 76s 6ms/step - loss: 3.0470 - accuracy: 0.2187 - precision: 0.3147 - val_loss: 1.7932 - val_accuracy: 0.2082 - val_precision: 0.1357\n",
            "Epoch 39/50\n",
            "11723/11723 [==============================] - 74s 6ms/step - loss: 3.0409 - accuracy: 0.2175 - precision: 0.3166 - val_loss: 1.7938 - val_accuracy: 0.2163 - val_precision: 0.1221\n",
            "Epoch 40/50\n",
            "11723/11723 [==============================] - 75s 6ms/step - loss: 3.0316 - accuracy: 0.2193 - precision: 0.3185 - val_loss: 1.7977 - val_accuracy: 0.2000 - val_precision: 0.1305\n",
            "Epoch 41/50\n",
            "11723/11723 [==============================] - 71s 6ms/step - loss: 3.0293 - accuracy: 0.2182 - precision: 0.3206 - val_loss: 1.7960 - val_accuracy: 0.2131 - val_precision: 0.1316\n",
            "Epoch 42/50\n",
            "11723/11723 [==============================] - 66s 6ms/step - loss: 3.0222 - accuracy: 0.2186 - precision: 0.3219 - val_loss: 1.7965 - val_accuracy: 0.2072 - val_precision: 0.1167\n",
            "Epoch 43/50\n",
            "11723/11723 [==============================] - 71s 6ms/step - loss: 3.0217 - accuracy: 0.2193 - precision: 0.3216 - val_loss: 1.8113 - val_accuracy: 0.1975 - val_precision: 0.1219\n",
            "Epoch 44/50\n",
            "11723/11723 [==============================] - 66s 6ms/step - loss: 3.0182 - accuracy: 0.2191 - precision: 0.3219 - val_loss: 1.8069 - val_accuracy: 0.2015 - val_precision: 0.1092\n",
            "Epoch 45/50\n",
            "11723/11723 [==============================] - 78s 7ms/step - loss: 3.0119 - accuracy: 0.2196 - precision: 0.3247 - val_loss: 1.8077 - val_accuracy: 0.2028 - val_precision: 0.1254\n",
            "Epoch 46/50\n",
            "11723/11723 [==============================] - 78s 7ms/step - loss: 3.0082 - accuracy: 0.2206 - precision: 0.3211 - val_loss: 1.8190 - val_accuracy: 0.1990 - val_precision: 0.1280\n",
            "Epoch 47/50\n",
            "11723/11723 [==============================] - 75s 6ms/step - loss: 3.0044 - accuracy: 0.2200 - precision: 0.3259 - val_loss: 1.8154 - val_accuracy: 0.2062 - val_precision: 0.1489\n",
            "Epoch 48/50\n",
            "11723/11723 [==============================] - 74s 6ms/step - loss: 3.0002 - accuracy: 0.2188 - precision: 0.3283 - val_loss: 1.8075 - val_accuracy: 0.2132 - val_precision: 0.1220\n",
            "Epoch 49/50\n",
            "11723/11723 [==============================] - 77s 7ms/step - loss: 2.9978 - accuracy: 0.2200 - precision: 0.3310 - val_loss: 1.8228 - val_accuracy: 0.1951 - val_precision: 0.1172\n",
            "Epoch 50/50\n",
            "11723/11723 [==============================] - 75s 6ms/step - loss: 2.9910 - accuracy: 0.2181 - precision: 0.3324 - val_loss: 1.8192 - val_accuracy: 0.2036 - val_precision: 0.1366\n"
          ]
        }
      ],
      "source": [
        "# Initialize parameters\n",
        "input_shape = xtrn.shape[1]  # Feature size of embeddings\n",
        "output_units = 6  # Corresponds to the number of emotions\n",
        "nepochs = 50\n",
        "bsize = 32\n",
        "lrate = 0.001\n",
        "lossfunction = 'categorical_crossentropy'\n",
        "wtrange = 1.0\n",
        "wt_init = tf.keras.initializers.RandomUniform(minval=-wtrange, maxval=wtrange, seed=1111)\n",
        "opt = tf.keras.optimizers.Adam(learning_rate=lrate)\n",
        "# Build the model\n",
        "xin = Input(shape=(input_shape,), name='input_layer')\n",
        "xhid1 = Dense(64, activation='relu', name='hidden_layer1', kernel_initializer=wt_init)(xin)\n",
        "xdrop1 = Dropout(0.3)(xhid1)  # Adjusted dropout rate\n",
        "xout = Dense(output_units, activation='softmax', name='output_layer')(xdrop1)\n",
        "model = Model(inputs=xin, outputs=xout, name='emotion_model')\n",
        "\n",
        "# Compile the model\n",
        "model.compile(optimizer=opt, loss=lossfunction, metrics=[CategoricalAccuracy(name='accuracy'),\n",
        "        Precision(name='precision')])\n",
        "\n",
        "# Model summary\n",
        "model.summary()\n",
        "\n",
        "\n",
        "# Data generators\n",
        "\n",
        "train_generator = DataGenerator(xtrn, ytrn, batch_size=bsize)\n",
        "val_generator = DataGenerator(xtst, ytst, batch_size=bsize)\n",
        "\n",
        "# Training the model\n",
        "H = model.fit(x=train_generator, epochs=nepochs, validation_data=val_generator, class_weight=class_weights)\n"
      ]
    },
    {
      "cell_type": "code",
      "source": [
        "model.evaluate(xtst, ytst, batch_size = bsize)"
      ],
      "metadata": {
        "colab": {
          "base_uri": "https://localhost:8080/"
        },
        "id": "gRinMxDoWUWN",
        "outputId": "b42e084e-7737-423c-c67e-0bce28b5d7b3"
      },
      "execution_count": null,
      "outputs": [
        {
          "output_type": "stream",
          "name": "stdout",
          "text": [
            "1303/1303 [==============================] - 4s 3ms/step - loss: 1.8192 - accuracy: 0.2036 - precision: 0.1366\n"
          ]
        },
        {
          "output_type": "execute_result",
          "data": {
            "text/plain": [
              "[1.8192201852798462, 0.20356997847557068, 0.13655462861061096]"
            ]
          },
          "metadata": {},
          "execution_count": 31
        }
      ]
    },
    {
      "cell_type": "code",
      "source": [
        "trnloss = H.history['loss']\n",
        "tstloss = H.history['val_loss']\n",
        "plt.plot(trnloss)\n",
        "plt.plot(tstloss)\n",
        "plt.show()"
      ],
      "metadata": {
        "colab": {
          "base_uri": "https://localhost:8080/",
          "height": 431
        },
        "id": "0xlVdGCNWU1i",
        "outputId": "53184c1c-2d84-404d-9b4e-cfb782d99bef"
      },
      "execution_count": null,
      "outputs": [
        {
          "output_type": "display_data",
          "data": {
            "text/plain": [
              "<Figure size 640x480 with 1 Axes>"
            ],
            "image/png": "[encoded data removed]"
          },
          "metadata": {}
        }
      ]
    },
    {
      "cell_type": "code",
      "source": [
        "trnacc = H.history['accuracy']\n",
        "tstacc = H.history['val_accuracy']\n",
        "plt.plot(trnacc)\n",
        "plt.plot(tstacc)\n",
        "plt.show()"
      ],
      "metadata": {
        "colab": {
          "base_uri": "https://localhost:8080/",
          "height": 432
        },
        "id": "2F7ZMMgnl9QS",
        "outputId": "0a77d886-b48b-4e97-8c26-d3f3b88735b3"
      },
      "execution_count": null,
      "outputs": [
        {
          "output_type": "display_data",
          "data": {
            "text/plain": [
              "<Figure size 640x480 with 1 Axes>"
            ],
            "image/png": "[encoded data removed]"
          },
          "metadata": {}
        }
      ]
    },
    {
      "cell_type": "code",
      "execution_count": null,
      "metadata": {
        "colab": {
          "base_uri": "https://localhost:8080/",
          "height": 1000
        },
        "id": "NgjPhsmVcX3i",
        "outputId": "f1346986-500f-4c77-c8d3-ee9160975af3"
      },
      "outputs": [
        {
          "name": "stdout",
          "output_type": "stream",
          "text": [
            "Model: \"emotion_model\"\n",
            "_________________________________________________________________\n",
            " Layer (type)                Output Shape              Param #   \n",
            "=================================================================\n",
            " input_layer (InputLayer)    [(None, 1536)]            0         \n",
            "                                                                 \n",
            " hidden_layer1 (Dense)       (None, 128)               196736    \n",
            "                                                                 \n",
            " dropout_4 (Dropout)         (None, 128)               0         \n",
            "                                                                 \n",
            " output_layer (Dense)        (None, 6)                 774       \n",
            "                                                                 \n",
            "=================================================================\n",
            "Total params: 197510 (771.52 KB)\n",
            "Trainable params: 197510 (771.52 KB)\n",
            "Non-trainable params: 0 (0.00 Byte)\n",
            "_________________________________________________________________\n",
            "Epoch 1/50\n",
            "11723/11723 [==============================] - 93s 8ms/step - loss: 3.4299 - accuracy: 0.1877 - precision: 0.1989 - val_loss: 1.7829 - val_accuracy: 0.2401 - val_precision: 0.1595\n",
            "Epoch 2/50\n",
            "11723/11723 [==============================] - 85s 7ms/step - loss: 3.3909 - accuracy: 0.2236 - precision: 0.2113 - val_loss: 1.7883 - val_accuracy: 0.2270 - val_precision: 0.1677\n",
            "Epoch 3/50\n",
            "11723/11723 [==============================] - 87s 7ms/step - loss: 3.3681 - accuracy: 0.2320 - precision: 0.2203 - val_loss: 1.7703 - val_accuracy: 0.2518 - val_precision: 0.1770\n",
            "Epoch 4/50\n",
            "11723/11723 [==============================] - 79s 7ms/step - loss: 3.3442 - accuracy: 0.2304 - precision: 0.2331 - val_loss: 1.7688 - val_accuracy: 0.2500 - val_precision: 0.1825\n",
            "Epoch 5/50\n",
            "11723/11723 [==============================] - 79s 7ms/step - loss: 3.3179 - accuracy: 0.2290 - precision: 0.2520 - val_loss: 1.7773 - val_accuracy: 0.2252 - val_precision: 0.1818\n",
            "Epoch 6/50\n",
            "11723/11723 [==============================] - 82s 7ms/step - loss: 3.2897 - accuracy: 0.2283 - precision: 0.2620 - val_loss: 1.7856 - val_accuracy: 0.2201 - val_precision: 0.1671\n",
            "Epoch 7/50\n",
            "11723/11723 [==============================] - 82s 7ms/step - loss: 3.2606 - accuracy: 0.2276 - precision: 0.2693 - val_loss: 1.7661 - val_accuracy: 0.2300 - val_precision: 0.1729\n",
            "Epoch 8/50\n",
            "11723/11723 [==============================] - 83s 7ms/step - loss: 3.2310 - accuracy: 0.2285 - precision: 0.2728 - val_loss: 1.7764 - val_accuracy: 0.2147 - val_precision: 0.1578\n",
            "Epoch 9/50\n",
            "11723/11723 [==============================] - 82s 7ms/step - loss: 3.2054 - accuracy: 0.2293 - precision: 0.2804 - val_loss: 1.7661 - val_accuracy: 0.2290 - val_precision: 0.1513\n",
            "Epoch 10/50\n",
            "11723/11723 [==============================] - 81s 7ms/step - loss: 3.1774 - accuracy: 0.2298 - precision: 0.2803 - val_loss: 1.7778 - val_accuracy: 0.2192 - val_precision: 0.1505\n",
            "Epoch 11/50\n",
            "11723/11723 [==============================] - 82s 7ms/step - loss: 3.1501 - accuracy: 0.2312 - precision: 0.2919 - val_loss: 1.7895 - val_accuracy: 0.2021 - val_precision: 0.1487\n",
            "Epoch 12/50\n",
            "11723/11723 [==============================] - 81s 7ms/step - loss: 3.1274 - accuracy: 0.2327 - precision: 0.2928 - val_loss: 1.7764 - val_accuracy: 0.2110 - val_precision: 0.1319\n",
            "Epoch 13/50\n",
            "11723/11723 [==============================] - 84s 7ms/step - loss: 3.1007 - accuracy: 0.2353 - precision: 0.3004 - val_loss: 1.7767 - val_accuracy: 0.2143 - val_precision: 0.1363\n",
            "Epoch 14/50\n",
            "11723/11723 [==============================] - 89s 8ms/step - loss: 3.0823 - accuracy: 0.2351 - precision: 0.3043 - val_loss: 1.7714 - val_accuracy: 0.2232 - val_precision: 0.1271\n",
            "Epoch 15/50\n",
            "11723/11723 [==============================] - 85s 7ms/step - loss: 3.0591 - accuracy: 0.2365 - precision: 0.3063 - val_loss: 1.7639 - val_accuracy: 0.2248 - val_precision: 0.1311\n",
            "Epoch 16/50\n",
            "11723/11723 [==============================] - 83s 7ms/step - loss: 3.0380 - accuracy: 0.2375 - precision: 0.3121 - val_loss: 1.7831 - val_accuracy: 0.2132 - val_precision: 0.1191\n",
            "Epoch 17/50\n",
            "11723/11723 [==============================] - 84s 7ms/step - loss: 3.0246 - accuracy: 0.2392 - precision: 0.3095 - val_loss: 1.7910 - val_accuracy: 0.1977 - val_precision: 0.1401\n",
            "Epoch 18/50\n",
            " 3344/11723 [=======>......................] - ETA: 53s - loss: 2.9760 - accuracy: 0.2431 - precision: 0.3329"
          ]
        },
        {
          "ename": "KeyboardInterrupt",
          "evalue": "",
          "output_type": "error",
          "traceback": [
            "\u001b[0;31m---------------------------------------------------------------------------\u001b[0m",
            "\u001b[0;31mKeyboardInterrupt\u001b[0m                         Traceback (most recent call last)",
            "\u001b[0;32m<ipython-input-17-90ac7afa803c>\u001b[0m in \u001b[0;36m<cell line: 33>\u001b[0;34m()\u001b[0m\n\u001b[1;32m     31\u001b[0m \u001b[0;34m\u001b[0m\u001b[0m\n\u001b[1;32m     32\u001b[0m \u001b[0;31m# Training the model\u001b[0m\u001b[0;34m\u001b[0m\u001b[0;34m\u001b[0m\u001b[0m\n\u001b[0;32m---> 33\u001b[0;31m \u001b[0mH\u001b[0m \u001b[0;34m=\u001b[0m \u001b[0mmodel\u001b[0m\u001b[0;34m.\u001b[0m\u001b[0mfit\u001b[0m\u001b[0;34m(\u001b[0m\u001b[0mx\u001b[0m\u001b[0;34m=\u001b[0m\u001b[0mtrain_generator\u001b[0m\u001b[0;34m,\u001b[0m \u001b[0mepochs\u001b[0m\u001b[0;34m=\u001b[0m\u001b[0mnepochs\u001b[0m\u001b[0;34m,\u001b[0m \u001b[0mvalidation_data\u001b[0m\u001b[0;34m=\u001b[0m\u001b[0mval_generator\u001b[0m\u001b[0;34m,\u001b[0m \u001b[0mclass_weight\u001b[0m\u001b[0;34m=\u001b[0m\u001b[0mclass_weights\u001b[0m\u001b[0;34m)\u001b[0m\u001b[0;34m\u001b[0m\u001b[0;34m\u001b[0m\u001b[0m\n\u001b[0m",
            "\u001b[0;32m/usr/local/lib/python3.10/dist-packages/keras/src/utils/traceback_utils.py\u001b[0m in \u001b[0;36merror_handler\u001b[0;34m(*args, **kwargs)\u001b[0m\n\u001b[1;32m     63\u001b[0m         \u001b[0mfiltered_tb\u001b[0m \u001b[0;34m=\u001b[0m \u001b[0;32mNone\u001b[0m\u001b[0;34m\u001b[0m\u001b[0;34m\u001b[0m\u001b[0m\n\u001b[1;32m     64\u001b[0m         \u001b[0;32mtry\u001b[0m\u001b[0;34m:\u001b[0m\u001b[0;34m\u001b[0m\u001b[0;34m\u001b[0m\u001b[0m\n\u001b[0;32m---> 65\u001b[0;31m             \u001b[0;32mreturn\u001b[0m \u001b[0mfn\u001b[0m\u001b[0;34m(\u001b[0m\u001b[0;34m*\u001b[0m\u001b[0margs\u001b[0m\u001b[0;34m,\u001b[0m \u001b[0;34m**\u001b[0m\u001b[0mkwargs\u001b[0m\u001b[0;34m)\u001b[0m\u001b[0;34m\u001b[0m\u001b[0;34m\u001b[0m\u001b[0m\n\u001b[0m\u001b[1;32m     66\u001b[0m         \u001b[0;32mexcept\u001b[0m \u001b[0mException\u001b[0m \u001b[0;32mas\u001b[0m \u001b[0me\u001b[0m\u001b[0;34m:\u001b[0m\u001b[0;34m\u001b[0m\u001b[0;34m\u001b[0m\u001b[0m\n\u001b[1;32m     67\u001b[0m             \u001b[0mfiltered_tb\u001b[0m \u001b[0;34m=\u001b[0m \u001b[0m_process_traceback_frames\u001b[0m\u001b[0;34m(\u001b[0m\u001b[0me\u001b[0m\u001b[0;34m.\u001b[0m\u001b[0m__traceback__\u001b[0m\u001b[0;34m)\u001b[0m\u001b[0;34m\u001b[0m\u001b[0;34m\u001b[0m\u001b[0m\n",
            "\u001b[0;32m/usr/local/lib/python3.10/dist-packages/keras/src/engine/training.py\u001b[0m in \u001b[0;36mfit\u001b[0;34m(self, x, y, batch_size, epochs, verbose, callbacks, validation_split, validation_data, shuffle, class_weight, sample_weight, initial_epoch, steps_per_epoch, validation_steps, validation_batch_size, validation_freq, max_queue_size, workers, use_multiprocessing)\u001b[0m\n\u001b[1;32m   1796\u001b[0m                 \u001b[0mcallbacks\u001b[0m\u001b[0;34m.\u001b[0m\u001b[0mon_epoch_begin\u001b[0m\u001b[0;34m(\u001b[0m\u001b[0mepoch\u001b[0m\u001b[0;34m)\u001b[0m\u001b[0;34m\u001b[0m\u001b[0;34m\u001b[0m\u001b[0m\n\u001b[1;32m   1797\u001b[0m                 \u001b[0;32mwith\u001b[0m \u001b[0mdata_handler\u001b[0m\u001b[0;34m.\u001b[0m\u001b[0mcatch_stop_iteration\u001b[0m\u001b[0;34m(\u001b[0m\u001b[0;34m)\u001b[0m\u001b[0;34m:\u001b[0m\u001b[0;34m\u001b[0m\u001b[0;34m\u001b[0m\u001b[0m\n\u001b[0;32m-> 1798\u001b[0;31m                     \u001b[0;32mfor\u001b[0m \u001b[0mstep\u001b[0m \u001b[0;32min\u001b[0m \u001b[0mdata_handler\u001b[0m\u001b[0;34m.\u001b[0m\u001b[0msteps\u001b[0m\u001b[0;34m(\u001b[0m\u001b[0;34m)\u001b[0m\u001b[0;34m:\u001b[0m\u001b[0;34m\u001b[0m\u001b[0;34m\u001b[0m\u001b[0m\n\u001b[0m\u001b[1;32m   1799\u001b[0m                         with tf.profiler.experimental.Trace(\n\u001b[1;32m   1800\u001b[0m                             \u001b[0;34m\"train\"\u001b[0m\u001b[0;34m,\u001b[0m\u001b[0;34m\u001b[0m\u001b[0;34m\u001b[0m\u001b[0m\n",
            "\u001b[0;32m/usr/local/lib/python3.10/dist-packages/keras/src/engine/data_adapter.py\u001b[0m in \u001b[0;36msteps\u001b[0;34m(self)\u001b[0m\n\u001b[1;32m   1409\u001b[0m             \u001b[0;32mif\u001b[0m \u001b[0mself\u001b[0m\u001b[0;34m.\u001b[0m\u001b[0m_insufficient_data\u001b[0m\u001b[0;34m:\u001b[0m  \u001b[0;31m# Set by `catch_stop_iteration`.\u001b[0m\u001b[0;34m\u001b[0m\u001b[0;34m\u001b[0m\u001b[0m\n\u001b[1;32m   1410\u001b[0m                 \u001b[0;32mbreak\u001b[0m\u001b[0;34m\u001b[0m\u001b[0;34m\u001b[0m\u001b[0m\n\u001b[0;32m-> 1411\u001b[0;31m             \u001b[0moriginal_spe\u001b[0m \u001b[0;34m=\u001b[0m \u001b[0mself\u001b[0m\u001b[0;34m.\u001b[0m\u001b[0m_steps_per_execution\u001b[0m\u001b[0;34m.\u001b[0m\u001b[0mnumpy\u001b[0m\u001b[0;34m(\u001b[0m\u001b[0;34m)\u001b[0m\u001b[0;34m.\u001b[0m\u001b[0mitem\u001b[0m\u001b[0;34m(\u001b[0m\u001b[0;34m)\u001b[0m\u001b[0;34m\u001b[0m\u001b[0;34m\u001b[0m\u001b[0m\n\u001b[0m\u001b[1;32m   1412\u001b[0m             can_run_full_execution = (\n\u001b[1;32m   1413\u001b[0m                 \u001b[0moriginal_spe\u001b[0m \u001b[0;34m==\u001b[0m \u001b[0;36m1\u001b[0m\u001b[0;34m\u001b[0m\u001b[0;34m\u001b[0m\u001b[0m\n",
            "\u001b[0;32m/usr/local/lib/python3.10/dist-packages/tensorflow/python/ops/resource_variable_ops.py\u001b[0m in \u001b[0;36mnumpy\u001b[0;34m(self)\u001b[0m\n\u001b[1;32m    687\u001b[0m   \u001b[0;32mdef\u001b[0m \u001b[0mnumpy\u001b[0m\u001b[0;34m(\u001b[0m\u001b[0mself\u001b[0m\u001b[0;34m)\u001b[0m\u001b[0;34m:\u001b[0m\u001b[0;34m\u001b[0m\u001b[0;34m\u001b[0m\u001b[0m\n\u001b[1;32m    688\u001b[0m     \u001b[0;32mif\u001b[0m \u001b[0mcontext\u001b[0m\u001b[0;34m.\u001b[0m\u001b[0mexecuting_eagerly\u001b[0m\u001b[0;34m(\u001b[0m\u001b[0;34m)\u001b[0m\u001b[0;34m:\u001b[0m\u001b[0;34m\u001b[0m\u001b[0;34m\u001b[0m\u001b[0m\n\u001b[0;32m--> 689\u001b[0;31m       \u001b[0;32mreturn\u001b[0m \u001b[0mself\u001b[0m\u001b[0;34m.\u001b[0m\u001b[0mread_value\u001b[0m\u001b[0;34m(\u001b[0m\u001b[0;34m)\u001b[0m\u001b[0;34m.\u001b[0m\u001b[0mnumpy\u001b[0m\u001b[0;34m(\u001b[0m\u001b[0;34m)\u001b[0m\u001b[0;34m\u001b[0m\u001b[0;34m\u001b[0m\u001b[0m\n\u001b[0m\u001b[1;32m    690\u001b[0m     raise NotImplementedError(\n\u001b[1;32m    691\u001b[0m         \"numpy() is only available when eager execution is enabled.\")\n",
            "\u001b[0;32m/usr/local/lib/python3.10/dist-packages/tensorflow/python/ops/resource_variable_ops.py\u001b[0m in \u001b[0;36mread_value\u001b[0;34m(self)\u001b[0m\n\u001b[1;32m    840\u001b[0m     \u001b[0;31m# Return an identity so it can get placed on whatever device the context\u001b[0m\u001b[0;34m\u001b[0m\u001b[0;34m\u001b[0m\u001b[0m\n\u001b[1;32m    841\u001b[0m     \u001b[0;31m# specifies instead of the device where the variable is.\u001b[0m\u001b[0;34m\u001b[0m\u001b[0;34m\u001b[0m\u001b[0m\n\u001b[0;32m--> 842\u001b[0;31m     \u001b[0;32mreturn\u001b[0m \u001b[0marray_ops\u001b[0m\u001b[0;34m.\u001b[0m\u001b[0midentity\u001b[0m\u001b[0;34m(\u001b[0m\u001b[0mvalue\u001b[0m\u001b[0;34m)\u001b[0m\u001b[0;34m\u001b[0m\u001b[0;34m\u001b[0m\u001b[0m\n\u001b[0m\u001b[1;32m    843\u001b[0m \u001b[0;34m\u001b[0m\u001b[0m\n\u001b[1;32m    844\u001b[0m   \u001b[0;32mdef\u001b[0m \u001b[0mread_value_no_copy\u001b[0m\u001b[0;34m(\u001b[0m\u001b[0mself\u001b[0m\u001b[0;34m)\u001b[0m\u001b[0;34m:\u001b[0m\u001b[0;34m\u001b[0m\u001b[0;34m\u001b[0m\u001b[0m\n",
            "\u001b[0;32m/usr/local/lib/python3.10/dist-packages/tensorflow/python/ops/weak_tensor_ops.py\u001b[0m in \u001b[0;36mwrapper\u001b[0;34m(*args, **kwargs)\u001b[0m\n\u001b[1;32m     86\u001b[0m   \u001b[0;32mdef\u001b[0m \u001b[0mwrapper\u001b[0m\u001b[0;34m(\u001b[0m\u001b[0;34m*\u001b[0m\u001b[0margs\u001b[0m\u001b[0;34m,\u001b[0m \u001b[0;34m**\u001b[0m\u001b[0mkwargs\u001b[0m\u001b[0;34m)\u001b[0m\u001b[0;34m:\u001b[0m\u001b[0;34m\u001b[0m\u001b[0;34m\u001b[0m\u001b[0m\n\u001b[1;32m     87\u001b[0m     \u001b[0;32mif\u001b[0m \u001b[0;32mnot\u001b[0m \u001b[0mops\u001b[0m\u001b[0;34m.\u001b[0m\u001b[0mis_auto_dtype_conversion_enabled\u001b[0m\u001b[0;34m(\u001b[0m\u001b[0;34m)\u001b[0m\u001b[0;34m:\u001b[0m\u001b[0;34m\u001b[0m\u001b[0;34m\u001b[0m\u001b[0m\n\u001b[0;32m---> 88\u001b[0;31m       \u001b[0;32mreturn\u001b[0m \u001b[0mop\u001b[0m\u001b[0;34m(\u001b[0m\u001b[0;34m*\u001b[0m\u001b[0margs\u001b[0m\u001b[0;34m,\u001b[0m \u001b[0;34m**\u001b[0m\u001b[0mkwargs\u001b[0m\u001b[0;34m)\u001b[0m\u001b[0;34m\u001b[0m\u001b[0;34m\u001b[0m\u001b[0m\n\u001b[0m\u001b[1;32m     89\u001b[0m     \u001b[0mbound_arguments\u001b[0m \u001b[0;34m=\u001b[0m \u001b[0msignature\u001b[0m\u001b[0;34m.\u001b[0m\u001b[0mbind\u001b[0m\u001b[0;34m(\u001b[0m\u001b[0;34m*\u001b[0m\u001b[0margs\u001b[0m\u001b[0;34m,\u001b[0m \u001b[0;34m**\u001b[0m\u001b[0mkwargs\u001b[0m\u001b[0;34m)\u001b[0m\u001b[0;34m\u001b[0m\u001b[0;34m\u001b[0m\u001b[0m\n\u001b[1;32m     90\u001b[0m     \u001b[0mbound_arguments\u001b[0m\u001b[0;34m.\u001b[0m\u001b[0mapply_defaults\u001b[0m\u001b[0;34m(\u001b[0m\u001b[0;34m)\u001b[0m\u001b[0;34m\u001b[0m\u001b[0;34m\u001b[0m\u001b[0m\n",
            "\u001b[0;32m/usr/local/lib/python3.10/dist-packages/tensorflow/python/util/traceback_utils.py\u001b[0m in \u001b[0;36merror_handler\u001b[0;34m(*args, **kwargs)\u001b[0m\n\u001b[1;32m    148\u001b[0m     \u001b[0mfiltered_tb\u001b[0m \u001b[0;34m=\u001b[0m \u001b[0;32mNone\u001b[0m\u001b[0;34m\u001b[0m\u001b[0;34m\u001b[0m\u001b[0m\n\u001b[1;32m    149\u001b[0m     \u001b[0;32mtry\u001b[0m\u001b[0;34m:\u001b[0m\u001b[0;34m\u001b[0m\u001b[0;34m\u001b[0m\u001b[0m\n\u001b[0;32m--> 150\u001b[0;31m       \u001b[0;32mreturn\u001b[0m \u001b[0mfn\u001b[0m\u001b[0;34m(\u001b[0m\u001b[0;34m*\u001b[0m\u001b[0margs\u001b[0m\u001b[0;34m,\u001b[0m \u001b[0;34m**\u001b[0m\u001b[0mkwargs\u001b[0m\u001b[0;34m)\u001b[0m\u001b[0;34m\u001b[0m\u001b[0;34m\u001b[0m\u001b[0m\n\u001b[0m\u001b[1;32m    151\u001b[0m     \u001b[0;32mexcept\u001b[0m \u001b[0mException\u001b[0m \u001b[0;32mas\u001b[0m \u001b[0me\u001b[0m\u001b[0;34m:\u001b[0m\u001b[0;34m\u001b[0m\u001b[0;34m\u001b[0m\u001b[0m\n\u001b[1;32m    152\u001b[0m       \u001b[0mfiltered_tb\u001b[0m \u001b[0;34m=\u001b[0m \u001b[0m_process_traceback_frames\u001b[0m\u001b[0;34m(\u001b[0m\u001b[0me\u001b[0m\u001b[0;34m.\u001b[0m\u001b[0m__traceback__\u001b[0m\u001b[0;34m)\u001b[0m\u001b[0;34m\u001b[0m\u001b[0;34m\u001b[0m\u001b[0m\n",
            "\u001b[0;32m/usr/local/lib/python3.10/dist-packages/tensorflow/python/util/dispatch.py\u001b[0m in \u001b[0;36mop_dispatch_handler\u001b[0;34m(*args, **kwargs)\u001b[0m\n\u001b[1;32m   1258\u001b[0m       \u001b[0;31m# Fallback dispatch system (dispatch v1):\u001b[0m\u001b[0;34m\u001b[0m\u001b[0;34m\u001b[0m\u001b[0m\n\u001b[1;32m   1259\u001b[0m       \u001b[0;32mtry\u001b[0m\u001b[0;34m:\u001b[0m\u001b[0;34m\u001b[0m\u001b[0;34m\u001b[0m\u001b[0m\n\u001b[0;32m-> 1260\u001b[0;31m         \u001b[0;32mreturn\u001b[0m \u001b[0mdispatch_target\u001b[0m\u001b[0;34m(\u001b[0m\u001b[0;34m*\u001b[0m\u001b[0margs\u001b[0m\u001b[0;34m,\u001b[0m \u001b[0;34m**\u001b[0m\u001b[0mkwargs\u001b[0m\u001b[0;34m)\u001b[0m\u001b[0;34m\u001b[0m\u001b[0;34m\u001b[0m\u001b[0m\n\u001b[0m\u001b[1;32m   1261\u001b[0m       \u001b[0;32mexcept\u001b[0m \u001b[0;34m(\u001b[0m\u001b[0mTypeError\u001b[0m\u001b[0;34m,\u001b[0m \u001b[0mValueError\u001b[0m\u001b[0;34m)\u001b[0m\u001b[0;34m:\u001b[0m\u001b[0;34m\u001b[0m\u001b[0;34m\u001b[0m\u001b[0m\n\u001b[1;32m   1262\u001b[0m         \u001b[0;31m# Note: convert_to_eager_tensor currently raises a ValueError, not a\u001b[0m\u001b[0;34m\u001b[0m\u001b[0;34m\u001b[0m\u001b[0m\n",
            "\u001b[0;32m/usr/local/lib/python3.10/dist-packages/tensorflow/python/ops/array_ops.py\u001b[0m in \u001b[0;36midentity\u001b[0;34m(input, name)\u001b[0m\n\u001b[1;32m    310\u001b[0m     \u001b[0;31m# variables. Variables have correct handle data when graph building.\u001b[0m\u001b[0;34m\u001b[0m\u001b[0;34m\u001b[0m\u001b[0m\n\u001b[1;32m    311\u001b[0m     \u001b[0minput\u001b[0m \u001b[0;34m=\u001b[0m \u001b[0mops\u001b[0m\u001b[0;34m.\u001b[0m\u001b[0mconvert_to_tensor\u001b[0m\u001b[0;34m(\u001b[0m\u001b[0minput\u001b[0m\u001b[0;34m)\u001b[0m\u001b[0;34m\u001b[0m\u001b[0;34m\u001b[0m\u001b[0m\n\u001b[0;32m--> 312\u001b[0;31m   \u001b[0mret\u001b[0m \u001b[0;34m=\u001b[0m \u001b[0mgen_array_ops\u001b[0m\u001b[0;34m.\u001b[0m\u001b[0midentity\u001b[0m\u001b[0;34m(\u001b[0m\u001b[0minput\u001b[0m\u001b[0;34m,\u001b[0m \u001b[0mname\u001b[0m\u001b[0;34m=\u001b[0m\u001b[0mname\u001b[0m\u001b[0;34m)\u001b[0m\u001b[0;34m\u001b[0m\u001b[0;34m\u001b[0m\u001b[0m\n\u001b[0m\u001b[1;32m    313\u001b[0m   \u001b[0;31m# Propagate handle data for happier shape inference for resource variables.\u001b[0m\u001b[0;34m\u001b[0m\u001b[0;34m\u001b[0m\u001b[0m\n\u001b[1;32m    314\u001b[0m   \u001b[0;32mif\u001b[0m \u001b[0mhasattr\u001b[0m\u001b[0;34m(\u001b[0m\u001b[0minput\u001b[0m\u001b[0;34m,\u001b[0m \u001b[0;34m\"_handle_data\"\u001b[0m\u001b[0;34m)\u001b[0m\u001b[0;34m:\u001b[0m\u001b[0;34m\u001b[0m\u001b[0;34m\u001b[0m\u001b[0m\n",
            "\u001b[0;32m/usr/local/lib/python3.10/dist-packages/tensorflow/python/ops/gen_array_ops.py\u001b[0m in \u001b[0;36midentity\u001b[0;34m(input, name)\u001b[0m\n\u001b[1;32m   4182\u001b[0m   \u001b[0;32mif\u001b[0m \u001b[0mtld\u001b[0m\u001b[0;34m.\u001b[0m\u001b[0mis_eager\u001b[0m\u001b[0;34m:\u001b[0m\u001b[0;34m\u001b[0m\u001b[0;34m\u001b[0m\u001b[0m\n\u001b[1;32m   4183\u001b[0m     \u001b[0;32mtry\u001b[0m\u001b[0;34m:\u001b[0m\u001b[0;34m\u001b[0m\u001b[0;34m\u001b[0m\u001b[0m\n\u001b[0;32m-> 4184\u001b[0;31m       _result = pywrap_tfe.TFE_Py_FastPathExecute(\n\u001b[0m\u001b[1;32m   4185\u001b[0m         _ctx, \"Identity\", name, input)\n\u001b[1;32m   4186\u001b[0m       \u001b[0;32mreturn\u001b[0m \u001b[0m_result\u001b[0m\u001b[0;34m\u001b[0m\u001b[0;34m\u001b[0m\u001b[0m\n",
            "\u001b[0;31mKeyboardInterrupt\u001b[0m: "
          ]
        }
      ],
      "source": [
        "# Initialize parameters\n",
        "input_shape = xtrn.shape[1]  # Feature size of embeddings\n",
        "output_units = 6  # Corresponds to the number of emotions\n",
        "nepochs = 50\n",
        "bsize = 32\n",
        "lrate = 0.001\n",
        "lossfunction = 'categorical_crossentropy'\n",
        "wtrange = 1.0\n",
        "wt_init = tf.keras.initializers.RandomUniform(minval=-wtrange, maxval=wtrange, seed=1111)\n",
        "opt = tf.keras.optimizers.Adam(learning_rate=lrate)\n",
        "# Build the model\n",
        "xin = Input(shape=(input_shape,), name='input_layer')\n",
        "xhid1 = Dense(128, activation='relu', name='hidden_layer1', kernel_initializer=wt_init)(xin)\n",
        "xdrop1 = Dropout(0.3)(xhid1)  # Adjusted dropout rate\n",
        "xout = Dense(output_units, activation='softmax', name='output_layer')(xdrop1)\n",
        "model = Model(inputs=xin, outputs=xout, name='emotion_model')\n",
        "\n",
        "# Compile the model\n",
        "model.compile(optimizer=opt, loss=lossfunction, metrics=[CategoricalAccuracy(name='accuracy'),\n",
        "        Precision(name='precision')])\n",
        "\n",
        "# Model summary\n",
        "model.summary()\n",
        "\n",
        "\n",
        "# Data generators\n",
        "\n",
        "train_generator = DataGenerator(xtrn, ytrn, batch_size=bsize)\n",
        "val_generator = DataGenerator(xtst, ytst, batch_size=bsize)\n",
        "\n",
        "\n",
        "# Training the model\n",
        "H = model.fit(x=train_generator, epochs=nepochs, validation_data=val_generator, class_weight=class_weights)"
      ]
    },
    {
      "cell_type": "code",
      "execution_count": null,
      "metadata": {
        "id": "NYciri_ypU7r"
      },
      "outputs": [],
      "source": [
        "trnloss = H.history['loss']\n",
        "tstloss = H.history['val_loss']\n",
        "plt.plot(trnloss)\n",
        "plt.plot(tstloss)\n",
        "plt.show()"
      ]
    },
    {
      "cell_type": "code",
      "execution_count": null,
      "metadata": {
        "colab": {
          "base_uri": "https://localhost:8080/",
          "height": 1000
        },
        "id": "lhuAj1crh59z",
        "outputId": "f91756a4-35f8-419b-ff13-876aa36da62c"
      },
      "outputs": [
        {
          "output_type": "stream",
          "name": "stdout",
          "text": [
            "Model: \"emotion_model\"\n",
            "_________________________________________________________________\n",
            " Layer (type)                Output Shape              Param #   \n",
            "=================================================================\n",
            " input_layer (InputLayer)    [(None, 1536)]            0         \n",
            "                                                                 \n",
            " hidden_layer1 (Dense)       (None, 64)                98368     \n",
            "                                                                 \n",
            " dropout_9 (Dropout)         (None, 64)                0         \n",
            "                                                                 \n",
            " output_layer (Dense)        (None, 6)                 390       \n",
            "                                                                 \n",
            "=================================================================\n",
            "Total params: 98758 (385.77 KB)\n",
            "Trainable params: 98758 (385.77 KB)\n",
            "Non-trainable params: 0 (0.00 Byte)\n",
            "_________________________________________________________________\n"
          ]
        },
        {
          "output_type": "stream",
          "name": "stderr",
          "text": [
            "WARNING:tensorflow:Detecting that an object or model or tf.train.Checkpoint is being deleted with unrestored values. See the following logs for the specific values in question. To silence these warnings, use `status.expect_partial()`. See https://www.tensorflow.org/api_docs/python/tf/train/Checkpoint#restorefor details about the status object returned by the restore function.\n",
            "WARNING:tensorflow:Value in checkpoint could not be found in the restored object: (root).layer_with_weights-2.kernel\n",
            "WARNING:tensorflow:Value in checkpoint could not be found in the restored object: (root).layer_with_weights-2.bias\n"
          ]
        },
        {
          "output_type": "stream",
          "name": "stdout",
          "text": [
            "Epoch 1/50\n",
            "11723/11723 [==============================] - 82s 7ms/step - loss: 3.9046 - accuracy: 0.1679 - precision: 0.1363 - val_loss: 1.7907 - val_accuracy: 0.1355 - val_precision: 0.0000e+00\n",
            "Epoch 2/50\n",
            "11723/11723 [==============================] - 75s 6ms/step - loss: 3.4325 - accuracy: 0.1441 - precision: 0.2500 - val_loss: 1.7856 - val_accuracy: 0.1238 - val_precision: 0.0000e+00\n",
            "Epoch 3/50\n",
            "11723/11723 [==============================] - 72s 6ms/step - loss: 3.4092 - accuracy: 0.1325 - precision: 0.0909 - val_loss: 1.7959 - val_accuracy: 0.1332 - val_precision: 0.0000e+00\n",
            "Epoch 4/50\n",
            "11723/11723 [==============================] - 71s 6ms/step - loss: 3.3931 - accuracy: 0.1288 - precision: 0.0435 - val_loss: 1.7769 - val_accuracy: 0.1183 - val_precision: 0.0000e+00\n",
            "Epoch 5/50\n",
            "11723/11723 [==============================] - 73s 6ms/step - loss: 3.3822 - accuracy: 0.1233 - precision: 0.0328 - val_loss: 1.7780 - val_accuracy: 0.1357 - val_precision: 0.0000e+00\n",
            "Epoch 6/50\n",
            "11723/11723 [==============================] - 72s 6ms/step - loss: 3.3770 - accuracy: 0.1220 - precision: 0.0432 - val_loss: 1.7717 - val_accuracy: 0.1073 - val_precision: 0.0000e+00\n",
            "Epoch 7/50\n",
            "11723/11723 [==============================] - 77s 7ms/step - loss: 3.3720 - accuracy: 0.1196 - precision: 0.0039 - val_loss: 1.7813 - val_accuracy: 0.1409 - val_precision: 0.0000e+00\n",
            "Epoch 8/50\n",
            "11723/11723 [==============================] - 73s 6ms/step - loss: 3.5700 - accuracy: 0.1150 - precision: 0.1328 - val_loss: 2.2676 - val_accuracy: 0.0950 - val_precision: 0.1309\n",
            "Epoch 9/50\n",
            "11723/11723 [==============================] - 71s 6ms/step - loss: 3.9216 - accuracy: 0.1191 - precision: 0.1484 - val_loss: 1.9528 - val_accuracy: 0.1250 - val_precision: 0.1493\n",
            "Epoch 10/50\n",
            "11723/11723 [==============================] - 69s 6ms/step - loss: 4.0091 - accuracy: 0.1110 - precision: 0.1608 - val_loss: 2.2375 - val_accuracy: 0.0992 - val_precision: 0.1640\n",
            "Epoch 11/50\n",
            "11723/11723 [==============================] - 73s 6ms/step - loss: 3.9024 - accuracy: 0.1065 - precision: 0.1648 - val_loss: 1.9970 - val_accuracy: 0.0823 - val_precision: 0.1666\n",
            "Epoch 12/50\n",
            "11723/11723 [==============================] - 85s 7ms/step - loss: 3.7755 - accuracy: 0.0990 - precision: 0.1655 - val_loss: 2.1117 - val_accuracy: 0.1021 - val_precision: 0.1675\n",
            "Epoch 13/50\n",
            "11723/11723 [==============================] - 77s 7ms/step - loss: 3.6928 - accuracy: 0.1233 - precision: 0.1655 - val_loss: 1.8364 - val_accuracy: 0.1410 - val_precision: 0.1677\n",
            "Epoch 14/50\n",
            "  578/11723 [>.............................] - ETA: 1:22 - loss: 3.5714 - accuracy: 0.1389 - precision: 0.1625"
          ]
        },
        {
          "output_type": "error",
          "ename": "KeyboardInterrupt",
          "evalue": "",
          "traceback": [
            "\u001b[0;31m---------------------------------------------------------------------------\u001b[0m",
            "\u001b[0;31mKeyboardInterrupt\u001b[0m                         Traceback (most recent call last)",
            "\u001b[0;32m<ipython-input-25-e9c786c40d9b>\u001b[0m in \u001b[0;36m<cell line: 31>\u001b[0;34m()\u001b[0m\n\u001b[1;32m     29\u001b[0m \u001b[0;34m\u001b[0m\u001b[0m\n\u001b[1;32m     30\u001b[0m \u001b[0;31m# Training the model\u001b[0m\u001b[0;34m\u001b[0m\u001b[0;34m\u001b[0m\u001b[0m\n\u001b[0;32m---> 31\u001b[0;31m \u001b[0mH\u001b[0m \u001b[0;34m=\u001b[0m \u001b[0mmodel\u001b[0m\u001b[0;34m.\u001b[0m\u001b[0mfit\u001b[0m\u001b[0;34m(\u001b[0m\u001b[0mx\u001b[0m\u001b[0;34m=\u001b[0m\u001b[0mtrain_generator\u001b[0m\u001b[0;34m,\u001b[0m \u001b[0mepochs\u001b[0m\u001b[0;34m=\u001b[0m\u001b[0mnepochs\u001b[0m\u001b[0;34m,\u001b[0m \u001b[0mvalidation_data\u001b[0m\u001b[0;34m=\u001b[0m\u001b[0mval_generator\u001b[0m\u001b[0;34m,\u001b[0m \u001b[0mclass_weight\u001b[0m\u001b[0;34m=\u001b[0m\u001b[0mclass_weights\u001b[0m\u001b[0;34m)\u001b[0m\u001b[0;34m\u001b[0m\u001b[0;34m\u001b[0m\u001b[0m\n\u001b[0m",
            "\u001b[0;32m/usr/local/lib/python3.10/dist-packages/keras/src/utils/traceback_utils.py\u001b[0m in \u001b[0;36merror_handler\u001b[0;34m(*args, **kwargs)\u001b[0m\n\u001b[1;32m     63\u001b[0m         \u001b[0mfiltered_tb\u001b[0m \u001b[0;34m=\u001b[0m \u001b[0;32mNone\u001b[0m\u001b[0;34m\u001b[0m\u001b[0;34m\u001b[0m\u001b[0m\n\u001b[1;32m     64\u001b[0m         \u001b[0;32mtry\u001b[0m\u001b[0;34m:\u001b[0m\u001b[0;34m\u001b[0m\u001b[0;34m\u001b[0m\u001b[0m\n\u001b[0;32m---> 65\u001b[0;31m             \u001b[0;32mreturn\u001b[0m \u001b[0mfn\u001b[0m\u001b[0;34m(\u001b[0m\u001b[0;34m*\u001b[0m\u001b[0margs\u001b[0m\u001b[0;34m,\u001b[0m \u001b[0;34m**\u001b[0m\u001b[0mkwargs\u001b[0m\u001b[0;34m)\u001b[0m\u001b[0;34m\u001b[0m\u001b[0;34m\u001b[0m\u001b[0m\n\u001b[0m\u001b[1;32m     66\u001b[0m         \u001b[0;32mexcept\u001b[0m \u001b[0mException\u001b[0m \u001b[0;32mas\u001b[0m \u001b[0me\u001b[0m\u001b[0;34m:\u001b[0m\u001b[0;34m\u001b[0m\u001b[0;34m\u001b[0m\u001b[0m\n\u001b[1;32m     67\u001b[0m             \u001b[0mfiltered_tb\u001b[0m \u001b[0;34m=\u001b[0m \u001b[0m_process_traceback_frames\u001b[0m\u001b[0;34m(\u001b[0m\u001b[0me\u001b[0m\u001b[0;34m.\u001b[0m\u001b[0m__traceback__\u001b[0m\u001b[0;34m)\u001b[0m\u001b[0;34m\u001b[0m\u001b[0;34m\u001b[0m\u001b[0m\n",
            "\u001b[0;32m/usr/local/lib/python3.10/dist-packages/keras/src/engine/training.py\u001b[0m in \u001b[0;36mfit\u001b[0;34m(self, x, y, batch_size, epochs, verbose, callbacks, validation_split, validation_data, shuffle, class_weight, sample_weight, initial_epoch, steps_per_epoch, validation_steps, validation_batch_size, validation_freq, max_queue_size, workers, use_multiprocessing)\u001b[0m\n\u001b[1;32m   1805\u001b[0m                         ):\n\u001b[1;32m   1806\u001b[0m                             \u001b[0mcallbacks\u001b[0m\u001b[0;34m.\u001b[0m\u001b[0mon_train_batch_begin\u001b[0m\u001b[0;34m(\u001b[0m\u001b[0mstep\u001b[0m\u001b[0;34m)\u001b[0m\u001b[0;34m\u001b[0m\u001b[0;34m\u001b[0m\u001b[0m\n\u001b[0;32m-> 1807\u001b[0;31m                             \u001b[0mtmp_logs\u001b[0m \u001b[0;34m=\u001b[0m \u001b[0mself\u001b[0m\u001b[0;34m.\u001b[0m\u001b[0mtrain_function\u001b[0m\u001b[0;34m(\u001b[0m\u001b[0miterator\u001b[0m\u001b[0;34m)\u001b[0m\u001b[0;34m\u001b[0m\u001b[0;34m\u001b[0m\u001b[0m\n\u001b[0m\u001b[1;32m   1808\u001b[0m                             \u001b[0;32mif\u001b[0m \u001b[0mdata_handler\u001b[0m\u001b[0;34m.\u001b[0m\u001b[0mshould_sync\u001b[0m\u001b[0;34m:\u001b[0m\u001b[0;34m\u001b[0m\u001b[0;34m\u001b[0m\u001b[0m\n\u001b[1;32m   1809\u001b[0m                                 \u001b[0mcontext\u001b[0m\u001b[0;34m.\u001b[0m\u001b[0masync_wait\u001b[0m\u001b[0;34m(\u001b[0m\u001b[0;34m)\u001b[0m\u001b[0;34m\u001b[0m\u001b[0;34m\u001b[0m\u001b[0m\n",
            "\u001b[0;32m/usr/local/lib/python3.10/dist-packages/tensorflow/python/util/traceback_utils.py\u001b[0m in \u001b[0;36merror_handler\u001b[0;34m(*args, **kwargs)\u001b[0m\n\u001b[1;32m    148\u001b[0m     \u001b[0mfiltered_tb\u001b[0m \u001b[0;34m=\u001b[0m \u001b[0;32mNone\u001b[0m\u001b[0;34m\u001b[0m\u001b[0;34m\u001b[0m\u001b[0m\n\u001b[1;32m    149\u001b[0m     \u001b[0;32mtry\u001b[0m\u001b[0;34m:\u001b[0m\u001b[0;34m\u001b[0m\u001b[0;34m\u001b[0m\u001b[0m\n\u001b[0;32m--> 150\u001b[0;31m       \u001b[0;32mreturn\u001b[0m \u001b[0mfn\u001b[0m\u001b[0;34m(\u001b[0m\u001b[0;34m*\u001b[0m\u001b[0margs\u001b[0m\u001b[0;34m,\u001b[0m \u001b[0;34m**\u001b[0m\u001b[0mkwargs\u001b[0m\u001b[0;34m)\u001b[0m\u001b[0;34m\u001b[0m\u001b[0;34m\u001b[0m\u001b[0m\n\u001b[0m\u001b[1;32m    151\u001b[0m     \u001b[0;32mexcept\u001b[0m \u001b[0mException\u001b[0m \u001b[0;32mas\u001b[0m \u001b[0me\u001b[0m\u001b[0;34m:\u001b[0m\u001b[0;34m\u001b[0m\u001b[0;34m\u001b[0m\u001b[0m\n\u001b[1;32m    152\u001b[0m       \u001b[0mfiltered_tb\u001b[0m \u001b[0;34m=\u001b[0m \u001b[0m_process_traceback_frames\u001b[0m\u001b[0;34m(\u001b[0m\u001b[0me\u001b[0m\u001b[0;34m.\u001b[0m\u001b[0m__traceback__\u001b[0m\u001b[0;34m)\u001b[0m\u001b[0;34m\u001b[0m\u001b[0;34m\u001b[0m\u001b[0m\n",
            "\u001b[0;32m/usr/local/lib/python3.10/dist-packages/tensorflow/python/eager/polymorphic_function/polymorphic_function.py\u001b[0m in \u001b[0;36m__call__\u001b[0;34m(self, *args, **kwds)\u001b[0m\n\u001b[1;32m    830\u001b[0m \u001b[0;34m\u001b[0m\u001b[0m\n\u001b[1;32m    831\u001b[0m       \u001b[0;32mwith\u001b[0m \u001b[0mOptionalXlaContext\u001b[0m\u001b[0;34m(\u001b[0m\u001b[0mself\u001b[0m\u001b[0;34m.\u001b[0m\u001b[0m_jit_compile\u001b[0m\u001b[0;34m)\u001b[0m\u001b[0;34m:\u001b[0m\u001b[0;34m\u001b[0m\u001b[0;34m\u001b[0m\u001b[0m\n\u001b[0;32m--> 832\u001b[0;31m         \u001b[0mresult\u001b[0m \u001b[0;34m=\u001b[0m \u001b[0mself\u001b[0m\u001b[0;34m.\u001b[0m\u001b[0m_call\u001b[0m\u001b[0;34m(\u001b[0m\u001b[0;34m*\u001b[0m\u001b[0margs\u001b[0m\u001b[0;34m,\u001b[0m \u001b[0;34m**\u001b[0m\u001b[0mkwds\u001b[0m\u001b[0;34m)\u001b[0m\u001b[0;34m\u001b[0m\u001b[0;34m\u001b[0m\u001b[0m\n\u001b[0m\u001b[1;32m    833\u001b[0m \u001b[0;34m\u001b[0m\u001b[0m\n\u001b[1;32m    834\u001b[0m       \u001b[0mnew_tracing_count\u001b[0m \u001b[0;34m=\u001b[0m \u001b[0mself\u001b[0m\u001b[0;34m.\u001b[0m\u001b[0mexperimental_get_tracing_count\u001b[0m\u001b[0;34m(\u001b[0m\u001b[0;34m)\u001b[0m\u001b[0;34m\u001b[0m\u001b[0;34m\u001b[0m\u001b[0m\n",
            "\u001b[0;32m/usr/local/lib/python3.10/dist-packages/tensorflow/python/eager/polymorphic_function/polymorphic_function.py\u001b[0m in \u001b[0;36m_call\u001b[0;34m(self, *args, **kwds)\u001b[0m\n\u001b[1;32m    866\u001b[0m       \u001b[0;31m# In this case we have created variables on the first call, so we run the\u001b[0m\u001b[0;34m\u001b[0m\u001b[0;34m\u001b[0m\u001b[0m\n\u001b[1;32m    867\u001b[0m       \u001b[0;31m# defunned version which is guaranteed to never create variables.\u001b[0m\u001b[0;34m\u001b[0m\u001b[0;34m\u001b[0m\u001b[0m\n\u001b[0;32m--> 868\u001b[0;31m       return tracing_compilation.call_function(\n\u001b[0m\u001b[1;32m    869\u001b[0m           \u001b[0margs\u001b[0m\u001b[0;34m,\u001b[0m \u001b[0mkwds\u001b[0m\u001b[0;34m,\u001b[0m \u001b[0mself\u001b[0m\u001b[0;34m.\u001b[0m\u001b[0m_no_variable_creation_config\u001b[0m\u001b[0;34m\u001b[0m\u001b[0;34m\u001b[0m\u001b[0m\n\u001b[1;32m    870\u001b[0m       )\n",
            "\u001b[0;32m/usr/local/lib/python3.10/dist-packages/tensorflow/python/eager/polymorphic_function/tracing_compilation.py\u001b[0m in \u001b[0;36mcall_function\u001b[0;34m(args, kwargs, tracing_options)\u001b[0m\n\u001b[1;32m    137\u001b[0m   \u001b[0mbound_args\u001b[0m \u001b[0;34m=\u001b[0m \u001b[0mfunction\u001b[0m\u001b[0;34m.\u001b[0m\u001b[0mfunction_type\u001b[0m\u001b[0;34m.\u001b[0m\u001b[0mbind\u001b[0m\u001b[0;34m(\u001b[0m\u001b[0;34m*\u001b[0m\u001b[0margs\u001b[0m\u001b[0;34m,\u001b[0m \u001b[0;34m**\u001b[0m\u001b[0mkwargs\u001b[0m\u001b[0;34m)\u001b[0m\u001b[0;34m\u001b[0m\u001b[0;34m\u001b[0m\u001b[0m\n\u001b[1;32m    138\u001b[0m   \u001b[0mflat_inputs\u001b[0m \u001b[0;34m=\u001b[0m \u001b[0mfunction\u001b[0m\u001b[0;34m.\u001b[0m\u001b[0mfunction_type\u001b[0m\u001b[0;34m.\u001b[0m\u001b[0munpack_inputs\u001b[0m\u001b[0;34m(\u001b[0m\u001b[0mbound_args\u001b[0m\u001b[0;34m)\u001b[0m\u001b[0;34m\u001b[0m\u001b[0;34m\u001b[0m\u001b[0m\n\u001b[0;32m--> 139\u001b[0;31m   return function._call_flat(  # pylint: disable=protected-access\n\u001b[0m\u001b[1;32m    140\u001b[0m       \u001b[0mflat_inputs\u001b[0m\u001b[0;34m,\u001b[0m \u001b[0mcaptured_inputs\u001b[0m\u001b[0;34m=\u001b[0m\u001b[0mfunction\u001b[0m\u001b[0;34m.\u001b[0m\u001b[0mcaptured_inputs\u001b[0m\u001b[0;34m\u001b[0m\u001b[0;34m\u001b[0m\u001b[0m\n\u001b[1;32m    141\u001b[0m   )\n",
            "\u001b[0;32m/usr/local/lib/python3.10/dist-packages/tensorflow/python/eager/polymorphic_function/concrete_function.py\u001b[0m in \u001b[0;36m_call_flat\u001b[0;34m(self, tensor_inputs, captured_inputs)\u001b[0m\n\u001b[1;32m   1321\u001b[0m         and executing_eagerly):\n\u001b[1;32m   1322\u001b[0m       \u001b[0;31m# No tape is watching; skip to running the function.\u001b[0m\u001b[0;34m\u001b[0m\u001b[0;34m\u001b[0m\u001b[0m\n\u001b[0;32m-> 1323\u001b[0;31m       \u001b[0;32mreturn\u001b[0m \u001b[0mself\u001b[0m\u001b[0;34m.\u001b[0m\u001b[0m_inference_function\u001b[0m\u001b[0;34m.\u001b[0m\u001b[0mcall_preflattened\u001b[0m\u001b[0;34m(\u001b[0m\u001b[0margs\u001b[0m\u001b[0;34m)\u001b[0m\u001b[0;34m\u001b[0m\u001b[0;34m\u001b[0m\u001b[0m\n\u001b[0m\u001b[1;32m   1324\u001b[0m     forward_backward = self._select_forward_and_backward_functions(\n\u001b[1;32m   1325\u001b[0m         \u001b[0margs\u001b[0m\u001b[0;34m,\u001b[0m\u001b[0;34m\u001b[0m\u001b[0;34m\u001b[0m\u001b[0m\n",
            "\u001b[0;32m/usr/local/lib/python3.10/dist-packages/tensorflow/python/eager/polymorphic_function/atomic_function.py\u001b[0m in \u001b[0;36mcall_preflattened\u001b[0;34m(self, args)\u001b[0m\n\u001b[1;32m    214\u001b[0m   \u001b[0;32mdef\u001b[0m \u001b[0mcall_preflattened\u001b[0m\u001b[0;34m(\u001b[0m\u001b[0mself\u001b[0m\u001b[0;34m,\u001b[0m \u001b[0margs\u001b[0m\u001b[0;34m:\u001b[0m \u001b[0mSequence\u001b[0m\u001b[0;34m[\u001b[0m\u001b[0mcore\u001b[0m\u001b[0;34m.\u001b[0m\u001b[0mTensor\u001b[0m\u001b[0;34m]\u001b[0m\u001b[0;34m)\u001b[0m \u001b[0;34m->\u001b[0m \u001b[0mAny\u001b[0m\u001b[0;34m:\u001b[0m\u001b[0;34m\u001b[0m\u001b[0;34m\u001b[0m\u001b[0m\n\u001b[1;32m    215\u001b[0m     \u001b[0;34m\"\"\"Calls with flattened tensor inputs and returns the structured output.\"\"\"\u001b[0m\u001b[0;34m\u001b[0m\u001b[0;34m\u001b[0m\u001b[0m\n\u001b[0;32m--> 216\u001b[0;31m     \u001b[0mflat_outputs\u001b[0m \u001b[0;34m=\u001b[0m \u001b[0mself\u001b[0m\u001b[0;34m.\u001b[0m\u001b[0mcall_flat\u001b[0m\u001b[0;34m(\u001b[0m\u001b[0;34m*\u001b[0m\u001b[0margs\u001b[0m\u001b[0;34m)\u001b[0m\u001b[0;34m\u001b[0m\u001b[0;34m\u001b[0m\u001b[0m\n\u001b[0m\u001b[1;32m    217\u001b[0m     \u001b[0;32mreturn\u001b[0m \u001b[0mself\u001b[0m\u001b[0;34m.\u001b[0m\u001b[0mfunction_type\u001b[0m\u001b[0;34m.\u001b[0m\u001b[0mpack_output\u001b[0m\u001b[0;34m(\u001b[0m\u001b[0mflat_outputs\u001b[0m\u001b[0;34m)\u001b[0m\u001b[0;34m\u001b[0m\u001b[0;34m\u001b[0m\u001b[0m\n\u001b[1;32m    218\u001b[0m \u001b[0;34m\u001b[0m\u001b[0m\n",
            "\u001b[0;32m/usr/local/lib/python3.10/dist-packages/tensorflow/python/eager/polymorphic_function/atomic_function.py\u001b[0m in \u001b[0;36mcall_flat\u001b[0;34m(self, *args)\u001b[0m\n\u001b[1;32m    249\u001b[0m         \u001b[0;32mwith\u001b[0m \u001b[0mrecord\u001b[0m\u001b[0;34m.\u001b[0m\u001b[0mstop_recording\u001b[0m\u001b[0;34m(\u001b[0m\u001b[0;34m)\u001b[0m\u001b[0;34m:\u001b[0m\u001b[0;34m\u001b[0m\u001b[0;34m\u001b[0m\u001b[0m\n\u001b[1;32m    250\u001b[0m           \u001b[0;32mif\u001b[0m \u001b[0mself\u001b[0m\u001b[0;34m.\u001b[0m\u001b[0m_bound_context\u001b[0m\u001b[0;34m.\u001b[0m\u001b[0mexecuting_eagerly\u001b[0m\u001b[0;34m(\u001b[0m\u001b[0;34m)\u001b[0m\u001b[0;34m:\u001b[0m\u001b[0;34m\u001b[0m\u001b[0;34m\u001b[0m\u001b[0m\n\u001b[0;32m--> 251\u001b[0;31m             outputs = self._bound_context.call_function(\n\u001b[0m\u001b[1;32m    252\u001b[0m                 \u001b[0mself\u001b[0m\u001b[0;34m.\u001b[0m\u001b[0mname\u001b[0m\u001b[0;34m,\u001b[0m\u001b[0;34m\u001b[0m\u001b[0;34m\u001b[0m\u001b[0m\n\u001b[1;32m    253\u001b[0m                 \u001b[0mlist\u001b[0m\u001b[0;34m(\u001b[0m\u001b[0margs\u001b[0m\u001b[0;34m)\u001b[0m\u001b[0;34m,\u001b[0m\u001b[0;34m\u001b[0m\u001b[0;34m\u001b[0m\u001b[0m\n",
            "\u001b[0;32m/usr/local/lib/python3.10/dist-packages/tensorflow/python/eager/context.py\u001b[0m in \u001b[0;36mcall_function\u001b[0;34m(self, name, tensor_inputs, num_outputs)\u001b[0m\n\u001b[1;32m   1484\u001b[0m     \u001b[0mcancellation_context\u001b[0m \u001b[0;34m=\u001b[0m \u001b[0mcancellation\u001b[0m\u001b[0;34m.\u001b[0m\u001b[0mcontext\u001b[0m\u001b[0;34m(\u001b[0m\u001b[0;34m)\u001b[0m\u001b[0;34m\u001b[0m\u001b[0;34m\u001b[0m\u001b[0m\n\u001b[1;32m   1485\u001b[0m     \u001b[0;32mif\u001b[0m \u001b[0mcancellation_context\u001b[0m \u001b[0;32mis\u001b[0m \u001b[0;32mNone\u001b[0m\u001b[0;34m:\u001b[0m\u001b[0;34m\u001b[0m\u001b[0;34m\u001b[0m\u001b[0m\n\u001b[0;32m-> 1486\u001b[0;31m       outputs = execute.execute(\n\u001b[0m\u001b[1;32m   1487\u001b[0m           \u001b[0mname\u001b[0m\u001b[0;34m.\u001b[0m\u001b[0mdecode\u001b[0m\u001b[0;34m(\u001b[0m\u001b[0;34m\"utf-8\"\u001b[0m\u001b[0;34m)\u001b[0m\u001b[0;34m,\u001b[0m\u001b[0;34m\u001b[0m\u001b[0;34m\u001b[0m\u001b[0m\n\u001b[1;32m   1488\u001b[0m           \u001b[0mnum_outputs\u001b[0m\u001b[0;34m=\u001b[0m\u001b[0mnum_outputs\u001b[0m\u001b[0;34m,\u001b[0m\u001b[0;34m\u001b[0m\u001b[0;34m\u001b[0m\u001b[0m\n",
            "\u001b[0;32m/usr/local/lib/python3.10/dist-packages/tensorflow/python/eager/execute.py\u001b[0m in \u001b[0;36mquick_execute\u001b[0;34m(op_name, num_outputs, inputs, attrs, ctx, name)\u001b[0m\n\u001b[1;32m     51\u001b[0m   \u001b[0;32mtry\u001b[0m\u001b[0;34m:\u001b[0m\u001b[0;34m\u001b[0m\u001b[0;34m\u001b[0m\u001b[0m\n\u001b[1;32m     52\u001b[0m     \u001b[0mctx\u001b[0m\u001b[0;34m.\u001b[0m\u001b[0mensure_initialized\u001b[0m\u001b[0;34m(\u001b[0m\u001b[0;34m)\u001b[0m\u001b[0;34m\u001b[0m\u001b[0;34m\u001b[0m\u001b[0m\n\u001b[0;32m---> 53\u001b[0;31m     tensors = pywrap_tfe.TFE_Py_Execute(ctx._handle, device_name, op_name,\n\u001b[0m\u001b[1;32m     54\u001b[0m                                         inputs, attrs, num_outputs)\n\u001b[1;32m     55\u001b[0m   \u001b[0;32mexcept\u001b[0m \u001b[0mcore\u001b[0m\u001b[0;34m.\u001b[0m\u001b[0m_NotOkStatusException\u001b[0m \u001b[0;32mas\u001b[0m \u001b[0me\u001b[0m\u001b[0;34m:\u001b[0m\u001b[0;34m\u001b[0m\u001b[0;34m\u001b[0m\u001b[0m\n",
            "\u001b[0;31mKeyboardInterrupt\u001b[0m: "
          ]
        }
      ],
      "source": [
        "# Initialize parameters\n",
        "input_shape = xtrn.shape[1]  # Feature size of embeddings\n",
        "output_units = 6\n",
        "nepochs = 50\n",
        "bsize = 32\n",
        "lrate = 0.001\n",
        "lossfunction = 'categorical_crossentropy'\n",
        "wtrange = 1.0\n",
        "wt_init = tf.keras.initializers.RandomUniform(minval=-wtrange, maxval=wtrange, seed=1111)\n",
        "opt = tf.keras.optimizers.Adam(learning_rate=lrate)\n",
        "# Build the model\n",
        "xin = Input(shape=(input_shape,), name='input_layer')\n",
        "xhid1 = Dense(64, activation='relu', name='hidden_layer1', kernel_initializer=wt_init)(xin)\n",
        "xdrop1 = Dropout(0.5)(xhid1)  # Adjusted dropout rate\n",
        "xout = Dense(output_units, name='output_layer')(xdrop1)\n",
        "model = Model(inputs=xin, outputs=xout, name='emotion_model')\n",
        "# Compile the model\n",
        "model.compile(optimizer=opt, loss=lossfunction, metrics=[CategoricalAccuracy(name='accuracy'),\n",
        "        Precision(name='precision')])\n",
        "\n",
        "# Model summary\n",
        "model.summary()\n",
        "\n",
        "\n",
        "# Data generators\n",
        "\n",
        "train_generator = DataGenerator(xtrn, ytrn, batch_size=bsize)\n",
        "val_generator = DataGenerator(xtst, ytst, batch_size=bsize)\n",
        "\n",
        "# Training the model\n",
        "H = model.fit(x=train_generator, epochs=nepochs, validation_data=val_generator, class_weight=class_weights)"
      ]
    },
    {
      "cell_type": "code",
      "source": [
        "model.evaluate(xtst, ytst, batch_size = bsize)"
      ],
      "metadata": {
        "id": "_fDMFWPjO2cC"
      },
      "execution_count": null,
      "outputs": []
    },
    {
      "cell_type": "code",
      "source": [
        "trnloss = H.history['loss']\n",
        "tstloss = H.history['val_loss']\n",
        "plt.plot(trnloss)\n",
        "plt.plot(tstloss)\n",
        "plt.show()"
      ],
      "metadata": {
        "id": "b9kgFaK0OzbD"
      },
      "execution_count": null,
      "outputs": []
    },
    {
      "cell_type": "code",
      "execution_count": null,
      "metadata": {
        "colab": {
          "base_uri": "https://localhost:8080/",
          "height": 885
        },
        "id": "-GtE6mxTkzBo",
        "outputId": "ed992919-57e6-417f-ac80-886ad6916812"
      },
      "outputs": [
        {
          "name": "stdout",
          "output_type": "stream",
          "text": [
            "Model: \"emotion_model\"\n",
            "_________________________________________________________________\n",
            " Layer (type)                Output Shape              Param #   \n",
            "=================================================================\n",
            " input_layer (InputLayer)    [(None, 1536)]            0         \n",
            "                                                                 \n",
            " hidden_layer1 (Dense)       (None, 64)                98368     \n",
            "                                                                 \n",
            " output_layer (Dense)        (None, 6)                 390       \n",
            "                                                                 \n",
            "=================================================================\n",
            "Total params: 98758 (385.77 KB)\n",
            "Trainable params: 98758 (385.77 KB)\n",
            "Non-trainable params: 0 (0.00 Byte)\n",
            "_________________________________________________________________\n",
            "Epoch 1/50\n",
            "23446/23446 [==============================] - 112s 5ms/step - loss: 1.5567 - accuracy: 0.3568 - precision: 0.4379 - recall: 0.0060 - val_loss: 1.5526 - val_accuracy: 0.3611 - val_precision: 0.4470 - val_recall: 0.0014\n",
            "Epoch 2/50\n",
            "23446/23446 [==============================] - 110s 5ms/step - loss: 1.5435 - accuracy: 0.3644 - precision: 0.4589 - recall: 0.0098 - val_loss: 1.5513 - val_accuracy: 0.3609 - val_precision: 0.4180 - val_recall: 0.0091\n",
            "Epoch 3/50\n",
            "23446/23446 [==============================] - 116s 5ms/step - loss: 1.5365 - accuracy: 0.3677 - precision: 0.4803 - recall: 0.0153 - val_loss: 1.5501 - val_accuracy: 0.3604 - val_precision: 0.4217 - val_recall: 0.0159\n",
            "Epoch 4/50\n",
            "23446/23446 [==============================] - 110s 5ms/step - loss: 1.5295 - accuracy: 0.3715 - precision: 0.5005 - recall: 0.0224 - val_loss: 1.5568 - val_accuracy: 0.3604 - val_precision: 0.4295 - val_recall: 0.0357\n",
            "Epoch 5/50\n",
            "23446/23446 [==============================] - 105s 4ms/step - loss: 1.5231 - accuracy: 0.3749 - precision: 0.5151 - recall: 0.0297 - val_loss: 1.5576 - val_accuracy: 0.3597 - val_precision: 0.4122 - val_recall: 0.0206\n",
            "Epoch 6/50\n",
            "23446/23446 [==============================] - 113s 5ms/step - loss: 1.5166 - accuracy: 0.3777 - precision: 0.5247 - recall: 0.0363 - val_loss: 1.5639 - val_accuracy: 0.3553 - val_precision: 0.4078 - val_recall: 0.0234\n",
            "Epoch 7/50\n",
            "21845/23446 [==========================>...] - ETA: 7s - loss: 1.5100 - accuracy: 0.3805 - precision: 0.5356 - recall: 0.0432"
          ]
        },
        {
          "ename": "KeyboardInterrupt",
          "evalue": "",
          "output_type": "error",
          "traceback": [
            "\u001b[0;31m---------------------------------------------------------------------------\u001b[0m",
            "\u001b[0;31mKeyboardInterrupt\u001b[0m                         Traceback (most recent call last)",
            "\u001b[0;32m<ipython-input-15-9910b662be8e>\u001b[0m in \u001b[0;36m<cell line: 32>\u001b[0;34m()\u001b[0m\n\u001b[1;32m     30\u001b[0m \u001b[0;34m\u001b[0m\u001b[0m\n\u001b[1;32m     31\u001b[0m \u001b[0;31m# Training the model\u001b[0m\u001b[0;34m\u001b[0m\u001b[0;34m\u001b[0m\u001b[0m\n\u001b[0;32m---> 32\u001b[0;31m \u001b[0mH\u001b[0m \u001b[0;34m=\u001b[0m \u001b[0mmodel\u001b[0m\u001b[0;34m.\u001b[0m\u001b[0mfit\u001b[0m\u001b[0;34m(\u001b[0m\u001b[0mx\u001b[0m\u001b[0;34m=\u001b[0m\u001b[0mtrain_generator\u001b[0m\u001b[0;34m,\u001b[0m \u001b[0mepochs\u001b[0m\u001b[0;34m=\u001b[0m\u001b[0mnepochs\u001b[0m\u001b[0;34m,\u001b[0m \u001b[0mvalidation_data\u001b[0m\u001b[0;34m=\u001b[0m\u001b[0mval_generator\u001b[0m\u001b[0;34m)\u001b[0m\u001b[0;34m\u001b[0m\u001b[0;34m\u001b[0m\u001b[0m\n\u001b[0m",
            "\u001b[0;32m/usr/local/lib/python3.10/dist-packages/keras/src/utils/traceback_utils.py\u001b[0m in \u001b[0;36merror_handler\u001b[0;34m(*args, **kwargs)\u001b[0m\n\u001b[1;32m     63\u001b[0m         \u001b[0mfiltered_tb\u001b[0m \u001b[0;34m=\u001b[0m \u001b[0;32mNone\u001b[0m\u001b[0;34m\u001b[0m\u001b[0;34m\u001b[0m\u001b[0m\n\u001b[1;32m     64\u001b[0m         \u001b[0;32mtry\u001b[0m\u001b[0;34m:\u001b[0m\u001b[0;34m\u001b[0m\u001b[0;34m\u001b[0m\u001b[0m\n\u001b[0;32m---> 65\u001b[0;31m             \u001b[0;32mreturn\u001b[0m \u001b[0mfn\u001b[0m\u001b[0;34m(\u001b[0m\u001b[0;34m*\u001b[0m\u001b[0margs\u001b[0m\u001b[0;34m,\u001b[0m \u001b[0;34m**\u001b[0m\u001b[0mkwargs\u001b[0m\u001b[0;34m)\u001b[0m\u001b[0;34m\u001b[0m\u001b[0;34m\u001b[0m\u001b[0m\n\u001b[0m\u001b[1;32m     66\u001b[0m         \u001b[0;32mexcept\u001b[0m \u001b[0mException\u001b[0m \u001b[0;32mas\u001b[0m \u001b[0me\u001b[0m\u001b[0;34m:\u001b[0m\u001b[0;34m\u001b[0m\u001b[0;34m\u001b[0m\u001b[0m\n\u001b[1;32m     67\u001b[0m             \u001b[0mfiltered_tb\u001b[0m \u001b[0;34m=\u001b[0m \u001b[0m_process_traceback_frames\u001b[0m\u001b[0;34m(\u001b[0m\u001b[0me\u001b[0m\u001b[0;34m.\u001b[0m\u001b[0m__traceback__\u001b[0m\u001b[0;34m)\u001b[0m\u001b[0;34m\u001b[0m\u001b[0;34m\u001b[0m\u001b[0m\n",
            "\u001b[0;32m/usr/local/lib/python3.10/dist-packages/keras/src/engine/training.py\u001b[0m in \u001b[0;36mfit\u001b[0;34m(self, x, y, batch_size, epochs, verbose, callbacks, validation_split, validation_data, shuffle, class_weight, sample_weight, initial_epoch, steps_per_epoch, validation_steps, validation_batch_size, validation_freq, max_queue_size, workers, use_multiprocessing)\u001b[0m\n\u001b[1;32m   1805\u001b[0m                         ):\n\u001b[1;32m   1806\u001b[0m                             \u001b[0mcallbacks\u001b[0m\u001b[0;34m.\u001b[0m\u001b[0mon_train_batch_begin\u001b[0m\u001b[0;34m(\u001b[0m\u001b[0mstep\u001b[0m\u001b[0;34m)\u001b[0m\u001b[0;34m\u001b[0m\u001b[0;34m\u001b[0m\u001b[0m\n\u001b[0;32m-> 1807\u001b[0;31m                             \u001b[0mtmp_logs\u001b[0m \u001b[0;34m=\u001b[0m \u001b[0mself\u001b[0m\u001b[0;34m.\u001b[0m\u001b[0mtrain_function\u001b[0m\u001b[0;34m(\u001b[0m\u001b[0miterator\u001b[0m\u001b[0;34m)\u001b[0m\u001b[0;34m\u001b[0m\u001b[0;34m\u001b[0m\u001b[0m\n\u001b[0m\u001b[1;32m   1808\u001b[0m                             \u001b[0;32mif\u001b[0m \u001b[0mdata_handler\u001b[0m\u001b[0;34m.\u001b[0m\u001b[0mshould_sync\u001b[0m\u001b[0;34m:\u001b[0m\u001b[0;34m\u001b[0m\u001b[0;34m\u001b[0m\u001b[0m\n\u001b[1;32m   1809\u001b[0m                                 \u001b[0mcontext\u001b[0m\u001b[0;34m.\u001b[0m\u001b[0masync_wait\u001b[0m\u001b[0;34m(\u001b[0m\u001b[0;34m)\u001b[0m\u001b[0;34m\u001b[0m\u001b[0;34m\u001b[0m\u001b[0m\n",
            "\u001b[0;32m/usr/local/lib/python3.10/dist-packages/tensorflow/python/util/traceback_utils.py\u001b[0m in \u001b[0;36merror_handler\u001b[0;34m(*args, **kwargs)\u001b[0m\n\u001b[1;32m    148\u001b[0m     \u001b[0mfiltered_tb\u001b[0m \u001b[0;34m=\u001b[0m \u001b[0;32mNone\u001b[0m\u001b[0;34m\u001b[0m\u001b[0;34m\u001b[0m\u001b[0m\n\u001b[1;32m    149\u001b[0m     \u001b[0;32mtry\u001b[0m\u001b[0;34m:\u001b[0m\u001b[0;34m\u001b[0m\u001b[0;34m\u001b[0m\u001b[0m\n\u001b[0;32m--> 150\u001b[0;31m       \u001b[0;32mreturn\u001b[0m \u001b[0mfn\u001b[0m\u001b[0;34m(\u001b[0m\u001b[0;34m*\u001b[0m\u001b[0margs\u001b[0m\u001b[0;34m,\u001b[0m \u001b[0;34m**\u001b[0m\u001b[0mkwargs\u001b[0m\u001b[0;34m)\u001b[0m\u001b[0;34m\u001b[0m\u001b[0;34m\u001b[0m\u001b[0m\n\u001b[0m\u001b[1;32m    151\u001b[0m     \u001b[0;32mexcept\u001b[0m \u001b[0mException\u001b[0m \u001b[0;32mas\u001b[0m \u001b[0me\u001b[0m\u001b[0;34m:\u001b[0m\u001b[0;34m\u001b[0m\u001b[0;34m\u001b[0m\u001b[0m\n\u001b[1;32m    152\u001b[0m       \u001b[0mfiltered_tb\u001b[0m \u001b[0;34m=\u001b[0m \u001b[0m_process_traceback_frames\u001b[0m\u001b[0;34m(\u001b[0m\u001b[0me\u001b[0m\u001b[0;34m.\u001b[0m\u001b[0m__traceback__\u001b[0m\u001b[0;34m)\u001b[0m\u001b[0;34m\u001b[0m\u001b[0;34m\u001b[0m\u001b[0m\n",
            "\u001b[0;32m/usr/local/lib/python3.10/dist-packages/tensorflow/python/eager/polymorphic_function/polymorphic_function.py\u001b[0m in \u001b[0;36m__call__\u001b[0;34m(self, *args, **kwds)\u001b[0m\n\u001b[1;32m    830\u001b[0m \u001b[0;34m\u001b[0m\u001b[0m\n\u001b[1;32m    831\u001b[0m       \u001b[0;32mwith\u001b[0m \u001b[0mOptionalXlaContext\u001b[0m\u001b[0;34m(\u001b[0m\u001b[0mself\u001b[0m\u001b[0;34m.\u001b[0m\u001b[0m_jit_compile\u001b[0m\u001b[0;34m)\u001b[0m\u001b[0;34m:\u001b[0m\u001b[0;34m\u001b[0m\u001b[0;34m\u001b[0m\u001b[0m\n\u001b[0;32m--> 832\u001b[0;31m         \u001b[0mresult\u001b[0m \u001b[0;34m=\u001b[0m \u001b[0mself\u001b[0m\u001b[0;34m.\u001b[0m\u001b[0m_call\u001b[0m\u001b[0;34m(\u001b[0m\u001b[0;34m*\u001b[0m\u001b[0margs\u001b[0m\u001b[0;34m,\u001b[0m \u001b[0;34m**\u001b[0m\u001b[0mkwds\u001b[0m\u001b[0;34m)\u001b[0m\u001b[0;34m\u001b[0m\u001b[0;34m\u001b[0m\u001b[0m\n\u001b[0m\u001b[1;32m    833\u001b[0m \u001b[0;34m\u001b[0m\u001b[0m\n\u001b[1;32m    834\u001b[0m       \u001b[0mnew_tracing_count\u001b[0m \u001b[0;34m=\u001b[0m \u001b[0mself\u001b[0m\u001b[0;34m.\u001b[0m\u001b[0mexperimental_get_tracing_count\u001b[0m\u001b[0;34m(\u001b[0m\u001b[0;34m)\u001b[0m\u001b[0;34m\u001b[0m\u001b[0;34m\u001b[0m\u001b[0m\n",
            "\u001b[0;32m/usr/local/lib/python3.10/dist-packages/tensorflow/python/eager/polymorphic_function/polymorphic_function.py\u001b[0m in \u001b[0;36m_call\u001b[0;34m(self, *args, **kwds)\u001b[0m\n\u001b[1;32m    866\u001b[0m       \u001b[0;31m# In this case we have created variables on the first call, so we run the\u001b[0m\u001b[0;34m\u001b[0m\u001b[0;34m\u001b[0m\u001b[0m\n\u001b[1;32m    867\u001b[0m       \u001b[0;31m# defunned version which is guaranteed to never create variables.\u001b[0m\u001b[0;34m\u001b[0m\u001b[0;34m\u001b[0m\u001b[0m\n\u001b[0;32m--> 868\u001b[0;31m       return tracing_compilation.call_function(\n\u001b[0m\u001b[1;32m    869\u001b[0m           \u001b[0margs\u001b[0m\u001b[0;34m,\u001b[0m \u001b[0mkwds\u001b[0m\u001b[0;34m,\u001b[0m \u001b[0mself\u001b[0m\u001b[0;34m.\u001b[0m\u001b[0m_no_variable_creation_config\u001b[0m\u001b[0;34m\u001b[0m\u001b[0;34m\u001b[0m\u001b[0m\n\u001b[1;32m    870\u001b[0m       )\n",
            "\u001b[0;32m/usr/local/lib/python3.10/dist-packages/tensorflow/python/eager/polymorphic_function/tracing_compilation.py\u001b[0m in \u001b[0;36mcall_function\u001b[0;34m(args, kwargs, tracing_options)\u001b[0m\n\u001b[1;32m    137\u001b[0m   \u001b[0mbound_args\u001b[0m \u001b[0;34m=\u001b[0m \u001b[0mfunction\u001b[0m\u001b[0;34m.\u001b[0m\u001b[0mfunction_type\u001b[0m\u001b[0;34m.\u001b[0m\u001b[0mbind\u001b[0m\u001b[0;34m(\u001b[0m\u001b[0;34m*\u001b[0m\u001b[0margs\u001b[0m\u001b[0;34m,\u001b[0m \u001b[0;34m**\u001b[0m\u001b[0mkwargs\u001b[0m\u001b[0;34m)\u001b[0m\u001b[0;34m\u001b[0m\u001b[0;34m\u001b[0m\u001b[0m\n\u001b[1;32m    138\u001b[0m   \u001b[0mflat_inputs\u001b[0m \u001b[0;34m=\u001b[0m \u001b[0mfunction\u001b[0m\u001b[0;34m.\u001b[0m\u001b[0mfunction_type\u001b[0m\u001b[0;34m.\u001b[0m\u001b[0munpack_inputs\u001b[0m\u001b[0;34m(\u001b[0m\u001b[0mbound_args\u001b[0m\u001b[0;34m)\u001b[0m\u001b[0;34m\u001b[0m\u001b[0;34m\u001b[0m\u001b[0m\n\u001b[0;32m--> 139\u001b[0;31m   return function._call_flat(  # pylint: disable=protected-access\n\u001b[0m\u001b[1;32m    140\u001b[0m       \u001b[0mflat_inputs\u001b[0m\u001b[0;34m,\u001b[0m \u001b[0mcaptured_inputs\u001b[0m\u001b[0;34m=\u001b[0m\u001b[0mfunction\u001b[0m\u001b[0;34m.\u001b[0m\u001b[0mcaptured_inputs\u001b[0m\u001b[0;34m\u001b[0m\u001b[0;34m\u001b[0m\u001b[0m\n\u001b[1;32m    141\u001b[0m   )\n",
            "\u001b[0;32m/usr/local/lib/python3.10/dist-packages/tensorflow/python/eager/polymorphic_function/concrete_function.py\u001b[0m in \u001b[0;36m_call_flat\u001b[0;34m(self, tensor_inputs, captured_inputs)\u001b[0m\n\u001b[1;32m   1321\u001b[0m         and executing_eagerly):\n\u001b[1;32m   1322\u001b[0m       \u001b[0;31m# No tape is watching; skip to running the function.\u001b[0m\u001b[0;34m\u001b[0m\u001b[0;34m\u001b[0m\u001b[0m\n\u001b[0;32m-> 1323\u001b[0;31m       \u001b[0;32mreturn\u001b[0m \u001b[0mself\u001b[0m\u001b[0;34m.\u001b[0m\u001b[0m_inference_function\u001b[0m\u001b[0;34m.\u001b[0m\u001b[0mcall_preflattened\u001b[0m\u001b[0;34m(\u001b[0m\u001b[0margs\u001b[0m\u001b[0;34m)\u001b[0m\u001b[0;34m\u001b[0m\u001b[0;34m\u001b[0m\u001b[0m\n\u001b[0m\u001b[1;32m   1324\u001b[0m     forward_backward = self._select_forward_and_backward_functions(\n\u001b[1;32m   1325\u001b[0m         \u001b[0margs\u001b[0m\u001b[0;34m,\u001b[0m\u001b[0;34m\u001b[0m\u001b[0;34m\u001b[0m\u001b[0m\n",
            "\u001b[0;32m/usr/local/lib/python3.10/dist-packages/tensorflow/python/eager/polymorphic_function/atomic_function.py\u001b[0m in \u001b[0;36mcall_preflattened\u001b[0;34m(self, args)\u001b[0m\n\u001b[1;32m    214\u001b[0m   \u001b[0;32mdef\u001b[0m \u001b[0mcall_preflattened\u001b[0m\u001b[0;34m(\u001b[0m\u001b[0mself\u001b[0m\u001b[0;34m,\u001b[0m \u001b[0margs\u001b[0m\u001b[0;34m:\u001b[0m \u001b[0mSequence\u001b[0m\u001b[0;34m[\u001b[0m\u001b[0mcore\u001b[0m\u001b[0;34m.\u001b[0m\u001b[0mTensor\u001b[0m\u001b[0;34m]\u001b[0m\u001b[0;34m)\u001b[0m \u001b[0;34m->\u001b[0m \u001b[0mAny\u001b[0m\u001b[0;34m:\u001b[0m\u001b[0;34m\u001b[0m\u001b[0;34m\u001b[0m\u001b[0m\n\u001b[1;32m    215\u001b[0m     \u001b[0;34m\"\"\"Calls with flattened tensor inputs and returns the structured output.\"\"\"\u001b[0m\u001b[0;34m\u001b[0m\u001b[0;34m\u001b[0m\u001b[0m\n\u001b[0;32m--> 216\u001b[0;31m     \u001b[0mflat_outputs\u001b[0m \u001b[0;34m=\u001b[0m \u001b[0mself\u001b[0m\u001b[0;34m.\u001b[0m\u001b[0mcall_flat\u001b[0m\u001b[0;34m(\u001b[0m\u001b[0;34m*\u001b[0m\u001b[0margs\u001b[0m\u001b[0;34m)\u001b[0m\u001b[0;34m\u001b[0m\u001b[0;34m\u001b[0m\u001b[0m\n\u001b[0m\u001b[1;32m    217\u001b[0m     \u001b[0;32mreturn\u001b[0m \u001b[0mself\u001b[0m\u001b[0;34m.\u001b[0m\u001b[0mfunction_type\u001b[0m\u001b[0;34m.\u001b[0m\u001b[0mpack_output\u001b[0m\u001b[0;34m(\u001b[0m\u001b[0mflat_outputs\u001b[0m\u001b[0;34m)\u001b[0m\u001b[0;34m\u001b[0m\u001b[0;34m\u001b[0m\u001b[0m\n\u001b[1;32m    218\u001b[0m \u001b[0;34m\u001b[0m\u001b[0m\n",
            "\u001b[0;32m/usr/local/lib/python3.10/dist-packages/tensorflow/python/eager/polymorphic_function/atomic_function.py\u001b[0m in \u001b[0;36mcall_flat\u001b[0;34m(self, *args)\u001b[0m\n\u001b[1;32m    249\u001b[0m         \u001b[0;32mwith\u001b[0m \u001b[0mrecord\u001b[0m\u001b[0;34m.\u001b[0m\u001b[0mstop_recording\u001b[0m\u001b[0;34m(\u001b[0m\u001b[0;34m)\u001b[0m\u001b[0;34m:\u001b[0m\u001b[0;34m\u001b[0m\u001b[0;34m\u001b[0m\u001b[0m\n\u001b[1;32m    250\u001b[0m           \u001b[0;32mif\u001b[0m \u001b[0mself\u001b[0m\u001b[0;34m.\u001b[0m\u001b[0m_bound_context\u001b[0m\u001b[0;34m.\u001b[0m\u001b[0mexecuting_eagerly\u001b[0m\u001b[0;34m(\u001b[0m\u001b[0;34m)\u001b[0m\u001b[0;34m:\u001b[0m\u001b[0;34m\u001b[0m\u001b[0;34m\u001b[0m\u001b[0m\n\u001b[0;32m--> 251\u001b[0;31m             outputs = self._bound_context.call_function(\n\u001b[0m\u001b[1;32m    252\u001b[0m                 \u001b[0mself\u001b[0m\u001b[0;34m.\u001b[0m\u001b[0mname\u001b[0m\u001b[0;34m,\u001b[0m\u001b[0;34m\u001b[0m\u001b[0;34m\u001b[0m\u001b[0m\n\u001b[1;32m    253\u001b[0m                 \u001b[0mlist\u001b[0m\u001b[0;34m(\u001b[0m\u001b[0margs\u001b[0m\u001b[0;34m)\u001b[0m\u001b[0;34m,\u001b[0m\u001b[0;34m\u001b[0m\u001b[0;34m\u001b[0m\u001b[0m\n",
            "\u001b[0;32m/usr/local/lib/python3.10/dist-packages/tensorflow/python/eager/context.py\u001b[0m in \u001b[0;36mcall_function\u001b[0;34m(self, name, tensor_inputs, num_outputs)\u001b[0m\n\u001b[1;32m   1484\u001b[0m     \u001b[0mcancellation_context\u001b[0m \u001b[0;34m=\u001b[0m \u001b[0mcancellation\u001b[0m\u001b[0;34m.\u001b[0m\u001b[0mcontext\u001b[0m\u001b[0;34m(\u001b[0m\u001b[0;34m)\u001b[0m\u001b[0;34m\u001b[0m\u001b[0;34m\u001b[0m\u001b[0m\n\u001b[1;32m   1485\u001b[0m     \u001b[0;32mif\u001b[0m \u001b[0mcancellation_context\u001b[0m \u001b[0;32mis\u001b[0m \u001b[0;32mNone\u001b[0m\u001b[0;34m:\u001b[0m\u001b[0;34m\u001b[0m\u001b[0;34m\u001b[0m\u001b[0m\n\u001b[0;32m-> 1486\u001b[0;31m       outputs = execute.execute(\n\u001b[0m\u001b[1;32m   1487\u001b[0m           \u001b[0mname\u001b[0m\u001b[0;34m.\u001b[0m\u001b[0mdecode\u001b[0m\u001b[0;34m(\u001b[0m\u001b[0;34m\"utf-8\"\u001b[0m\u001b[0;34m)\u001b[0m\u001b[0;34m,\u001b[0m\u001b[0;34m\u001b[0m\u001b[0;34m\u001b[0m\u001b[0m\n\u001b[1;32m   1488\u001b[0m           \u001b[0mnum_outputs\u001b[0m\u001b[0;34m=\u001b[0m\u001b[0mnum_outputs\u001b[0m\u001b[0;34m,\u001b[0m\u001b[0;34m\u001b[0m\u001b[0;34m\u001b[0m\u001b[0m\n",
            "\u001b[0;32m/usr/local/lib/python3.10/dist-packages/tensorflow/python/eager/execute.py\u001b[0m in \u001b[0;36mquick_execute\u001b[0;34m(op_name, num_outputs, inputs, attrs, ctx, name)\u001b[0m\n\u001b[1;32m     51\u001b[0m   \u001b[0;32mtry\u001b[0m\u001b[0;34m:\u001b[0m\u001b[0;34m\u001b[0m\u001b[0;34m\u001b[0m\u001b[0m\n\u001b[1;32m     52\u001b[0m     \u001b[0mctx\u001b[0m\u001b[0;34m.\u001b[0m\u001b[0mensure_initialized\u001b[0m\u001b[0;34m(\u001b[0m\u001b[0;34m)\u001b[0m\u001b[0;34m\u001b[0m\u001b[0;34m\u001b[0m\u001b[0m\n\u001b[0;32m---> 53\u001b[0;31m     tensors = pywrap_tfe.TFE_Py_Execute(ctx._handle, device_name, op_name,\n\u001b[0m\u001b[1;32m     54\u001b[0m                                         inputs, attrs, num_outputs)\n\u001b[1;32m     55\u001b[0m   \u001b[0;32mexcept\u001b[0m \u001b[0mcore\u001b[0m\u001b[0;34m.\u001b[0m\u001b[0m_NotOkStatusException\u001b[0m \u001b[0;32mas\u001b[0m \u001b[0me\u001b[0m\u001b[0;34m:\u001b[0m\u001b[0;34m\u001b[0m\u001b[0;34m\u001b[0m\u001b[0m\n",
            "\u001b[0;31mKeyboardInterrupt\u001b[0m: "
          ]
        }
      ],
      "source": [
        "# Initialize parameters\n",
        "input_shape = xtrn.shape[1]  # Feature size of embeddings\n",
        "output_units = 6\n",
        "nepochs = 50\n",
        "bsize = 16\n",
        "lrate = 0.001\n",
        "lossfunction = 'categorical_crossentropy'\n",
        "wtrange = 1.0\n",
        "wt_init = tf.keras.initializers.RandomUniform(minval=-wtrange, maxval=wtrange, seed=1111)\n",
        "opt = tf.keras.optimizers.Adam(learning_rate=lrate)\n",
        "# Build the model\n",
        "xin = Input(shape=(input_shape,), name='input_layer')\n",
        "xhid1 = Dense(64, activation='relu', name='hidden_layer1', kernel_initializer=wt_init)(xin)\n",
        "xout = Dense(output_units, activation='softmax', name='output_layer')(xhid1)\n",
        "model = Model(inputs=xin, outputs=xout, name='emotion_model')\n",
        "# Compile the model\n",
        "model.compile(optimizer=opt, loss=lossfunction, metrics=[CategoricalAccuracy(name='accuracy'),\n",
        "        Precision(name='precision')])\n",
        "\n",
        "# Model summary\n",
        "model.summary()\n",
        "\n",
        "\n",
        "# Data generators\n",
        "\n",
        "train_generator = DataGenerator(xtrn, ytrn, batch_size=bsize)\n",
        "val_generator = DataGenerator(xtst, ytst, batch_size=bsize)\n",
        "model.load_weights('ff_initial.h1')\n",
        "\n",
        "# Training the model\n",
        "H = model.fit(x=train_generator, epochs=nepochs, validation_data=val_generator, class_weight=class_weight)"
      ]
    }
  ],
  "metadata": {
    "colab": {
      "provenance": [],
      "authorship_tag": "ABX9TyPlahGR5FXuYTF0AHZxkiZ0",
      "include_colab_link": true
    },
    "kernelspec": {
      "display_name": "Python 3",
      "name": "python3"
    },
    "language_info": {
      "name": "python"
    }
  },
  "nbformat": 4,
  "nbformat_minor": 0
}